{
 "cells": [
  {
   "cell_type": "code",
   "execution_count": 198,
   "id": "9e3839a6-9146-4f60-b74b-19abbc24278d",
   "metadata": {},
   "outputs": [],
   "source": [
    "import os\n",
    "import re\n",
    "from ast import literal_eval\n",
    "from dotenv import load_dotenv\n",
    "import numpy as np\n",
    "import openai\n",
    "import pandas as pd\n",
    "import pickle\n",
    "import tiktoken\n",
    "from tenacity import (\n",
    "    retry,\n",
    "    stop_after_attempt,\n",
    "    wait_random_exponential,\n",
    "    wait_random\n",
    ")  # for exponential backoff\n",
    "\n",
    "load_dotenv()\n",
    "openai.api_key = os.getenv('OPENAI_API_KEY')\n",
    "\n",
    "COMPLETIONS_MODEL = \"gpt-3.5-turbo\"\n",
    "EMBEDDING_MODEL = \"text-embedding-ada-002\""
   ]
  },
  {
   "cell_type": "code",
   "execution_count": 199,
   "id": "2800a49a",
   "metadata": {},
   "outputs": [],
   "source": [
    "df = pd.read_csv('temple_details_v33.csv')\n",
    "df['state'] = df['state'].apply(lambda x: str(x).replace(',','_').replace(' ', '_'))\n",
    "df['temple_name'] = df['temple_name'].apply(lambda x: str(x).replace(',','_').replace(' ', '_'))"
   ]
  },
  {
   "cell_type": "code",
   "execution_count": 110,
   "id": "17196b28",
   "metadata": {},
   "outputs": [],
   "source": [
    "df = df.loc[df['state']=='Karnataka']"
   ]
  },
  {
   "cell_type": "code",
   "execution_count": 200,
   "id": "a8e03ff4",
   "metadata": {},
   "outputs": [],
   "source": [
    "df = df.set_index(['state', 'temple_name', 'sent_grp'])"
   ]
  },
  {
   "cell_type": "code",
   "execution_count": 201,
   "id": "ba475f30-ef7f-431c-b60d-d5970b62ad09",
   "metadata": {},
   "outputs": [],
   "source": [
    "@retry(wait=wait_random_exponential(min=1, max=10), stop=stop_after_attempt(10))\n",
    "# @retry(wait=wait_random(min=60, max=120), stop=stop_after_attempt(10))\n",
    "def get_embedding(text: str, model: str=EMBEDDING_MODEL) -> list[float]:\n",
    "    text = re.sub(r'[^\\w_. -]', ' ', text).replace('  ', ' ')\n",
    "    text = text.strip().encode('latin-1', 'replace').decode('latin-1')\n",
    "    result = openai.Embedding.create(\n",
    "      model=model,\n",
    "      input=text\n",
    "    )\n",
    "    return result[\"data\"][0][\"embedding\"]\n",
    "\n",
    "def compute_doc_embeddings(df: pd.DataFrame) -> dict[tuple[str, str], list[float]]:\n",
    "    \"\"\"\n",
    "    Create an embedding for each row in the dataframe using the OpenAI Embeddings API.\n",
    "    \n",
    "    Return a dictionary that maps between each embedding vector and the index of the row that it corresponds to.\n",
    "    \"\"\"\n",
    "    return {\n",
    "        idx: get_embedding(r.temple_details) for idx, r in df.iterrows()\n",
    "    }"
   ]
  },
  {
   "cell_type": "code",
   "execution_count": 202,
   "id": "737266aa-cbe7-4691-87c1-fce8a31632f1",
   "metadata": {},
   "outputs": [],
   "source": [
    "def load_embeddings(fname: str) -> dict[tuple[str, str], list[float]]:\n",
    "    \"\"\"\n",
    "    Read the document embeddings and their keys from a CSV.\n",
    "    \n",
    "    fname is the path to a CSV with exactly these named columns: \n",
    "        \"title\", \"heading\", \"0\", \"1\", ... up to the length of the embedding vectors.\n",
    "    \"\"\"\n",
    "    \n",
    "    df = pd.read_csv(fname, header=0)\n",
    "    max_dim = max([int(c) for c in df.columns if c != \"state\" and c != \"temple_name\" and c != \"sent_grp\"])\n",
    "    return {\n",
    "           (r.state, r.temple_name, r.sent_grp): [r[str(i)] for i in range(max_dim + 1)] for _, r in df.iterrows()\n",
    "    }"
   ]
  },
  {
   "cell_type": "markdown",
   "id": "cfe9c723-f838-4c75-8ed8-286b2e491a60",
   "metadata": {},
   "source": [
    "Again, we have hosted the embeddings for you so you don't have to re-calculate them from scratch."
   ]
  },
  {
   "cell_type": "code",
   "execution_count": 203,
   "id": "ab50bfca-cb02-41c6-b338-4400abe1d86e",
   "metadata": {},
   "outputs": [],
   "source": [
    "# document_embeddings = load_embeddings(\"ka_temple_details_embeddings_v33.csv\")\n",
    "\n",
    "# ===== OR, uncomment the below line to recaculate the embeddings from scratch. ========\n",
    "\n",
    "document_embeddings = compute_doc_embeddings(df)\n",
    "document_embeddings_df = pd.DataFrame(document_embeddings.items())\n",
    "df2 = document_embeddings_df[0].apply(pd.Series)\n",
    "df2.columns=['state', 'temple_name', 'sent_grp']\n",
    "\n",
    "df3 = document_embeddings_df[1].apply(pd.Series)\n",
    "\n",
    "df2 = pd.concat([df2, df3], axis=1)\n",
    "df2.to_csv('ka_temple_details_embeddings_v33.csv', index=False)"
   ]
  },
  {
   "cell_type": "code",
   "execution_count": 204,
   "id": "b9a8c713-c8a9-47dc-85a4-871ee1395566",
   "metadata": {},
   "outputs": [
    {
     "name": "stdout",
     "output_type": "stream",
     "text": [
      "('Andaman_and_Nicobar_Islands', 'Radhakrishna_Temple__Port_Blair', 0) : [-0.00945287011563778, -0.016709553077816963, 0.0031404830515384674, 0.015981899574398994, -0.021657591685652733]... (1536 entries)\n"
     ]
    }
   ],
   "source": [
    "# An example embedding:\n",
    "example_entry = list(document_embeddings.items())[0]\n",
    "print(f\"{example_entry[0]} : {example_entry[1][:5]}... ({len(example_entry[1])} entries)\")"
   ]
  },
  {
   "cell_type": "code",
   "execution_count": 205,
   "id": "dcd680e9-f194-4180-b14f-fc357498eb92",
   "metadata": {},
   "outputs": [],
   "source": [
    "def vector_similarity(x: list[float], y: list[float]) -> float:\n",
    "    \"\"\"\n",
    "    Returns the similarity between two vectors.\n",
    "    \n",
    "    Because OpenAI Embeddings are normalized to length 1, the cosine similarity is the same as the dot product.\n",
    "    \"\"\"\n",
    "    return np.dot(np.array(x), np.array(y))\n",
    "\n",
    "def order_document_sections_by_query_similarity(query: str, contexts: dict[(str, str), np.array]) -> list[(float, (str, str))]:\n",
    "    \"\"\"\n",
    "    Find the query embedding for the supplied query, and compare it against all of the pre-calculated document embeddings\n",
    "    to find the most relevant sections. \n",
    "    \n",
    "    Return the list of document sections, sorted by relevance in descending order.\n",
    "    \"\"\"\n",
    "    query_embedding = get_embedding(query)\n",
    "    \n",
    "    document_similarities = sorted([\n",
    "        (vector_similarity(query_embedding, doc_embedding), doc_index) for doc_index, doc_embedding in contexts.items()\n",
    "    ], reverse=True)\n",
    "    \n",
    "    return document_similarities"
   ]
  },
  {
   "cell_type": "code",
   "execution_count": 206,
   "id": "e3a27d73-f47f-480d-b336-079414f749cb",
   "metadata": {},
   "outputs": [
    {
     "data": {
      "text/plain": [
       "[(0.8603180717723647, ('Karnataka', 'Sringeri__Chikkamagaluru__karnataka', 0)),\n",
       " (0.851757872744669,\n",
       "  ('Tamil_Nadu', 'Chakravageswarar_Temple__Chakkarapalli__Thanjavur', 0)),\n",
       " (0.8484748320969646, ('Maharashtra', 'Vigneshwara_Temple__Pune', 1)),\n",
       " (0.8464409085203293,\n",
       "  ('Tamil_Nadu', 'Parthasarathy_Temple__Triplicane__Chennai', 7)),\n",
       " (0.8461109553508559, ('Karnataka', 'Siddalingeshwar_Temple__Yadagiri', 0))]"
      ]
     },
     "execution_count": 206,
     "metadata": {},
     "output_type": "execute_result"
    }
   ],
   "source": [
    "order_document_sections_by_query_similarity(\"List all the temples in Sringeri\", document_embeddings)[:5]"
   ]
  },
  {
   "cell_type": "code",
   "execution_count": 207,
   "id": "b763ace2-1946-48e0-8ff1-91ba335d47a0",
   "metadata": {},
   "outputs": [
    {
     "data": {
      "text/plain": [
       "'Context separator contains 3 tokens'"
      ]
     },
     "execution_count": 207,
     "metadata": {},
     "output_type": "execute_result"
    }
   ],
   "source": [
    "MAX_SECTION_LEN = 3500\n",
    "SEPARATOR = \"\\n* \"\n",
    "ENCODING = \"cl100k_base\"  # encoding for text-davinci-003\n",
    "\n",
    "encoding = tiktoken.get_encoding(ENCODING)\n",
    "separator_len = len(encoding.encode(SEPARATOR))\n",
    "\n",
    "f\"Context separator contains {separator_len} tokens\""
   ]
  },
  {
   "cell_type": "code",
   "execution_count": 208,
   "id": "b1a9692b",
   "metadata": {},
   "outputs": [],
   "source": [
    "def construct_prompt(question: str, context_embeddings: dict, df: pd.DataFrame) -> str:\n",
    "    \"\"\"\n",
    "    Fetch relevant \n",
    "    \"\"\"\n",
    "    most_relevant_document_sections = order_document_sections_by_query_similarity(question, context_embeddings)\n",
    "    \n",
    "    chosen_sections = []\n",
    "    chosen_sections_len = 0\n",
    "    chosen_sections_indexes = []\n",
    "     \n",
    "    for _, section_index in most_relevant_document_sections:\n",
    "        print(section_index)\n",
    "        # Add contexts until we run out of space.        \n",
    "        document_section = df.loc[section_index].iloc[0]\n",
    "        \n",
    "        chosen_sections_len += document_section.tokens + separator_len\n",
    "        if chosen_sections_len > MAX_SECTION_LEN:\n",
    "            break\n",
    "            \n",
    "        chosen_sections.append(SEPARATOR + 'State: ' + section_index[0] + ', Temple_City: ' + section_index[1] + ', Temple Details: ' +\n",
    "        document_section['temple_details'].replace(\"\\n\", \" \"))\n",
    "        chosen_sections_indexes.append(str(section_index))\n",
    "            \n",
    "    # Useful diagnostic information\n",
    "    # print(f\"Selected {len(chosen_sections)} document sections:\")\n",
    "    # print(\"\\n\".join(chosen_sections_indexes))\n",
    "    \n",
    "    # header = \"\"\"Answer the question as truthfully as possible using the provided context, and if the answer is not specified within the text below, say \"I don't know.\"\\n\\nContext:\\n\"\"\"\n",
    "    header = \"\"\"Answer truthfully based on context.\\n\\nIf users ask for a list, try finding relevant contexts and create a list from them.\\n\\nContext:\\n\"\"\"\n",
    "    # header = \"\"\"\\n\\nContext:\\n\"\"\"\n",
    "    \n",
    "    return header + \"\".join(chosen_sections) + \"\\n\\n Q: \" + question + \"\\n A:\""
   ]
  },
  {
   "cell_type": "code",
   "execution_count": 209,
   "id": "f614045a-3917-4b28-9643-7e0c299ec1a7",
   "metadata": {},
   "outputs": [
    {
     "name": "stdout",
     "output_type": "stream",
     "text": [
      "('Karnataka', 'Sringeri__Chikkamagaluru__karnataka', 0)\n",
      "('Tamil_Nadu', 'Chakravageswarar_Temple__Chakkarapalli__Thanjavur', 0)\n",
      "('Maharashtra', 'Vigneshwara_Temple__Pune', 1)\n",
      "('Tamil_Nadu', 'Parthasarathy_Temple__Triplicane__Chennai', 7)\n",
      "('Karnataka', 'Siddalingeshwar_Temple__Yadagiri', 0)\n",
      "('Tamil_Nadu', 'Sri_Pandurangan_Temple__Thennangur', 2)\n",
      "('Karnataka', 'Dharmaraya_Swamy_Temple__Â\\xa0Bengaluru__Karnataka', 1)\n",
      "('Odisha', 'Swarnadhisvara_Siva_Temple__Bhubaneswar__Odisha', 0)\n",
      "('Tamil_Nadu', 'Subramanya_Swamy_Temple__Kailasagiri__Gadambur__Vellore', 0)\n",
      "('Tamil_Nadu', 'Sangameswarar_Temple__Erode__Tamil_Nadu', 1)\n",
      "('Tamil_Nadu', 'Jambukeswarar_Temple__Tiruchirappalli__Tamil_Nadu', 1)\n",
      "('Kerala', 'Ananthapura_Lake_Temple__Kasaragod__Kerala', 1)\n",
      "('Tamil_Nadu', 'Ekambareswarar_Temple__Kanchipuram__Tamil_Nadu', 1)\n",
      "('Tamil_Nadu', 'Sampangi_Pitchaaleeswarar_Temple__Arani__Thiruvallur', 0)\n",
      "===\n",
      " Answer truthfully based on context.\n",
      "\n",
      "If users ask for a list, try finding relevant contexts and create a list from them.\n",
      "\n",
      "Context:\n",
      "\n",
      "* State: Karnataka, Temple_City: Sringeri__Chikkamagaluru__karnataka, Temple Details: Sringeri, Chikkamagaluru, karnataka SringeriÂ (à²¶à³à²à²à³à²°à²¿ ) also calledÂ Sri KshetraÂ ShringeriÂ is a hill town andÂ TalukÂ headquarters located inÂ Chikkamagaluru districtÂ in the state ofÂ Karnataka, It is the site of the firstÂ maá¹­haÂ (Sringeri Sharada Peetham) established byÂ Adi Shankara,Â HinduÂ theologian and exponent of theÂ Advaita VedantaÂ philosophy, in the 8th centuryÂ CEÂ It is located on the banks of the riverÂ TungÄÂ .The name Sringeri is derived from Rishyashringa-giri, a nearby hill that is believed to have contained the heritage ofÂ RishiVibhandaka and his sonÂ Rishyashringa.\n",
      "* State: Tamil_Nadu, Temple_City: Chakravageswarar_Temple__Chakkarapalli__Thanjavur, Temple Details: Chakravageswarar Temple,Â Chakkarapalli,Â Thanjavur The sanctum sanctorum is built of stone. There are not too many sculptures in the tower. Vinayagar, Dhakshinamoorthy, Lingothbavar, Brahma and Durgai are the Koshta Idols located on the sanctum walls. Mother is called as Devanayaki and is facing south.Â Shrine of the Goddess can be found on the right side after the entering the temple. The Maha Mandapa has the shrines of Sun, Moon, Bhairavar, a Bana Linga and Nalvar the four Saivite saints â Tirugnanasambandar, Thirunavukkarasar, Sundarar and Manickavasagar. There are shrines for Ganapathy, Valli Devasena samedha Subramaniyar and Sandikeswarar in the outer prakaram. Sthala Vriksham is Vilwa Tree. Theerthams associated with thisÂ Temple are River Cauvery and Kaka Theertham. There are inscriptions from the period of Kulottunga III that bear testimony to the democratic norms of the times.\n",
      "* State: Maharashtra, Temple_City: Vigneshwara_Temple__Pune, Temple Details: One can view the Lenyadri shrine andÂ Shivneri FortÂ standing on the wall. Two large stoneÂ DeepamalasÂ (lamp towers) stand near the gateway in front of a fine corridor of seven cusped arches.\n",
      "* State: Tamil_Nadu, Temple_City: Parthasarathy_Temple__Triplicane__Chennai, Temple Details: Saptha Rishis worshipped Lord Vishnu here: As per Hindu legend,Â Saptarishis, the seven sages worshipped five deities Panchaveeras, namely, Venkata Krishnaswamy, Rukmini, Satyaki, Balarama, Pradyumna and Aniruddha. Allikeni: The place is called Allikeni, meaning a pond of lily as it is believed that historically the place was full of lily ponds. Lord Vishnu sporting a mustache here: The place is the only place where the presiding deity is sported with a mustache. Brindaranya: The purana refers to the area as Brindaranya because of theÂ ThulasiÂ (Brinda) plants here. Notable personalities association with this temple: Thyagarajar, Muthuswamy Dikshitar and Bharathiyar lived here. Vivekananda also visited this temple. Tiruvallikeni is noted for its colourful festivals throughout the year. The recitation of the 4,000 hymns of the Azhwars is a great tradition preserved in this temple for generations. During festival days, the place is given a new look and accompanied by various traditional rites. Triplicane is known for celebrations held throughout the year. There are festivals held specifically for each of the deities round the year.\n",
      "* State: Karnataka, Temple_City: Siddalingeshwar_Temple__Yadagiri, Temple Details: Siddalingeshwar Temple It is a panchakuta temple with four separate âgarbhagruhaâ An intricate architecture model which is arranged in four directions The ceiling of the navaranga are attractive and the pillars carry beautiful carvings. Journey towards Gurmitkal from Yadgir which is about 30km. Yadgir K Rural, Karnataka 585201\n",
      "* State: Tamil_Nadu, Temple_City: Sri_Pandurangan_Temple__Thennangur, Temple Details: All the deities related to Sri Chakra worship are in this temple.Â It is especially noteworthy that all the deities related to Sri Chakra â Maha Shodasi, Rajarajeshwari, Saraswathi, Lakshmi, Brahmma, Vishnu, Rudra, Easwara, Vinayaka, Bala, Annapoorani, Ashwaruda, Rajamadhangi, Varahi, Prathyangira, Sarabeswara, Chakrathaazhwar, Brahmi, Yoga Narasimha, Agoramurthy, Vanadurga, Parasaraswathi, Medha Dakshinamurthy, Subramanya, Chandi Mahalakshmi, Maheswari, Gaumari, Vaishnavi, Mahendri, Chamunda, Mahalakshmi are in the temple in idol forms. Lord appears in fruit Alankara on the Tamil New Year day-Vishu Kani Utsav.Â On the Gokhulashtami day, Vaishnava Muthangi Sevai is followed. Lord appears in many alluring forms as Rajagopala, Giridhari holding the Govardhana Hill, as Geethacharya, as Parthasarathy and Radhakrishna. It is said that Lord played his flute under the Thamala tree (the sacred tree of the temple) in Dwapara Yuga which drew Radha towards him.Â It is noteworthy that this Thamala tree is brought to South.Â Dwarapalaka idols are made of Panchaloka â a mixture of five metals. The famous Sri Panduranga temple was built with a combination of northern and southern styles of architecture. The temple resembles the Puri Jagannath temple in Orissa and its front gopurams are constructed in the Pallava style of architecture.\n",
      "* State: Karnataka, Temple_City: Dharmaraya_Swamy_Temple__Â Bengaluru__Karnataka, Temple Details: Sri Dharmaraya Swamy temple was built in the Sidhikatte lake bed area & it is below the land level that existed prior to current Bangalore. It is also learnt that this old town was called asÂ Kalyanapuri,Â a Town of Temples, Ponds & Religious centres. Later, it was named as âBendhakaluruâ and then as âBengaluruâ. Â  The temple resembles the architectural features of theÂ Gangas, theÂ PallavasÂ and theÂ VijayanagaraÂ styles. The garbhagruha is in Ganga style, the vimanagopura is in Pallava style and the mukhamantapa is in Vijayanagar style, which shows the development of this temple in three different ages. The fourth stage of development of rajagopura and sabhangana was taken up in the 20th century. The earlier rajagopura was built well before Kempe gowda founded Bangalore in the year 1530 A.D. Kempe Gowda was an ardent devotee of this temple. Bangalore city was designed keeping this temple as its reference.\n",
      "* State: Odisha, Temple_City: Swarnadhisvara_Siva_Temple__Bhubaneswar__Odisha, Temple Details: Swarnadhisvara Siva Temple, Bhubaneswar, Odisha TheÂ Swarnadhisvara Siva templeÂ is located in the northern side of the road leading fromÂ Lingaraj TempleÂ to Kedar Gouri. inÂ Bhubaneswar, the capital of the state ofÂ Orissa. The temple is facing towards east. The enshrined deity is a Siva lingam within a circular yoni pitha. The Sanctum measures 1.5 square m which is 2 m below the present ground level. The temple is made of laterite. It is an abandoned and a non-living temple. The temple was built in the LateÂ GangaÂ period in the 13th Century CE. Official Address\n",
      "* State: Tamil_Nadu, Temple_City: Subramanya_Swamy_Temple__Kailasagiri__Gadambur__Vellore, Temple Details: Subramanya Swamy Temple, Kailasagiri, Gadambur, Vellore Aadi Kiruthigai, Kiruthigai days, Karthigai deepam and Thai Kiruthigai are the festivals celebrated here with much fanfare. Kailasagiri has a range of hills and innumerable herbs have spread all over the hill. Sick persons afflicted with incurable diseases come here, get cured and recover completely. People who have lung diseases will be cured almost instantly by walking to top of the hill through steps. Folklore about a Shiva Temple: As per the local folklore, there was a Sivan temple and seven ponds on top of the hill. The main ponds are Theppa Kulam (Thamarai Kulam) and Green (Pachai) Kulam, Surya Kulam (Pond) and Yanai (Elephant) Kulam. Kulam means Pond. The Mughal rulers demolished the temple and threw everything in the pond. Much later that is around 200 years back, this Murugan (Kartik) temple was built during the British period. Achudhananda SwamyÂ attained Nirvikalpa Samadhi here: Age old devotees believe thatÂ Sri Achudhananda SwamyÂ received initiation fromÂ Sri Nijananda SwamyÂ in this holy Hill.\n",
      "* State: Tamil_Nadu, Temple_City: Sangameswarar_Temple__Erode__Tamil_Nadu, Temple Details: The mainÂ GopuramÂ with 5 tiers is located on the north side of the temple. The presiding deity is Lord Shiva known as Sangameswarar along with his consort Pannaar Mozhiyaal or Vedanayagi. A shrine dedicated toÂ KartikeyaÂ is situated between the shrines of Siva and Parvati. There is also separate shrine inside the temple for LordÂ VishnuÂ and his consort Soundaravalli Thaayar. The stala vriksham is an ilandai (Zizyphus mauritiana) tree. The annual Brahmotsavam is celebrated in theÂ Tamil monthÂ of Chitrai. Rock status of this temple represents the beauty of stone carving and the culture of the people. When water or milk poured on the two identical stone statues in front ofÂ ambal sannidhi- Hindu goddess, one smiles at you, while the other sheds tears at you. The temple got a preciousÂ AmbalÂ statue, a Hindu goddess donated by a district collector during British period for saving his life. Of all the seven holy Shiva centers of the Kongu Region,Â BhavaniÂ is known asÂ ThirunanaÂ in script.\n",
      "* State: Tamil_Nadu, Temple_City: Jambukeswarar_Temple__Tiruchirappalli__Tamil_Nadu, Temple Details: It is one of the 275Â Paadal Petra Sthalams, where all the four most reveredÂ NayanarsÂ (SaiviteÂ Saints) have sung glories of the deity in this temple. The temple has inscriptions from theÂ CholaÂ period. As perÂ Fergusson, the temple surpasses the Srirangam Ranganathaswamy temple in architectural terms, which were both constructed at the same time.Â There are five enclosures inside the temple. The massive outer wall covering the fifth precinct, known as theÂ Vibudi Prakara, stretches over a mile and is two feet thick and over 25 feet high. Legend maintains that the wall was built by Shiva working with the laborers.The fourth precinct contains a hall with 796 pillars and measures 2436 feet by 1493.Â It also has a small tank fed by perpetual springs.The third enclosure is 745 feet by 197 surrounded a wall 30 feet high. This area has twoÂ gopuramsÂ (gateway towers) 73 and 100 feet tall, a coconutÂ thoppuÂ and a small water tank.The second enclosure is 306 feet by 197, aÂ gopuramÂ 65 feet high and several small shrines.The inner most enclosure measuring 126 feet by 123 has the sanctum.The sanctum sanctorum is a square structure, found independently situated at the center of the innermost enclosure. There is aÂ vimanaÂ on the roof of the sanctum.\n",
      "* State: Kerala, Temple_City: Ananthapura_Lake_Temple__Kasaragod__Kerala, Temple Details: The temple is unique in its structural aspects for it is erected in the middle of an impressive lake of 302 feet. The lake is gifted with a perennial supply of pure spring water. We can find the ruins of temples all round the lake which stand testimony to the fact that it was part of a great temple complex. TheÂ sreekovilÂ (sanctum sanctorum), namaskara-mandapam, thitappalli, and shrines of Jala-Durga and the entrance of the cave are located in the lake. The namaskara mandapam is connected to the eastern rock by a foot-bridge which is the only passage to the sreekovil. The principal deity is Lord Vishnu. One of the key features of the temple is that the original idols in the sanctum sanctorum were not made of metal or stone, but of a rare combination of more than 70 medicinal materials called `kadu-sharkara-yogam.â These idols were replaced byÂ panchalohaÂ metals in 1972. They were donated by Kaanchi Kaamakoti Mathaadhipathi His HolinessÂ Jayendra SaraswathiÂ Thiruvatikal.\n",
      "* State: Tamil_Nadu, Temple_City: Ekambareswarar_Temple__Kanchipuram__Tamil_Nadu, Temple Details: The temple complex covers 25 acres, and is one of the largest in India. It houses four gateway towers known asÂ gopurams. The tallest is the southern tower, with 11 stories and a height of 55 metres (180Â ft), making it one of the tallest temple towers in India. The temple has numerous shrines, with those of Ekambareswarar and Nilathingal Thundam Perumal being the most prominent. The temple complex houses many halls; the most notable is the thousand-pillared hall built during theÂ Vijayanagar period. The temple has six daily rituals at various times fromÂ 5:30Â a.m. to 10 p.m., and twelve yearly festivals on its calendar.Â Panguni UthiramÂ festival celebrated for thirteen days during theÂ Tamil monthÂ ofÂ PanguniÂ (March â April) is the most prominent festival of the temple and the town. The present masonry structure was built during theÂ Chola dynastyÂ in the 9th century, while later expansions are attributed to Vijayanagar rulers. The temple is maintained and administered by theÂ Hindu Religious and Charitable Endowments DepartmentÂ of theÂ Government of Tamil Nadu. The temple is the largest and one of the most prominent tourist attractions in the city.\n",
      "\n",
      " Q: List all the temples in Sringeri\n",
      " A:\n"
     ]
    },
    {
     "name": "stderr",
     "output_type": "stream",
     "text": [
      "C:\\Users\\003GHU744\\AppData\\Local\\Temp\\ipykernel_14152\\1057417536.py:14: PerformanceWarning: indexing past lexsort depth may impact performance.\n",
      "  document_section = df.loc[section_index].iloc[0]\n"
     ]
    }
   ],
   "source": [
    "prompt = construct_prompt(\n",
    "    \"List all the temples in Sringeri\",\n",
    "    document_embeddings,\n",
    "    df\n",
    ")\n",
    "\n",
    "print(\"===\\n\", prompt)"
   ]
  },
  {
   "cell_type": "code",
   "execution_count": 210,
   "id": "9c1c9a69-848e-4099-a90d-c8da36c153d5",
   "metadata": {},
   "outputs": [],
   "source": [
    "def answer_query_with_context(\n",
    "    query: str,\n",
    "    df: pd.DataFrame,\n",
    "    document_embeddings: dict[(str, str), np.array],\n",
    "    show_prompt: bool = False\n",
    ") -> str:\n",
    "    prompt = construct_prompt(\n",
    "        query,\n",
    "        document_embeddings,\n",
    "        df\n",
    "    )\n",
    "    \n",
    "    if show_prompt:\n",
    "        print(prompt)\n",
    "\n",
    "    response = openai.ChatCompletion.create(\n",
    "    model=COMPLETIONS_MODEL,\n",
    "    messages=[{'role': 'user', 'content': prompt}]\n",
    "    )\n",
    "\n",
    "    return response[\"choices\"][0][\"message\"][\"content\"].strip(\" \\n\")"
   ]
  },
  {
   "cell_type": "code",
   "execution_count": 211,
   "id": "c891c354",
   "metadata": {},
   "outputs": [
    {
     "name": "stdout",
     "output_type": "stream",
     "text": [
      "('Karnataka', 'Sringeri__Chikkamagaluru__karnataka', 0)\n",
      "('Tamil_Nadu', 'Chakravageswarar_Temple__Chakkarapalli__Thanjavur', 0)\n",
      "('Maharashtra', 'Vigneshwara_Temple__Pune', 1)\n",
      "('Tamil_Nadu', 'Parthasarathy_Temple__Triplicane__Chennai', 7)\n",
      "('Karnataka', 'Siddalingeshwar_Temple__Yadagiri', 0)\n",
      "('Tamil_Nadu', 'Sri_Pandurangan_Temple__Thennangur', 2)\n",
      "('Karnataka', 'Dharmaraya_Swamy_Temple__Â\\xa0Bengaluru__Karnataka', 1)\n",
      "('Odisha', 'Swarnadhisvara_Siva_Temple__Bhubaneswar__Odisha', 0)\n",
      "('Tamil_Nadu', 'Subramanya_Swamy_Temple__Kailasagiri__Gadambur__Vellore', 0)\n",
      "('Tamil_Nadu', 'Sangameswarar_Temple__Erode__Tamil_Nadu', 1)\n",
      "('Tamil_Nadu', 'Jambukeswarar_Temple__Tiruchirappalli__Tamil_Nadu', 1)\n",
      "('Kerala', 'Ananthapura_Lake_Temple__Kasaragod__Kerala', 1)\n",
      "('Tamil_Nadu', 'Ekambareswarar_Temple__Kanchipuram__Tamil_Nadu', 1)\n",
      "('Tamil_Nadu', 'Sampangi_Pitchaaleeswarar_Temple__Arani__Thiruvallur', 0)\n"
     ]
    },
    {
     "name": "stderr",
     "output_type": "stream",
     "text": [
      "C:\\Users\\003GHU744\\AppData\\Local\\Temp\\ipykernel_14152\\1057417536.py:14: PerformanceWarning: indexing past lexsort depth may impact performance.\n",
      "  document_section = df.loc[section_index].iloc[0]\n"
     ]
    },
    {
     "data": {
      "text/plain": [
       "'- Sringeri Sharada Peetham'"
      ]
     },
     "execution_count": 211,
     "metadata": {},
     "output_type": "execute_result"
    }
   ],
   "source": [
    "answer_query_with_context(\"List all the temples in Sringeri\", df, document_embeddings)"
   ]
  },
  {
   "cell_type": "code",
   "execution_count": 212,
   "id": "c233e449-bf33-4c9e-b095-6a4dd278c8fd",
   "metadata": {},
   "outputs": [
    {
     "name": "stdout",
     "output_type": "stream",
     "text": [
      "('Karnataka', 'Ghati_Subramanya__Bangalore__Karnataka', 2)\n",
      "('Karnataka', 'Ghati_Subramanya__Bangalore__Karnataka', 0)\n",
      "('Kerala', 'Vaikom_Temple__Kottayam__Kerala', 1)\n",
      "('Kerala', 'Thirunavaya_Navamukunda_Temple__Malappuram__kerala', 3)\n",
      "('Karnataka', 'Kukke_Subramanya_Temple__Dakshina_Kannada__karnataka', 0)\n",
      "('Uttarakhand', 'Guptakashi__Rudraprayag__Uttrakhand', 2)\n",
      "('Karnataka', 'Kodlamane__Uttara_kannada__Karnataka', 1)\n",
      "('Kerala', 'Chottanikkara_Temple__Ernakulam__Kerala', 1)\n",
      "('Gujarat', 'Sun_Temple__Modhera__Mehsana__Gujarat', 1)\n",
      "('Kerala', 'Kottiyoor_Temple__kannur__Kerala', 2)\n",
      "('Odisha', 'Jaleswar_Siva_Temple_Precinct___Bhubaneswar__Odisha', 3)\n",
      "('Tamil_Nadu', 'Kandhaswamy_Temple__Cheyyur__Kanchipuram', 5)\n"
     ]
    },
    {
     "name": "stderr",
     "output_type": "stream",
     "text": [
      "C:\\Users\\003GHU744\\AppData\\Local\\Temp\\ipykernel_14152\\1057417536.py:14: PerformanceWarning: indexing past lexsort depth may impact performance.\n",
      "  document_section = df.loc[section_index].iloc[0]\n"
     ]
    },
    {
     "data": {
      "text/plain": [
       "'The difference between Kukke Subramanya Temple and Ghati Subramanya Temple is that Kukke Subramanya Temple is located in the village of Subramanya and worships Kartikeya as Subramanya, lord of all serpents, while Ghati Subramanya Temple is located on the outskirts of Bangalore near Tubagere, Doddaballapura and is one of the major spots for snake worship in Southern India, with the prime deity Lord Karthikeya found together with Lord Narasimha.'"
      ]
     },
     "execution_count": 212,
     "metadata": {},
     "output_type": "execute_result"
    }
   ],
   "source": [
    "answer_query_with_context(\"What is different between kukke and ghati subrahmanya temples?\", df, document_embeddings)"
   ]
  },
  {
   "cell_type": "code",
   "execution_count": 213,
   "id": "82cfcff5",
   "metadata": {},
   "outputs": [
    {
     "name": "stdout",
     "output_type": "stream",
     "text": [
      "('Karnataka', 'Devarayanadurga__Tumkuru__karnatka', 0)\n",
      "('Karnataka', 'Chamundeshwari_Temple__Mysore__karnataka', 3)\n",
      "('Karnataka', 'Chamundeshwari_Temple__Mysore__karnataka', 0)\n",
      "('Tamil_Nadu', 'Subramanya_Swamy_Temple__Kailasagiri__Gadambur__Vellore', 0)\n",
      "('Karnataka', 'Chamundeshwari_Temple__Mysore__karnataka', 4)\n",
      "('Karnataka', 'Dharmaraya_Swamy_Temple__Â\\xa0Bengaluru__Karnataka', 1)\n",
      "('Karnataka', 'Dodda_Basavana_Gudi__Bengaluru__Karnataka', 1)\n",
      "('Karnataka', 'Halebidu__Hassan__Karnataka', 2)\n",
      "('Karnataka', 'Marikamba_Temple__Sirsi__Karnataka', 0)\n",
      "('Karnataka', 'Amrutesvara_Temple__Amruthapura__Chikkamagaluru__Karnataka', 3)\n",
      "('Karnataka', 'Amrutesvara_Temple__Amruthapura__Chikkamagaluru__Karnataka', 6)\n",
      "('Karnataka', 'Galageshwara_Temple__Haveri', 0)\n",
      "('Tamil_Nadu', 'Thirukkadigai_Temple__Sholinghur__Vellore', 9)\n"
     ]
    },
    {
     "name": "stderr",
     "output_type": "stream",
     "text": [
      "C:\\Users\\003GHU744\\AppData\\Local\\Temp\\ipykernel_14152\\1057417536.py:14: PerformanceWarning: indexing past lexsort depth may impact performance.\n",
      "  document_section = df.loc[section_index].iloc[0]\n"
     ]
    },
    {
     "data": {
      "text/plain": [
       "'Bhoganarasimha, Yoganarasimha and Laxmi Narasimha at Devarayanadurga in Tumkuru, and Chamundeshwari Temple at Chamundi Hills in Mysore are the hill top temples in Karnataka mentioned in the given context.'"
      ]
     },
     "execution_count": 213,
     "metadata": {},
     "output_type": "execute_result"
    }
   ],
   "source": [
    "answer_query_with_context(\"What are the hill top temples in karnataka?\", df, document_embeddings)"
   ]
  },
  {
   "cell_type": "code",
   "execution_count": 129,
   "id": "efcc1ddd",
   "metadata": {},
   "outputs": [
    {
     "name": "stdout",
     "output_type": "stream",
     "text": [
      "('Karnataka', 'Dharmaraya_Swamy_Temple__Â\\xa0Bengaluru__Karnataka', 1)\n",
      "('Karnataka', 'Dharmaraya_Swamy_Temple__Â\\xa0Bengaluru__Karnataka', 0)\n",
      "('Karnataka', 'Gavi_Gangadhareshwara_Temple__Bengaluru__Karnataka', 0)\n",
      "('Karnataka', 'Shree_Vishnumurthy_Temple__Mangalore__karnataka', 1)\n",
      "('Karnataka', 'Dodda_Basavana_Gudi__Bengaluru__Karnataka', 0)\n",
      "('Karnataka', 'Amrutesvara_Temple__Amruthapura__Chikkamagaluru__Karnataka', 3)\n",
      "('Karnataka', 'Chennakeshava_Temple__Belur__Hassan__Karnataka', 1)\n",
      "('Karnataka', 'Marikamba_Temple__Sirsi__Karnataka', 0)\n",
      "('Karnataka', 'Dharmaraya_Swamy_Temple__Â\\xa0Bengaluru__Karnataka', 2)\n",
      "('Karnataka', 'Halebidu__Hassan__Karnataka', 2)\n",
      "('Karnataka', 'Hoysaleswara_Temple__Hassan__karnataka', 3)\n"
     ]
    },
    {
     "name": "stderr",
     "output_type": "stream",
     "text": [
      "C:\\Users\\003GHU744\\AppData\\Local\\Temp\\ipykernel_14152\\1047947636.py:14: PerformanceWarning: indexing past lexsort depth may impact performance.\n",
      "  document_section = df.loc[section_index].iloc[0]\n"
     ]
    },
    {
     "data": {
      "text/plain": [
       "'The oldest temple in Bengaluru is Sri Dharmaraya Swamy temple. It is believed to be about 800 years old and was built by the Ganga Arasu people.'"
      ]
     },
     "execution_count": 129,
     "metadata": {},
     "output_type": "execute_result"
    }
   ],
   "source": [
    "answer_query_with_context(\"What is the oldest temple in bengaluru?\", df, document_embeddings)"
   ]
  },
  {
   "cell_type": "code",
   "execution_count": 130,
   "id": "a80df7a8",
   "metadata": {},
   "outputs": [
    {
     "name": "stdout",
     "output_type": "stream",
     "text": [
      "('Karnataka', 'Dharmaraya_Swamy_Temple__Â\\xa0Bengaluru__Karnataka', 1)\n",
      "('Karnataka', 'Gavi_Gangadhareshwara_Temple__Bengaluru__Karnataka', 0)\n",
      "('Karnataka', 'Dharmaraya_Swamy_Temple__Â\\xa0Bengaluru__Karnataka', 0)\n",
      "('Karnataka', 'Dharmaraya_Swamy_Temple__Â\\xa0Bengaluru__Karnataka', 2)\n",
      "('Karnataka', 'Hoysaleshwara_Temple__Hassan', 0)\n",
      "('Karnataka', 'Chennakeshava_Temple__Belur__Hassan__Karnataka', 1)\n",
      "('Karnataka', 'Dodda_Basavana_Gudi__Bengaluru__Karnataka', 1)\n",
      "('Karnataka', 'Halebidu__Hassan__Karnataka', 2)\n",
      "('Karnataka', 'Amrutesvara_Temple__Amruthapura__Chikkamagaluru__Karnataka', 3)\n",
      "('Karnataka', 'Marikamba_Temple__Sirsi__Karnataka', 0)\n",
      "('Karnataka', 'Chennakesava_Temple__Somanathapura__Mysore__Karnataka', 6)\n"
     ]
    },
    {
     "name": "stderr",
     "output_type": "stream",
     "text": [
      "C:\\Users\\003GHU744\\AppData\\Local\\Temp\\ipykernel_14152\\1047947636.py:14: PerformanceWarning: indexing past lexsort depth may impact performance.\n",
      "  document_section = df.loc[section_index].iloc[0]\n"
     ]
    },
    {
     "data": {
      "text/plain": [
       "'The Sri Dharmaraya Swamy temple and Gavi Gangadhareshwara Temple are two old temples in Bengaluru mentioned in the given context.'"
      ]
     },
     "execution_count": 130,
     "metadata": {},
     "output_type": "execute_result"
    }
   ],
   "source": [
    "answer_query_with_context(\"What are the other old temples in bengaluru?\", df, document_embeddings)"
   ]
  },
  {
   "cell_type": "code",
   "execution_count": 131,
   "id": "39ba562c",
   "metadata": {},
   "outputs": [
    {
     "name": "stdout",
     "output_type": "stream",
     "text": [
      "('Karnataka', 'Padutirupathi__Udupi__Karnataka', 5)\n",
      "('Karnataka', 'Dharmasthala_Temple__Dakshina_Kannada__Karnataka', 1)\n",
      "('Karnataka', 'Chennakesava_Temple__Somanathapura__Mysore__Karnataka', 5)\n",
      "('Karnataka', 'Cheluvanarayana_Swamy_Temple__Mandya__Karnataka', 6)\n",
      "('Karnataka', 'Annapoorneshwari_Temple__Horanadu__Karnataka', 3)\n",
      "('Karnataka', 'Murdeshwar__Uttara_Kannada__Karnataka', 0)\n",
      "('Karnataka', 'Aihole__Bagalkot__Karnataka', 2)\n",
      "('Karnataka', 'Chennakesava_Temple__Somanathapura__Mysore__Karnataka', 4)\n",
      "('Karnataka', 'Padutirupathi__Udupi__Karnataka', 1)\n",
      "('Karnataka', 'Badami__Bagalkot__Karnataka', 3)\n",
      "('Karnataka', 'Kodlamane__Uttara_kannada__Karnataka', 0)\n",
      "('Karnataka', 'Papnash_Shiva_Temple__Bidar', 0)\n"
     ]
    },
    {
     "name": "stderr",
     "output_type": "stream",
     "text": [
      "C:\\Users\\003GHU744\\AppData\\Local\\Temp\\ipykernel_14152\\1047947636.py:14: PerformanceWarning: indexing past lexsort depth may impact performance.\n",
      "  document_section = df.loc[section_index].iloc[0]\n"
     ]
    },
    {
     "data": {
      "text/plain": [
       "'The document provides information about various temples in the state of Karnataka, their locations, history, and details about the deities and rituals associated with them.'"
      ]
     },
     "execution_count": 131,
     "metadata": {},
     "output_type": "execute_result"
    }
   ],
   "source": [
    "answer_query_with_context(\"what is the document about?\", df, document_embeddings)"
   ]
  },
  {
   "cell_type": "code",
   "execution_count": 132,
   "id": "15ab9027",
   "metadata": {},
   "outputs": [
    {
     "name": "stdout",
     "output_type": "stream",
     "text": [
      "('Karnataka', 'Cheluvanarayana_Swamy_Temple__Mandya__Karnataka', 0)\n",
      "('Karnataka', 'Chamundeshwari_Temple__Mysore__karnataka', 4)\n",
      "('Karnataka', 'Amrutesvara_Temple__Amruthapura__Chikkamagaluru__Karnataka', 5)\n",
      "('Karnataka', 'Cheluvanarayana_Swamy_Temple__Mandya__Karnataka', 5)\n",
      "('Karnataka', 'Dharmaraya_Swamy_Temple__Â\\xa0Bengaluru__Karnataka', 2)\n",
      "('Karnataka', 'Chamundeshwari_Temple__Mysore__karnataka', 7)\n",
      "('Karnataka', 'Amrutesvara_Temple__Amruthapura__Chikkamagaluru__Karnataka', 6)\n",
      "('Karnataka', 'Chamundeshwari_Temple__Mysore__karnataka', 1)\n",
      "('Karnataka', 'Tarakeshwara_Temple__Haveri', 0)\n",
      "('Karnataka', 'Chamundeshwari_Temple__Mysore__karnataka', 0)\n",
      "('Karnataka', 'Cheluvanarayana_Swamy_Temple__Mandya__Karnataka', 4)\n"
     ]
    },
    {
     "name": "stderr",
     "output_type": "stream",
     "text": [
      "C:\\Users\\003GHU744\\AppData\\Local\\Temp\\ipykernel_14152\\1047947636.py:14: PerformanceWarning: indexing past lexsort depth may impact performance.\n",
      "  document_section = df.loc[section_index].iloc[0]\n"
     ]
    },
    {
     "data": {
      "text/plain": [
       "'1. Chamundeshwari Temple, Mysore\\n2. Cheluvanarayana Swamy Temple, Mandya\\n3. Jwalamuki Shri Tripurasundari Temple, Utthanahalli (near Chamundeshwari Temple, Mysore)\\n4. Dharmaraya Swamy Temple, Bengaluru (not near Mysore, but in the state of Karnataka)\\n5. Amrutesvara Temple, Amruthapura, Chikkamagaluru (not near Mysore, but in the state of Karnataka)\\n6. Tarakeshwara Temple, Haveri (not near Mysore, but in the state of Karnataka)'"
      ]
     },
     "execution_count": 132,
     "metadata": {},
     "output_type": "execute_result"
    }
   ],
   "source": [
    "answer_query_with_context(\"list all the temples near mysore\", df, document_embeddings)"
   ]
  },
  {
   "cell_type": "code",
   "execution_count": 137,
   "id": "670835a1",
   "metadata": {},
   "outputs": [
    {
     "name": "stdout",
     "output_type": "stream",
     "text": [
      "('Karnataka', 'Kukke_Subramanya_Temple__Dakshina_Kannada__karnataka', 0)\n",
      "('Karnataka', 'Kukke_Subramanya_Temple__Dakshina_Kannada__karnataka', 1)\n",
      "('Karnataka', 'Amrutesvara_Temple__Amruthapura__Chikkamagaluru__Karnataka', 5)\n",
      "('Karnataka', 'Kukke_Subramanya_Temple__Dakshina_Kannada__karnataka', 2)\n",
      "('Karnataka', 'Padutirupathi__Udupi__Karnataka', 4)\n",
      "('Karnataka', 'Tarakeshwara_Temple__Haveri', 0)\n",
      "('Karnataka', 'Ghati_Subramanya__Bangalore__Karnataka', 1)\n",
      "('Karnataka', 'Kodlamane__Uttara_kannada__Karnataka', 3)\n",
      "('Karnataka', 'Devarayanadurga__Tumkuru__karnatka', 0)\n",
      "('Karnataka', 'Ghati_Subramanya__Bangalore__Karnataka', 2)\n",
      "('Karnataka', 'Amrutesvara_Temple__Amruthapura__Chikkamagaluru__Karnataka', 3)\n"
     ]
    },
    {
     "name": "stderr",
     "output_type": "stream",
     "text": [
      "C:\\Users\\003GHU744\\AppData\\Local\\Temp\\ipykernel_14152\\1047947636.py:14: PerformanceWarning: indexing past lexsort depth may impact performance.\n",
      "  document_section = df.loc[section_index].iloc[0]\n"
     ]
    },
    {
     "data": {
      "text/plain": [
       "'There is no specific list of temples near Kukke Subrahmanya provided in the context. The context provides details about Kukke Subrahmanya Temple itself and its significance.'"
      ]
     },
     "execution_count": 137,
     "metadata": {},
     "output_type": "execute_result"
    }
   ],
   "source": [
    "answer_query_with_context(\"list all the temples near kukke subrahmanya\", df, document_embeddings)"
   ]
  },
  {
   "cell_type": "code",
   "execution_count": 138,
   "id": "0c401465",
   "metadata": {},
   "outputs": [
    {
     "name": "stdout",
     "output_type": "stream",
     "text": [
      "('Karnataka', 'Padutirupathi__Udupi__Karnataka', 2)\n",
      "('Karnataka', 'Sringeri__Chikkamagaluru__karnataka', 2)\n",
      "('Karnataka', 'Cheluvanarayana_Swamy_Temple__Mandya__Karnataka', 1)\n",
      "('Karnataka', 'Sringeri__Chikkamagaluru__karnataka', 1)\n",
      "('Karnataka', 'Dharmaraya_Swamy_Temple__Â\\xa0Bengaluru__Karnataka', 1)\n",
      "('Karnataka', 'Sringeri__Chikkamagaluru__karnataka', 4)\n",
      "('Karnataka', 'Dharmaraya_Swamy_Temple__Â\\xa0Bengaluru__Karnataka', 0)\n",
      "('Karnataka', 'Sringeri__Chikkamagaluru__karnataka', 3)\n",
      "('Karnataka', 'Cheluvanarayana_Swamy_Temple__Mandya__Karnataka', 2)\n",
      "('Karnataka', 'Virupaksha_Temple__Hampi__Bellary__Karnataka', 3)\n",
      "('Karnataka', 'Padutirupathi__Udupi__Karnataka', 1)\n"
     ]
    },
    {
     "name": "stderr",
     "output_type": "stream",
     "text": [
      "C:\\Users\\003GHU744\\AppData\\Local\\Temp\\ipykernel_14152\\1047947636.py:14: PerformanceWarning: indexing past lexsort depth may impact performance.\n",
      "  document_section = df.loc[section_index].iloc[0]\n"
     ]
    },
    {
     "data": {
      "text/plain": [
       "'The history of Sringeri temple dates back more than twelve centuries ago when Adi Shankaracharya established the first of the four Amnaya Peethams. The Acharya chose Sringeri as the place to stay and teach his disciples after seeing a cobra providing shelter from the hot sun to a frog undergoing labor. Rishyashringa is also said to have performed tapas at Sringeri. The temple is known for being a centre of spiritual power and a great place of traditional learning owing to the presence of Goddess Sharada and the erudition of the Acharyas of the Peetham.'"
      ]
     },
     "execution_count": 138,
     "metadata": {},
     "output_type": "execute_result"
    }
   ],
   "source": [
    "answer_query_with_context(\"what is the history of sringeri temple? who did tapas there?\", df, document_embeddings)"
   ]
  },
  {
   "cell_type": "code",
   "execution_count": 139,
   "id": "67d522f4",
   "metadata": {},
   "outputs": [
    {
     "name": "stdout",
     "output_type": "stream",
     "text": [
      "('Karnataka', 'Chamundeshwari_Temple__Mysore__karnataka', 0)\n",
      "('Karnataka', 'Chamundeshwari_Temple__Mysore__karnataka', 3)\n",
      "('Karnataka', 'Chamundeshwari_Temple__Mysore__karnataka', 4)\n",
      "('Karnataka', 'Chamundeshwari_Temple__Mysore__karnataka', 5)\n",
      "('Karnataka', 'Amrutesvara_Temple__Amruthapura__Chikkamagaluru__Karnataka', 6)\n",
      "('Karnataka', 'Chamundeshwari_Temple__Mysore__karnataka', 2)\n",
      "('Karnataka', 'Shree_Vishnumurthy_Temple__Mangalore__karnataka', 1)\n",
      "('Karnataka', 'Tarakeshwara_Temple__Haveri', 0)\n",
      "('Karnataka', 'Anegudde__Udupi__Karnataka', 1)\n",
      "('Karnataka', 'Dharmaraya_Swamy_Temple__Â\\xa0Bengaluru__Karnataka', 2)\n",
      "('Karnataka', 'Siddhesvara_temple__Haveri', 0)\n",
      "('Karnataka', 'Amrutesvara_Temple__Amruthapura__Chikkamagaluru__Karnataka', 5)\n"
     ]
    },
    {
     "name": "stderr",
     "output_type": "stream",
     "text": [
      "C:\\Users\\003GHU744\\AppData\\Local\\Temp\\ipykernel_14152\\1047947636.py:14: PerformanceWarning: indexing past lexsort depth may impact performance.\n",
      "  document_section = df.loc[section_index].iloc[0]\n"
     ]
    },
    {
     "data": {
      "text/plain": [
       "'The Chamundeshwari Temple is a Hindu temple located on top of Chamundi Hills, about 13 km from the palace city of Mysore in the state of Karnataka, India. It is a temple of great antiquity with over 1,000 years of history, initially built as a small shrine and eventually assumed religious prominence after the Mysuru Maharajas came to power in 1399 A.D. It is named after Chamundeshwari or Durga, the fierce form of Shakti and believed to be an incarnation of Parvati. To reach the temple from Mysore bus stand, there is a good motorable road to the top of the hills and city bus facilities are available. Karnataka State Road Transport Corporation (KSRTC) also operates regular bus services every day.'"
      ]
     },
     "execution_count": 139,
     "metadata": {},
     "output_type": "execute_result"
    }
   ],
   "source": [
    "answer_query_with_context(\"what is the history of chamundeswari temple? how to reach the temple from mysore bus stand?\", df, document_embeddings)"
   ]
  },
  {
   "cell_type": "code",
   "execution_count": 140,
   "id": "1fe520c3",
   "metadata": {},
   "outputs": [
    {
     "name": "stdout",
     "output_type": "stream",
     "text": [
      "('Karnataka', 'Gavi_Gangadhareshwara_Temple__Bengaluru__Karnataka', 0)\n",
      "('Karnataka', 'Dharmaraya_Swamy_Temple__Â\\xa0Bengaluru__Karnataka', 0)\n",
      "('Karnataka', 'Dharmaraya_Swamy_Temple__Â\\xa0Bengaluru__Karnataka', 1)\n",
      "('Karnataka', 'Shree_Vishnumurthy_Temple__Mangalore__karnataka', 1)\n",
      "('Karnataka', 'Hoysaleswara_Temple__Hassan__karnataka', 3)\n",
      "('Karnataka', 'Chennakeshava_Temple__Belur__Hassan__Karnataka', 1)\n",
      "('Karnataka', 'Shree_Vishnumurthy_Temple__Mangalore__karnataka', 0)\n",
      "('Karnataka', 'Amrutesvara_Temple__Amruthapura__Chikkamagaluru__Karnataka', 3)\n",
      "('Karnataka', 'Halebidu__Hassan__Karnataka', 2)\n",
      "('Karnataka', 'Virupaksha_Temple__Hampi__Bellary__Karnataka', 3)\n",
      "('Karnataka', 'Dodda_Basavana_Gudi__Bengaluru__Karnataka', 1)\n"
     ]
    },
    {
     "name": "stderr",
     "output_type": "stream",
     "text": [
      "C:\\Users\\003GHU744\\AppData\\Local\\Temp\\ipykernel_14152\\1047947636.py:14: PerformanceWarning: indexing past lexsort depth may impact performance.\n",
      "  document_section = df.loc[section_index].iloc[0]\n"
     ]
    },
    {
     "data": {
      "text/plain": [
       "\"The Gavi Gangadhareshwara temple in Bengaluru is one of the oldest temples in the city, built in the 16th century AD by Kempe Gowda, the founder of Bengaluru. It is a cave temple dedicated to Shiva and has a tall Shivalinga in the inner sanctum. One of the major attractions of the temple is a rare idol of Agni, the God of fire, with two heads, seven hands, and three legs. It is perhaps the only temple in South India that has such an idol. The temple also has a wonderful sculpture of Nandi, Shiva's mount, and a beautiful image of Shakti Ganapathi with 12 hands at the left side of the main entrance. Those who worship the deity Agnimurthi believe it will cure one of the defects of the eye.\""
      ]
     },
     "execution_count": 140,
     "metadata": {},
     "output_type": "execute_result"
    }
   ],
   "source": [
    "answer_query_with_context(\"what is the history of the oldest shiva temple in bengaluru?\", df, document_embeddings)"
   ]
  },
  {
   "cell_type": "code",
   "execution_count": 141,
   "id": "10b23fb4",
   "metadata": {},
   "outputs": [
    {
     "name": "stdout",
     "output_type": "stream",
     "text": [
      "('Karnataka', 'Gavi_Gangadhareshwara_Temple__Bengaluru__Karnataka', 0)\n",
      "('Karnataka', 'Dodda_Basavana_Gudi__Bengaluru__Karnataka', 1)\n",
      "('Karnataka', 'Ghati_Subramanya__Bangalore__Karnataka', 0)\n",
      "('Karnataka', 'Amrutesvara_Temple__Amruthapura__Chikkamagaluru__Karnataka', 3)\n",
      "('Karnataka', 'Amrutesvara_Temple__Amruthapura__Chikkamagaluru__Karnataka', 5)\n",
      "('Karnataka', 'Padutirupathi__Udupi__Karnataka', 4)\n",
      "('Karnataka', 'Dharmaraya_Swamy_Temple__Â\\xa0Bengaluru__Karnataka', 0)\n",
      "('Karnataka', 'Galageshwara_Temple__Haveri', 0)\n",
      "('Karnataka', 'Dharmaraya_Swamy_Temple__Â\\xa0Bengaluru__Karnataka', 1)\n",
      "('Karnataka', 'Kotilingeshwar_Temple__Kolar', 0)\n",
      "('Karnataka', 'Kodlamane__Uttara_kannada__Karnataka', 0)\n"
     ]
    },
    {
     "name": "stderr",
     "output_type": "stream",
     "text": [
      "C:\\Users\\003GHU744\\AppData\\Local\\Temp\\ipykernel_14152\\1047947636.py:14: PerformanceWarning: indexing past lexsort depth may impact performance.\n",
      "  document_section = df.loc[section_index].iloc[0]\n"
     ]
    },
    {
     "data": {
      "text/plain": [
       "'The context only mentions the presence of a rare idol of Agni, the God of fire, in Gavi Gangadhareshwara Temple, Bengaluru. The information provided does not specify if there are other Agni temples in Karnataka.'"
      ]
     },
     "execution_count": 141,
     "metadata": {},
     "output_type": "execute_result"
    }
   ],
   "source": [
    "answer_query_with_context(\"are there other agni temples in karnataka?\", df, document_embeddings)"
   ]
  },
  {
   "cell_type": "code",
   "execution_count": 152,
   "id": "7f98f4a9",
   "metadata": {},
   "outputs": [
    {
     "name": "stdout",
     "output_type": "stream",
     "text": [
      "('Karnataka', 'Dharmaraya_Swamy_Temple__Â\\xa0Bengaluru__Karnataka', 1)\n",
      "('Karnataka', 'Amrutesvara_Temple__Amruthapura__Chikkamagaluru__Karnataka', 5)\n",
      "('Karnataka', 'Padutirupathi__Udupi__Karnataka', 1)\n",
      "('Karnataka', 'ISKCON_Temple__Bangalore__karnataka', 0)\n",
      "('Karnataka', 'Chennakesava_Temple__Somanathapura__Mysore__Karnataka', 6)\n",
      "('Karnataka', 'Dharmaraya_Swamy_Temple__Â\\xa0Bengaluru__Karnataka', 0)\n",
      "('Karnataka', 'Chennakeshava_Temple__Belur__Hassan__Karnataka', 0)\n",
      "('Karnataka', 'Udupi_Sri_Krishna_Matha__Udupi__karnataka', 0)\n",
      "('Karnataka', 'Padutirupathi__Udupi__Karnataka', 4)\n",
      "('Karnataka', 'Tarakeshwara_Temple__Haveri', 0)\n",
      "('Karnataka', 'Amrutesvara_Temple__Amruthapura__Chikkamagaluru__Karnataka', 3)\n"
     ]
    },
    {
     "name": "stderr",
     "output_type": "stream",
     "text": [
      "C:\\Users\\003GHU744\\AppData\\Local\\Temp\\ipykernel_14152\\2026104477.py:14: PerformanceWarning: indexing past lexsort depth may impact performance.\n",
      "  document_section = df.loc[section_index].iloc[0]\n"
     ]
    },
    {
     "data": {
      "text/plain": [
       "'1. Udupi Sri Krishna Matha, Udupi\\n2. Padutirupathi, Udupi\\n3. ISKCON Temple, Bangalore\\n4. Chennakesava Temple, Belur, Hassan\\n5. Sri Dharmaraya Swamy Temple, Bangalore \\n6. Amrutesvara Temple, Amruthapura, Chikkamagaluru\\n7. Tarakeshwara Temple, Haveri'"
      ]
     },
     "execution_count": 152,
     "metadata": {},
     "output_type": "execute_result"
    }
   ],
   "source": [
    "answer_query_with_context(\"combine all the contexts and list the krishna temples in karnataka\", df, document_embeddings)"
   ]
  },
  {
   "cell_type": "code",
   "execution_count": 180,
   "id": "11c29f57",
   "metadata": {},
   "outputs": [
    {
     "name": "stdout",
     "output_type": "stream",
     "text": [
      "('Karnataka', 'Chamundeshwari_Temple__Mysore__karnataka', 4)\n",
      "('Karnataka', 'Cheluvanarayana_Swamy_Temple__Mandya__Karnataka', 5)\n",
      "('Karnataka', 'Chamundeshwari_Temple__Mysore__karnataka', 7)\n",
      "('Karnataka', 'Chamundeshwari_Temple__Mysore__karnataka', 0)\n",
      "('Karnataka', 'Cheluvanarayana_Swamy_Temple__Mandya__Karnataka', 4)\n",
      "('Karnataka', 'Cheluvanarayana_Swamy_Temple__Mandya__Karnataka', 0)\n",
      "('Karnataka', 'Chamundeshwari_Temple__Mysore__karnataka', 1)\n",
      "('Karnataka', 'Marikamba_Temple__Sirsi__Karnataka', 0)\n",
      "('Karnataka', 'Amrutesvara_Temple__Amruthapura__Chikkamagaluru__Karnataka', 3)\n",
      "('Karnataka', 'Dharmaraya_Swamy_Temple__Â\\xa0Bengaluru__Karnataka', 1)\n",
      "('Karnataka', 'Chennakesava_Temple__Somanathapura__Mysore__Karnataka', 6)\n"
     ]
    },
    {
     "name": "stderr",
     "output_type": "stream",
     "text": [
      "C:\\Users\\003GHU744\\AppData\\Local\\Temp\\ipykernel_14152\\1057417536.py:14: PerformanceWarning: indexing past lexsort depth may impact performance.\n",
      "  document_section = df.loc[section_index].iloc[0]\n"
     ]
    },
    {
     "data": {
      "text/plain": [
       "'1. Chamundeshwari Temple, Mysore\\n2. Mahabaleswara Temple, Mysore (located atop Chamundi Hills)\\n3. Jwalamuki Shri Tripurasundari Temple (located at the foothill of Chamundi Hills)'"
      ]
     },
     "execution_count": 180,
     "metadata": {},
     "output_type": "execute_result"
    }
   ],
   "source": [
    "answer_query_with_context(\"list the temples in mysore\", df, document_embeddings)"
   ]
  },
  {
   "cell_type": "code",
   "execution_count": 161,
   "id": "61059bb8",
   "metadata": {},
   "outputs": [
    {
     "name": "stdout",
     "output_type": "stream",
     "text": [
      "('Karnataka', 'Sringeri__Chikkamagaluru__karnataka', 0)\n",
      "('Karnataka', 'Dharmaraya_Swamy_Temple__Â\\xa0Bengaluru__Karnataka', 1)\n",
      "('Karnataka', 'Sringeri__Chikkamagaluru__karnataka', 3)\n",
      "('Karnataka', 'Marikamba_Temple__Sirsi__Karnataka', 0)\n",
      "('Karnataka', 'Dharmaraya_Swamy_Temple__Â\\xa0Bengaluru__Karnataka', 0)\n",
      "('Karnataka', 'Gavi_Gangadhareshwara_Temple__Bengaluru__Karnataka', 0)\n",
      "('Karnataka', 'Sringeri__Chikkamagaluru__karnataka', 4)\n",
      "('Karnataka', 'Cheluvanarayana_Swamy_Temple__Mandya__Karnataka', 5)\n",
      "('Karnataka', 'Sringeri__Chikkamagaluru__karnataka', 2)\n",
      "('Karnataka', 'Virupaksha_Temple__Hampi__Bellary__Karnataka', 2)\n",
      "('Karnataka', 'Dharmaraya_Swamy_Temple__Â\\xa0Bengaluru__Karnataka', 2)\n",
      "('Karnataka', 'Siddalingeshwar_Temple__Yadagiri', 0)\n"
     ]
    },
    {
     "name": "stderr",
     "output_type": "stream",
     "text": [
      "C:\\Users\\003GHU744\\AppData\\Local\\Temp\\ipykernel_14152\\1047947636.py:14: PerformanceWarning: indexing past lexsort depth may impact performance.\n",
      "  document_section = df.loc[section_index].iloc[0]\n"
     ]
    },
    {
     "data": {
      "text/plain": [
       "'The main temple in Sringeri is Sri Kshetra Shringeri, which is the site of the first matha established by Adi Shankara in the 8th century CE. The temple is dedicated to Goddess Sharada and is also known as the Dakshinamnaya Sri Sharada Peetham.'"
      ]
     },
     "execution_count": 161,
     "metadata": {},
     "output_type": "execute_result"
    }
   ],
   "source": [
    "answer_query_with_context(\"what are the temples in sringeri?\", df, document_embeddings)"
   ]
  },
  {
   "cell_type": "code",
   "execution_count": 197,
   "id": "1050f853",
   "metadata": {},
   "outputs": [
    {
     "name": "stdout",
     "output_type": "stream",
     "text": [
      "('Karnataka', 'Kukke_Subramanya_Temple__Dakshina_Kannada__karnataka', 1)\n",
      "('Karnataka', 'Sringeri__Chikkamagaluru__karnataka', 4)\n",
      "('Karnataka', 'Sringeri__Chikkamagaluru__karnataka', 2)\n",
      "('Karnataka', 'Sringeri__Chikkamagaluru__karnataka', 3)\n",
      "('Karnataka', 'Cheluvanarayana_Swamy_Temple__Mandya__Karnataka', 5)\n",
      "('Karnataka', 'Sringeri__Chikkamagaluru__karnataka', 1)\n",
      "('Karnataka', 'Kukke_Subramanya_Temple__Dakshina_Kannada__karnataka', 2)\n",
      "('Karnataka', 'Chennakeshava_Temple__Belur__Hassan__Karnataka', 2)\n",
      "('Karnataka', 'Hoysaleswara_Temple__Hassan__karnataka', 3)\n",
      "('Karnataka', 'Udupi_Sri_Krishna_Matha__Udupi__karnataka', 1)\n",
      "('Karnataka', 'Annapoorneshwari_Temple__Horanadu__Karnataka', 3)\n",
      "('Karnataka', 'Dharmasthala_Temple__Dakshina_Kannada__Karnataka', 1)\n",
      "('Karnataka', 'Padutirupathi__Udupi__Karnataka', 3)\n"
     ]
    },
    {
     "name": "stderr",
     "output_type": "stream",
     "text": [
      "C:\\Users\\003GHU744\\AppData\\Local\\Temp\\ipykernel_14152\\1057417536.py:14: PerformanceWarning: indexing past lexsort depth may impact performance.\n",
      "  document_section = df.loc[section_index].iloc[0]\n"
     ]
    },
    {
     "data": {
      "text/plain": [
       "'The context mentions that Shankaracharya camped at Kukke Subramanya Temple in Dakshina Kannada and also established the Sharada Peetham at Sringeri in South India.'"
      ]
     },
     "execution_count": 197,
     "metadata": {},
     "output_type": "execute_result"
    }
   ],
   "source": [
    "answer_query_with_context(\"which temples did shankaracharya visit?\", df, document_embeddings)"
   ]
  },
  {
   "cell_type": "code",
   "execution_count": 169,
   "id": "75831e70",
   "metadata": {},
   "outputs": [
    {
     "name": "stdout",
     "output_type": "stream",
     "text": [
      "('Karnataka', 'Padutirupathi__Udupi__Karnataka', 1)\n",
      "('Karnataka', 'Gavi_Gangadhareshwara_Temple__Bengaluru__Karnataka', 0)\n",
      "('Karnataka', 'Marikamba_Temple__Sirsi__Karnataka', 0)\n",
      "('Karnataka', 'Amrutesvara_Temple__Amruthapura__Chikkamagaluru__Karnataka', 3)\n",
      "('Karnataka', 'Padutirupathi__Udupi__Karnataka', 2)\n",
      "('Karnataka', 'Dharmaraya_Swamy_Temple__Â\\xa0Bengaluru__Karnataka', 1)\n",
      "('Karnataka', 'Padutirupathi__Udupi__Karnataka', 4)\n",
      "('Karnataka', 'Dodda_Basavana_Gudi__Bengaluru__Karnataka', 1)\n",
      "('Karnataka', 'Ghati_Subramanya__Bangalore__Karnataka', 0)\n",
      "('Karnataka', 'Kodlamane__Uttara_kannada__Karnataka', 0)\n",
      "('Karnataka', 'Nellitheertha_Cave_Temple__Dakshina_Kannada__karnataka', 0)\n"
     ]
    },
    {
     "name": "stderr",
     "output_type": "stream",
     "text": [
      "C:\\Users\\003GHU744\\AppData\\Local\\Temp\\ipykernel_14152\\1047947636.py:14: PerformanceWarning: indexing past lexsort depth may impact performance.\n",
      "  document_section = df.loc[section_index].iloc[0]\n"
     ]
    },
    {
     "data": {
      "text/plain": [
       "\"Karnataka's temples are known for their unique architecture and historical significance. They also have various deities worshipped and special rituals performed during festivals. Many of these temples have rare idols and sculptures that are not found anywhere else in South India. Additionally, some of these temples also focus on social and academic causes, offering support and aid to various institutions and organizations that benefit people of both the temple cities and beyond.\""
      ]
     },
     "execution_count": 169,
     "metadata": {},
     "output_type": "execute_result"
    }
   ],
   "source": [
    "answer_query_with_context(\"what is special about karnataka's temples?\", df, document_embeddings)"
   ]
  },
  {
   "cell_type": "code",
   "execution_count": 186,
   "id": "6d7b5432",
   "metadata": {},
   "outputs": [
    {
     "name": "stdout",
     "output_type": "stream",
     "text": [
      "('Karnataka', 'Badami_cave_temples__Badami__Karnataka', 3)\n",
      "('Karnataka', 'Chennakeshava_Temple__Belur__Hassan__Karnataka', 1)\n",
      "('Karnataka', 'Shree_Vishnumurthy_Temple__Mangalore__karnataka', 1)\n",
      "('Karnataka', 'Hoysaleswara_Temple__Hassan__karnataka', 3)\n",
      "('Karnataka', 'Aihole__Bagalkot__Karnataka', 1)\n",
      "('Karnataka', 'Badami_cave_temples__Badami__Karnataka', 2)\n",
      "('Karnataka', 'Amrutesvara_Temple__Amruthapura__Chikkamagaluru__Karnataka', 4)\n",
      "('Karnataka', 'Badami_cave_temples__Badami__Karnataka', 4)\n",
      "('Karnataka', 'Ghati_Subramanya__Bangalore__Karnataka', 2)\n",
      "('Karnataka', 'Hoysaleswara_Temple__Hassan__karnataka', 2)\n",
      "('Karnataka', 'Chennakesava_Temple__Somanathapura__Mysore__Karnataka', 2)\n"
     ]
    },
    {
     "name": "stderr",
     "output_type": "stream",
     "text": [
      "C:\\Users\\003GHU744\\AppData\\Local\\Temp\\ipykernel_14152\\1057417536.py:14: PerformanceWarning: indexing past lexsort depth may impact performance.\n",
      "  document_section = df.loc[section_index].iloc[0]\n"
     ]
    },
    {
     "data": {
      "text/plain": [
       "'1. Badami Cave Temples in Badami, Karnataka \\n2. Chennakeshava Temple in Belur, Karnataka \\n3. Shree Vishnumurthy Temple in Mangalore, Karnataka \\n4. Hoysaleswara Temple in Hassan, Karnataka \\n5. Amrutesvara Temple in Amruthapura, Chikkamagaluru, Karnataka \\n6. Ghati Subramanya Temple in Bangalore, Karnataka'"
      ]
     },
     "execution_count": 186,
     "metadata": {},
     "output_type": "execute_result"
    }
   ],
   "source": [
    "answer_query_with_context(\"list all temples which are more than 500 years old\", df, document_embeddings)"
   ]
  },
  {
   "cell_type": "code",
   "execution_count": 196,
   "id": "9edd7efb",
   "metadata": {},
   "outputs": [
    {
     "name": "stdout",
     "output_type": "stream",
     "text": [
      "('Karnataka', 'ISKCON_Temple__Bangalore__karnataka', 0)\n",
      "('Karnataka', 'Dharmaraya_Swamy_Temple__Â\\xa0Bengaluru__Karnataka', 1)\n",
      "('Karnataka', 'ISKCON_Temple__Bangalore__karnataka', 1)\n",
      "('Karnataka', 'Dharmaraya_Swamy_Temple__Â\\xa0Bengaluru__Karnataka', 0)\n",
      "('Karnataka', 'Virupaksha_Temple__Hampi__Bellary__Karnataka', 3)\n",
      "('Karnataka', 'Chennakesava_Temple__Somanathapura__Mysore__Karnataka', 6)\n",
      "('Karnataka', 'Padutirupathi__Udupi__Karnataka', 2)\n",
      "('Karnataka', 'Virupaksha_Temple__Hampi__Bellary__Karnataka', 4)\n",
      "('Karnataka', 'Shree_Vishnumurthy_Temple__Mangalore__karnataka', 1)\n",
      "('Karnataka', 'Gavi_Gangadhareshwara_Temple__Bengaluru__Karnataka', 0)\n",
      "('Karnataka', 'Chennakeshava_Temple__Belur__Hassan__Karnataka', 1)\n",
      "('Karnataka', 'Hoysaleswara_Temple__Hassan__karnataka', 3)\n",
      "('Karnataka', 'Dharmaraya_Swamy_Temple__Â\\xa0Bengaluru__Karnataka', 2)\n",
      "('Karnataka', 'Mahadeva_Temple__Koppal', 0)\n",
      "('Karnataka', 'Chennakeshava_Temple__Belur__Hassan__Karnataka', 2)\n"
     ]
    },
    {
     "name": "stderr",
     "output_type": "stream",
     "text": [
      "C:\\Users\\003GHU744\\AppData\\Local\\Temp\\ipykernel_14152\\1057417536.py:14: PerformanceWarning: indexing past lexsort depth may impact performance.\n",
      "  document_section = df.loc[section_index].iloc[0]\n"
     ]
    },
    {
     "data": {
      "text/plain": [
       "'No, the ISKCON temple in Bangalore was not built in the 20th century. The society applied for land in 1987 and the temple was constructed on the allotted land in 1997.'"
      ]
     },
     "execution_count": 196,
     "metadata": {},
     "output_type": "execute_result"
    }
   ],
   "source": [
    "answer_query_with_context(\"was iskcon bangalore built in 20th century?\", df, document_embeddings)"
   ]
  },
  {
   "cell_type": "code",
   "execution_count": 195,
   "id": "e4ddc61a",
   "metadata": {},
   "outputs": [
    {
     "name": "stdout",
     "output_type": "stream",
     "text": [
      "('Karnataka', 'Dharmaraya_Swamy_Temple__Â\\xa0Bengaluru__Karnataka', 1)\n",
      "('Karnataka', 'Dharmaraya_Swamy_Temple__Â\\xa0Bengaluru__Karnataka', 0)\n",
      "('Karnataka', 'Gavi_Gangadhareshwara_Temple__Bengaluru__Karnataka', 0)\n",
      "('Karnataka', 'Shree_Vishnumurthy_Temple__Mangalore__karnataka', 1)\n",
      "('Karnataka', 'Halebidu__Hassan__Karnataka', 2)\n",
      "('Karnataka', 'Chennakeshava_Temple__Belur__Hassan__Karnataka', 1)\n",
      "('Karnataka', 'Dharmaraya_Swamy_Temple__Â\\xa0Bengaluru__Karnataka', 2)\n",
      "('Karnataka', 'Marikamba_Temple__Sirsi__Karnataka', 0)\n",
      "('Karnataka', 'Dodda_Basavana_Gudi__Bengaluru__Karnataka', 1)\n",
      "('Karnataka', 'Hoysaleswara_Temple__Hassan__karnataka', 3)\n",
      "('Karnataka', 'Amrutesvara_Temple__Amruthapura__Chikkamagaluru__Karnataka', 3)\n",
      "('Karnataka', 'Virupaksha_Temple__Hampi__Bellary__Karnataka', 3)\n",
      "('Karnataka', 'Mahadeva_Temple__Koppal', 0)\n"
     ]
    },
    {
     "name": "stderr",
     "output_type": "stream",
     "text": [
      "C:\\Users\\003GHU744\\AppData\\Local\\Temp\\ipykernel_14152\\1057417536.py:14: PerformanceWarning: indexing past lexsort depth may impact performance.\n",
      "  document_section = df.loc[section_index].iloc[0]\n"
     ]
    },
    {
     "data": {
      "text/plain": [
       "'There is no information in the given context about temples in Bengaluru built after 1950.'"
      ]
     },
     "execution_count": 195,
     "metadata": {},
     "output_type": "execute_result"
    }
   ],
   "source": [
    "answer_query_with_context(\"list temples in bengaluru built after 1950\", df, document_embeddings)"
   ]
  },
  {
   "cell_type": "code",
   "execution_count": 214,
   "id": "54fe0a2f",
   "metadata": {},
   "outputs": [
    {
     "name": "stdout",
     "output_type": "stream",
     "text": [
      "('Tamil_Nadu', 'Thirukkadigai_Temple__Sholinghur__Vellore', 9)\n",
      "('Andhra_Pradesh', 'Veerabhadra_Temple__Lepakshi__Andhara_Pradesh', 0)\n",
      "('Andhra_Pradesh', 'Kapila_Theertham__Andhra_Pradesh', 0)\n",
      "('Andhra_Pradesh', 'Venkateswara_Temple__Tirumala__Andhra_Pradesh', 0)\n",
      "('Andhra_Pradesh', 'Peddintlamma_Temple__Krishna', 0)\n",
      "('nan', 'Kuchadri_Venkateshwara_Swamy_temple__Medak__Telangana', 1)\n",
      "('Tamil_Nadu', 'Thiruneermalai_Dhivya_Desam__Kanchipuram', 3)\n",
      "('nan', 'Thousand_Pillar_Temple__Hanamakonda__Telangana', 0)\n",
      "('Tamil_Nadu', 'Subramanya_Swamy_Temple__Kailasagiri__Gadambur__Vellore', 0)\n",
      "('Bihar', 'Vishnupad_Mandir__Bihar', 1)\n",
      "('nan', 'Kuchadri_Venkateshwara_Swamy_temple__Medak__Telangana', 2)\n",
      "('nan', 'Bhadrakali_Temple__Warangal__Telangana', 0)\n",
      "('Andhra_Pradesh', 'Mallikarjuna__Jyotirlinga__Andhra_Pradesh', 0)\n",
      "('Karnataka', 'Badami_cave_temples__Badami__Karnataka', 2)\n",
      "('nan', 'Kuchadri_Venkateshwara_Swamy_temple__Medak__Telangana', 0)\n"
     ]
    },
    {
     "name": "stderr",
     "output_type": "stream",
     "text": [
      "C:\\Users\\003GHU744\\AppData\\Local\\Temp\\ipykernel_14152\\1057417536.py:14: PerformanceWarning: indexing past lexsort depth may impact performance.\n",
      "  document_section = df.loc[section_index].iloc[0]\n"
     ]
    },
    {
     "data": {
      "text/plain": [
       "'There are several hill top temples in Andhra Pradesh, including Veerabhadra Temple in Lepakshi, Kapila Theertham in Tirupati, Venkateswara Temple in Tirumala, and Mallikarjuna Jyotirlinga in Srisailam.'"
      ]
     },
     "execution_count": 214,
     "metadata": {},
     "output_type": "execute_result"
    }
   ],
   "source": [
    "answer_query_with_context(\"What are the hill top temples in andhra pradesh?\", df, document_embeddings)"
   ]
  },
  {
   "cell_type": "code",
   "execution_count": 215,
   "id": "547c1ae0",
   "metadata": {},
   "outputs": [
    {
     "name": "stdout",
     "output_type": "stream",
     "text": [
      "('nan', 'Kuchadri_Venkateshwara_Swamy_temple__Medak__Telangana', 1)\n",
      "('nan', 'Thousand_Pillar_Temple__Hanamakonda__Telangana', 0)\n",
      "('Tamil_Nadu', 'Subramanya_Swamy_Temple__Kailasagiri__Gadambur__Vellore', 0)\n",
      "('nan', 'Bhadrakali_Temple__Warangal__Telangana', 0)\n",
      "('Tamil_Nadu', 'Thirukkadigai_Temple__Sholinghur__Vellore', 9)\n",
      "('nan', 'Bhadrakali_Temple__Warangal__Telangana', 4)\n",
      "('nan', 'Chilkoor_Balaji_Temple__Hyderabad__Telagana', 1)\n",
      "('nan', 'Bhadrakali_Temple__Warangal__Telangana', 3)\n",
      "('Bihar', 'Vishnupad_Mandir__Bihar', 1)\n",
      "('Andhra_Pradesh', 'Peddintlamma_Temple__Krishna', 0)\n",
      "('nan', 'Kuchadri_Venkateshwara_Swamy_temple__Medak__Telangana', 0)\n",
      "('Andhra_Pradesh', 'Venkateswara_Temple__Tirumala__Andhra_Pradesh', 0)\n",
      "('nan', 'Keesaragutta_Temple__Medchal-Malkajgir__Telagana', 0)\n",
      "('Andhra_Pradesh', 'Kapila_Theertham__Andhra_Pradesh', 0)\n",
      "('nan', 'Padmakshi_Temple__Warangal__Telangana', 0)\n"
     ]
    },
    {
     "name": "stderr",
     "output_type": "stream",
     "text": [
      "C:\\Users\\003GHU744\\AppData\\Local\\Temp\\ipykernel_14152\\1057417536.py:14: PerformanceWarning: indexing past lexsort depth may impact performance.\n",
      "  document_section = df.loc[section_index].iloc[0]\n"
     ]
    },
    {
     "data": {
      "text/plain": [
       "'1. Kuchadri Venkateshwara Swamy temple, Medak.\\n2. Thousand Pillar Temple, Hanamakonda.\\n3. Bhadrakali Temple, Warangal.'"
      ]
     },
     "execution_count": 215,
     "metadata": {},
     "output_type": "execute_result"
    }
   ],
   "source": [
    "answer_query_with_context(\"What are the hill top temples in telangana?\", df, document_embeddings)"
   ]
  },
  {
   "cell_type": "code",
   "execution_count": 216,
   "id": "77bae548",
   "metadata": {},
   "outputs": [
    {
     "name": "stdout",
     "output_type": "stream",
     "text": [
      "('Tamil_Nadu', 'Subramanya_Swamy_Temple__Kailasagiri__Gadambur__Vellore', 0)\n",
      "('Tamil_Nadu', 'Arupadai_Veedu_Temple_Thiruthani__palani', 4)\n",
      "('Tamil_Nadu', 'Thalamalai_Perumal_Temple__Trichy', 2)\n",
      "('Tamil_Nadu', 'Idumban_Hill_Temple__palani', 0)\n",
      "('Tamil_Nadu', 'Arupadai_Veedu_Temple__Pazhamuthicholai__Madurai', 1)\n",
      "('Tamil_Nadu', 'Arupadai_Veedu_Temple__Pazhamuthicholai__Madurai', 0)\n",
      "('Tamil_Nadu', 'Jain_Cave_Temple_Complex__Yanaimalai__Madurai', 1)\n",
      "('Tamil_Nadu', 'Thirukkadigai_Temple__Sholinghur__Vellore', 9)\n",
      "('Tamil_Nadu', 'Thirukkadigai_Temple__Sholinghur__Vellore', 0)\n",
      "('Tamil_Nadu', 'Dhandayuthapani_Murugan_Temple__Nadu_Palani__Kanchipuram', 0)\n",
      "('Tamil_Nadu', 'Annamalaiyar_Temple__Tiruvannamalai', 0)\n",
      "('Tamil_Nadu', 'Subramanya_Swamy_Temple__Kailasagiri__Gadambur__Vellore', 2)\n",
      "('Tamil_Nadu', 'Thiruneermalai_Dhivya_Desam__Kanchipuram', 1)\n"
     ]
    },
    {
     "name": "stderr",
     "output_type": "stream",
     "text": [
      "C:\\Users\\003GHU744\\AppData\\Local\\Temp\\ipykernel_14152\\1057417536.py:14: PerformanceWarning: indexing past lexsort depth may impact performance.\n",
      "  document_section = df.loc[section_index].iloc[0]\n"
     ]
    },
    {
     "data": {
      "text/plain": [
       "'1. Subramanya Swamy Temple, Kailasagiri, Gadambur, Vellore\\n2. Arupadai Veedu Temple, Thiruthani/Palani\\n3. Thalamalai Perumal Temple, Trichy\\n4. Idumban Hill Temple, Palani\\n5. Arupadai Veedu Temple, Pazhamuthicholai, Madurai\\n6. Jain Cave Temple Complex, Yanaimalai, Madurai\\n7. Thirukkadigai Temple, Sholinghur, Vellore\\n8. Dhandayuthapani Murugan Temple, Nadu Palani, Kanchipuram\\n9. Annamalaiyar Temple, Tiruvannamalai\\nNote: This list was created by compiling information from the provided context. Other hill top temples in Tamil Nadu may exist that are not included on this list.'"
      ]
     },
     "execution_count": 216,
     "metadata": {},
     "output_type": "execute_result"
    }
   ],
   "source": [
    "answer_query_with_context(\"What are the hill top temples in tamil nadu?\", df, document_embeddings)"
   ]
  },
  {
   "cell_type": "code",
   "execution_count": 217,
   "id": "eda4e0e3",
   "metadata": {},
   "outputs": [
    {
     "name": "stdout",
     "output_type": "stream",
     "text": [
      "('Tamil_Nadu', 'Dharma_Shasta_Temple__Vettuveni__Marthandam__Kanyakumari', 1)\n",
      "('Odisha', 'Dhabaleswar__Cuttack__Odisha', 4)\n",
      "('Odisha', 'Nilkantheswar_Shiva_Temple__Bhubaneswar__Odisha', 4)\n",
      "('Karnataka', 'Padutirupathi__Udupi__Karnataka', 5)\n",
      "('Kerala', 'Thirunavaya_Navamukunda_Temple__Malappuram__kerala', 5)\n",
      "('Andhra_Pradesh', 'Mallikarjuna__Jyotirlinga__Andhra_Pradesh', 1)\n",
      "('Gujarat', 'Girnar__Junagadh__Gujarat', 5)\n",
      "('Odisha', 'Sakshigopal_Temple__puri__Odisha', 1)\n",
      "('Tamil_Nadu', 'Chakravageswarar_Temple__Chakkarapalli__Thanjavur', 1)\n",
      "('Odisha', 'Nrusinghanath_Temple__Bargarh__Odisha', 1)\n",
      "('Delhi', 'Yogmaya_Temple__New_Delhi', 5)\n",
      "('Rajasthan', 'Nakkash_Ki_Devi_â\\x80\\x93_Gomti_Dham__Karauli__Rajasthan', 2)\n",
      "('Uttar_Pradesh', 'Jwara_Hareshwar_Temple__Varanasi', 2)\n",
      "('Rajasthan', 'Deo_somnath_temple__Dungarpur_(Rajasthan)', 1)\n",
      "('Gujarat', 'Hanuman_temple__Sarangpur__Botad', 1)\n",
      "('West_Bengal', 'Hangseshwari_Temple__Hooghly__West_Bengal', 5)\n",
      "('Jharkhand', 'SUN_TEMPLE__Ranchi__Jharkhand', 0)\n",
      "('Gujarat', 'Shamalaji__Aravalli__Gujarat', 2)\n",
      "('Odisha', 'Papanasini_Siva_Temple__Bhubaneswar__Odissa', 1)\n",
      "('Gujarat', 'Shri_Swaminarayan_Mandir__Bhuj__Gujarat', 1)\n",
      "('Odisha', 'VaitÄ\\x81á¸·a_deuá¸·a__Khurda__Odisha', 2)\n",
      "('Haryana', 'Jyotisar__Kurukshetra__Haryana', 3)\n",
      "('Tamil_Nadu', 'Edaganathar_Temple__Thiruvedagam__Madurai', 5)\n",
      "('Maharashtra', 'Markanda_Mahadev_Temple__Chamorshi__Gadhchiroli__Maharashtra', 1)\n",
      "('Maharashtra', 'Shri_Kshetra_Jwala_Narsinha_Teerth__Kole_Narsinhapur', 3)\n",
      "('Gujarat', 'Shamalaji__Aravalli__Gujarat', 3)\n",
      "('Tamil_Nadu', 'Oondreeswarar_Temple__Poondi__Thiruvallur', 1)\n"
     ]
    },
    {
     "name": "stderr",
     "output_type": "stream",
     "text": [
      "C:\\Users\\003GHU744\\AppData\\Local\\Temp\\ipykernel_14152\\1057417536.py:14: PerformanceWarning: indexing past lexsort depth may impact performance.\n",
      "  document_section = df.loc[section_index].iloc[0]\n"
     ]
    },
    {
     "data": {
      "text/plain": [
       "'The document is about various temples'"
      ]
     },
     "execution_count": 217,
     "metadata": {},
     "output_type": "execute_result"
    }
   ],
   "source": [
    "answer_query_with_context(\"what is the document about?\", df, document_embeddings)"
   ]
  },
  {
   "cell_type": "code",
   "execution_count": 218,
   "id": "b0e1fc82",
   "metadata": {},
   "outputs": [
    {
     "name": "stdout",
     "output_type": "stream",
     "text": [
      "('Karnataka', 'Chennakesava_Temple__Somanathapura__Mysore__Karnataka', 3)\n",
      "('Tamil_Nadu', 'Thirukkadigai_Temple__Sholinghur__Vellore', 9)\n",
      "('Karnataka', 'Udupi_Sri_Krishna_Matha__Udupi__karnataka', 1)\n",
      "('Kerala', 'Padmanabhaswamy_Temple__Thiruvananthapuram__Kerala', 2)\n",
      "('Tamil_Nadu', 'Thirukkadigai_Temple__Sholinghur__Vellore', 3)\n",
      "('Kerala', 'Sabarimala__Pathanamthitta__Kerala', 3)\n",
      "('Tamil_Nadu', 'Vamanapureeswarar_Temple__Thirumanikuzhi__Cuddalore', 0)\n",
      "('Kerala', 'Padmanabhaswamy_Temple__Thiruvananthapuram__Kerala', 4)\n",
      "('Tamil_Nadu', 'Navaneetha_Krishnan_Temple__Arasalur__Trichy', 1)\n",
      "('Tamil_Nadu', 'Srivilliputhur_Andal_temple__Virudhunagar__Tamil_Nadu', 3)\n",
      "('Uttar_Pradesh', 'Vishweshwar_Vishwanath_Temple__Varanasi', 6)\n",
      "('Tamil_Nadu', 'Keelaparasalur_Veeratteswarar_Temple__Nagapattinam', 2)\n"
     ]
    },
    {
     "name": "stderr",
     "output_type": "stream",
     "text": [
      "C:\\Users\\003GHU744\\AppData\\Local\\Temp\\ipykernel_14152\\1057417536.py:14: PerformanceWarning: indexing past lexsort depth may impact performance.\n",
      "  document_section = df.loc[section_index].iloc[0]\n"
     ]
    },
    {
     "data": {
      "text/plain": [
       "'1. Chennakesava Temple, Somanathapura, Mysore, Karnataka\\n2. Thirukkadigai Temple, Sholinghur, Vellore, Tamil Nadu\\n3. Udupi Sri Krishna Matha, Udupi, Karnataka \\n4. Padmanabhaswamy Temple, Thiruvananthapuram, Kerala\\n5. Srivilliputhur Andal Temple, Virudhunagar, Tamil Nadu'"
      ]
     },
     "execution_count": 218,
     "metadata": {},
     "output_type": "execute_result"
    }
   ],
   "source": [
    "answer_query_with_context(\"which temples have a path which devotees can circumambulate in?\", df, document_embeddings)"
   ]
  },
  {
   "cell_type": "code",
   "execution_count": 219,
   "id": "231da460",
   "metadata": {},
   "outputs": [
    {
     "name": "stdout",
     "output_type": "stream",
     "text": [
      "('Tamil_Nadu', 'Swamithope_Pathi__Kanyakumari', 0)\n",
      "('Tamil_Nadu', 'Vamanapureeswarar_Temple__Thirumanikuzhi__Cuddalore', 0)\n",
      "('Tamil_Nadu', 'Dhandayuthapani_Murugan_Temple__Nadu_Palani__Kanchipuram', 0)\n",
      "('Tamil_Nadu', 'Thirukkadigai_Temple__Sholinghur__Vellore', 9)\n",
      "('Tamil_Nadu', 'Thanumalayan_Temple__Suchindram__Kanyakumari', 0)\n",
      "('Tamil_Nadu', 'Kalamega_Perumal_Temple__Thirumohoor__Madurai', 0)\n",
      "('Tamil_Nadu', 'Palvannanathar_Temple__Tirukkazhippalai__Chidambaram__Cuddalore', 0)\n",
      "('Tamil_Nadu', 'Oondreeswarar_Temple__Poondi__Thiruvallur', 1)\n",
      "('Tamil_Nadu', 'Eri_Katha_Ramar_Temple__Thiruninravur__Thiruvallur', 1)\n",
      "('Tamil_Nadu', 'Navaneetha_Krishnan_Temple__Arasalur__Trichy', 1)\n",
      "('Tamil_Nadu', 'Thirunandheeswarar_Temple__Manavur__Thiruvallur', 0)\n",
      "('Tamil_Nadu', 'Tirupporur_Murugan_Temple__Kanchipuram', 2)\n",
      "('Tamil_Nadu', 'Theerthapureeswarar_Temple__Thirunelvayil_Arathurai__Cuddalore', 0)\n"
     ]
    },
    {
     "name": "stderr",
     "output_type": "stream",
     "text": [
      "C:\\Users\\003GHU744\\AppData\\Local\\Temp\\ipykernel_14152\\1057417536.py:14: PerformanceWarning: indexing past lexsort depth may impact performance.\n",
      "  document_section = df.loc[section_index].iloc[0]\n"
     ]
    },
    {
     "data": {
      "text/plain": [
       "'Swamithope Pathi, Kanyakumari; Vamanapureeswarar Temple, Thirumanikuzhi, Cuddalore; Dhandayuthapani Murugan Temple, Nadu Palani, Kanchipuram; Thirukkadigai Temple, Sholinghur, Vellore; Thanumalayan Temple, Suchindram, Kanyakumari; Kalamega Perumal Temple, Thirumohoor, Madurai; Palvannanathar Temple, Tirukkazhippalai, Chidambaram, Cuddalore; Navaneetha Krishnan Temple, Arasalur, Trichy; Thirunandheeswarar Temple, Manavur, Thiruvallur; Tirupporur Murugan Temple, Kanchipuram.'"
      ]
     },
     "execution_count": 219,
     "metadata": {},
     "output_type": "execute_result"
    }
   ],
   "source": [
    "answer_query_with_context(\"which tamil nadu temples have a path which devotees can circumambulate in?\", df, document_embeddings)"
   ]
  },
  {
   "cell_type": "code",
   "execution_count": 220,
   "id": "3e6d5a7d",
   "metadata": {},
   "outputs": [
    {
     "name": "stdout",
     "output_type": "stream",
     "text": [
      "('Tamil_Nadu', 'Meenakshi_Temple__Madurai__Tamil_Nadu', 4)\n",
      "('Tamil_Nadu', 'Meenakshi_Temple__Madurai__Tamil_Nadu', 0)\n",
      "('Tamil_Nadu', 'Kalamega_Perumal_Temple__Thirumohoor__Madurai', 0)\n",
      "('Tamil_Nadu', 'Arupadai_Veedu_Temple__Pazhamuthicholai__Madurai', 1)\n",
      "('Tamil_Nadu', 'Immayilum_Nanmai_Tharuvar_Temple__Madurai', 1)\n",
      "('Tamil_Nadu', 'Edaganathar_Temple__Thiruvedagam__Madurai', 0)\n",
      "('Tamil_Nadu', 'Theerthapureeswarar_Temple__Thirunelvayil_Arathurai__Cuddalore', 0)\n",
      "('Tamil_Nadu', 'Veerapandi_Gowmariamman_temple__Theni', 0)\n",
      "('Tamil_Nadu', 'Pasupatheeswarar_Temple__Kallar_Pasupathi_Koil__Thanjavur', 0)\n",
      "('Tamil_Nadu', 'Dhandayuthapani_Murugan_Temple__Nadu_Palani__Kanchipuram', 1)\n",
      "('Tamil_Nadu', 'Aadhi_Kesava_Perumal_Temple__Vada_Madurai__Thiruvallur', 2)\n",
      "('Tamil_Nadu', 'Nellaiappar_Temple__Tirunelveli__Tamil_Nadu', 1)\n",
      "('Tamil_Nadu', 'Thyagaraja_Temple__Tiruvarur__Tamil_Nadu', 1)\n"
     ]
    },
    {
     "name": "stderr",
     "output_type": "stream",
     "text": [
      "C:\\Users\\003GHU744\\AppData\\Local\\Temp\\ipykernel_14152\\1057417536.py:14: PerformanceWarning: indexing past lexsort depth may impact performance.\n",
      "  document_section = df.loc[section_index].iloc[0]\n"
     ]
    },
    {
     "data": {
      "text/plain": [
       "'1. Meenakshi Temple, Madurai, Tamil Nadu\\n2. Kalamega Perumal Temple, Thirumohoor, Madurai\\n3. Arupadai Veedu Temple, Pazhamuthicholai, Madurai\\n4. Immayilum Nanmai Tharuvar Temple, Madurai\\n5. Edaganathar Temple, Thiruvedagam, Madurai'"
      ]
     },
     "execution_count": 220,
     "metadata": {},
     "output_type": "execute_result"
    }
   ],
   "source": [
    "answer_query_with_context(\"what are the famous temples in madurai?\", df, document_embeddings)"
   ]
  },
  {
   "cell_type": "code",
   "execution_count": 221,
   "id": "0887b3c1",
   "metadata": {},
   "outputs": [
    {
     "name": "stdout",
     "output_type": "stream",
     "text": [
      "('Andhra_Pradesh', 'Yaganti_temple__Andhra_Pradesh', 1)\n",
      "('Andhra_Pradesh', 'Pallikondeswarar_Temple__Surutapalli__Chittoor', 0)\n",
      "('Odisha', 'Chateshwar_Temple__Cuttack__Odisha', 1)\n",
      "('Tamil_Nadu', 'Ujjaini_Mahakali_Temple__Secunderabad__Telangana', 2)\n",
      "('Tamil_Nadu', 'Brihadisvara_Temple__Thanjavur__Tamil_Nadu', 1)\n",
      "('Andhra_Pradesh', 'Neelakanteshwara_Temple___East_Godavari', 0)\n",
      "('Andhra_Pradesh', 'Ramalingeswara_Swamy_Temple__Prakasam', 0)\n",
      "('Andhra_Pradesh', 'Maddi_Anjaneya_Temple__Godavari', 0)\n",
      "('Tamil_Nadu', 'Vaitheeswaran_Koil__Nagapattinam__Tamil_Nadu', 4)\n",
      "('Andhra_Pradesh', 'Kalahasteeswara_Swamy_Temple__Sri_Kalahasthi__Andhra_Pradesh', 0)\n",
      "('Tamil_Nadu', 'Chakravageswarar_Temple__Chakkarapalli__Thanjavur', 0)\n",
      "('Tamil_Nadu', 'Bhadrachala_Ramar_Temple__Erumai_Vetti_Palayam__Thiruvallur', 1)\n",
      "('Tamil_Nadu', 'Aadhi_Kesava_Perumal_Temple__Vada_Madurai__Thiruvallur', 1)\n",
      "('Puducherry', 'Irumbai_Shiva_Temple__Pondicherry', 0)\n",
      "('Andhra_Pradesh', 'Srikalahasti_Temple', 0)\n"
     ]
    },
    {
     "name": "stderr",
     "output_type": "stream",
     "text": [
      "C:\\Users\\003GHU744\\AppData\\Local\\Temp\\ipykernel_14152\\1057417536.py:14: PerformanceWarning: indexing past lexsort depth may impact performance.\n",
      "  document_section = df.loc[section_index].iloc[0]\n"
     ]
    },
    {
     "data": {
      "text/plain": [
       "'1. Yaganti Temple\\n2. Pallikondeswarar Temple, Surutapalli, Chittoor\\n3. Neelakanteshwara Temple, East Godavari\\n4. Ramalingeswara Swamy Temple, Prakasam\\n5. Kalahasteeswara Swamy Temple, Sri Kalahasthi'"
      ]
     },
     "execution_count": 221,
     "metadata": {},
     "output_type": "execute_result"
    }
   ],
   "source": [
    "answer_query_with_context(\"what are the major shiva temples in andhra pradesh?\", df, document_embeddings)"
   ]
  },
  {
   "cell_type": "code",
   "execution_count": 222,
   "id": "809664d8",
   "metadata": {},
   "outputs": [
    {
     "name": "stdout",
     "output_type": "stream",
     "text": [
      "('Andhra_Pradesh', 'Kanaka_Durga_Temple__Vijayawada__Andhra_Pradesh', 0)\n",
      "('Andhra_Pradesh', 'Kanaka_Durga_Temple__Vijayawada__Andhra_Pradesh', 1)\n",
      "('Odisha', 'Durga_Temple__Motia__Cuttack__Odisha', 0)\n",
      "('Tamil_Nadu', 'Ujjaini_Mahakali_Temple__Secunderabad__Telangana', 2)\n",
      "('Chhattisgarh', 'Hathnikala_Temple__Mungeli', 0)\n",
      "('Delhi', 'Jhandewalan_Mandir__Delhi', 0)\n",
      "('Maharashtra', 'Durga_Devi_temple__Ratnagiri', 0)\n",
      "('Odisha', 'Vaishnodevi_Temple__Rourkela__Odisha', 1)\n",
      "('Arunachal_Pradesh', 'Malinithan_temple_(or_Akashganga_temple)', 0)\n",
      "('Madhya_Pradesh', 'Vindhyawasini_Mata_Temple__Sehore', 0)\n",
      "('Madhya_Pradesh', 'Bijasan_Mata_Temple__Salkanpur', 0)\n",
      "('Delhi', 'Chhatarpur_Temple__Mehrauli_Â\\xa0New_Delhi', 1)\n",
      "('Delhi', 'Jhandewalan_Temple__North', 1)\n",
      "('Andhra_Pradesh', 'Kulandeshwara_Temple__Andhra_Pradesh', 0)\n",
      "('Odisha', 'Parashurameshvara_Temple__Bhubaneswar__Odisha', 4)\n",
      "('Andhra_Pradesh', 'Yaganti_temple__Andhra_Pradesh', 1)\n",
      "('Chhattisgarh', 'Danteshwari_Temple__Danteshwari__Chhattisgarh', 1)\n"
     ]
    },
    {
     "name": "stderr",
     "output_type": "stream",
     "text": [
      "C:\\Users\\003GHU744\\AppData\\Local\\Temp\\ipykernel_14152\\1057417536.py:14: PerformanceWarning: indexing past lexsort depth may impact performance.\n",
      "  document_section = df.loc[section_index].iloc[0]\n"
     ]
    },
    {
     "data": {
      "text/plain": [
       "'1) Kanaka Durga Temple, Vijayawada \\n2) Kulandeshwara Temple (exact location not provided) \\n3) Yaganti Temple (Shiva, Parvati & Nandi are main deities at this temple, with Durga likely also worshipped.)'"
      ]
     },
     "execution_count": 222,
     "metadata": {},
     "output_type": "execute_result"
    }
   ],
   "source": [
    "answer_query_with_context(\"what are the durga temples in andhra pradesh?\", df, document_embeddings)"
   ]
  },
  {
   "cell_type": "code",
   "execution_count": 223,
   "id": "c0bb4725",
   "metadata": {},
   "outputs": [
    {
     "name": "stdout",
     "output_type": "stream",
     "text": [
      "('Tamil_Nadu', 'Sri_Pandurangan_Temple__Thennangur', 2)\n",
      "('Kerala', 'Aranmula_Parthasarathy_Temple__Pathanamthitta__Kerala', 1)\n",
      "('Tamil_Nadu', 'Chakravageswarar_Temple__Chakkarapalli__Thanjavur', 0)\n",
      "('Kerala', 'Thiruvanathu_Sree_Krishna_Temple_Thrissur_Kerala', 0)\n",
      "('Tamil_Nadu', 'Aadhi_Kesava_Perumal_Temple__Vada_Madurai__Thiruvallur', 1)\n",
      "('Tamil_Nadu', 'Uppiliappan_temple__Thanjavur__Tamil_Nadu', 2)\n",
      "('Karnataka', 'Udupi_Sri_Krishna_Matha__Udupi__karnataka', 1)\n",
      "('Andhra_Pradesh', 'Srikalahasti_Temple', 0)\n",
      "('Tamil_Nadu', 'Sangameswarar_Temple__Erode__Tamil_Nadu', 1)\n",
      "('Tamil_Nadu', 'Manalikarai_Azhvar_Krishna_Swamy_Temple__Kanyakumari', 2)\n",
      "('Tamil_Nadu', 'Prasanna_Venkatesa_Perumal_Temple__Madurai', 1)\n",
      "('Gujarat', 'Girnar__Junagadh__Gujarat', 3)\n"
     ]
    },
    {
     "name": "stderr",
     "output_type": "stream",
     "text": [
      "C:\\Users\\003GHU744\\AppData\\Local\\Temp\\ipykernel_14152\\1057417536.py:14: PerformanceWarning: indexing past lexsort depth may impact performance.\n",
      "  document_section = df.loc[section_index].iloc[0]\n"
     ]
    },
    {
     "data": {
      "text/plain": [
       "'Some of the major Krishna temples in South India include Sri Pandurangan Temple in Thennangur, Aranmula Parthasarathy Temple in Pathanamthitta, Aadhi Kesava Perumal Temple in Vada Madurai, Uppiliappan Temple in Thanjavur, Thiruvanathu Sree Krishna Temple in Thrissur, and Prasanna Venkatesa Perumal Temple in Madurai.'"
      ]
     },
     "execution_count": 223,
     "metadata": {},
     "output_type": "execute_result"
    }
   ],
   "source": [
    "answer_query_with_context(\"what are the major krishna temples in south india?\", df, document_embeddings)"
   ]
  },
  {
   "cell_type": "code",
   "execution_count": 224,
   "id": "a81de2f2",
   "metadata": {},
   "outputs": [
    {
     "name": "stdout",
     "output_type": "stream",
     "text": [
      "('Tamil_Nadu', 'Chakravageswarar_Temple__Chakkarapalli__Thanjavur', 0)\n",
      "('Tamil_Nadu', 'Sri_Pandurangan_Temple__Thennangur', 2)\n",
      "('Tamil_Nadu', 'Sangameswarar_Temple__Erode__Tamil_Nadu', 1)\n",
      "('Andhra_Pradesh', 'Venkateswara_Temple__Tirumala__Andhra_Pradesh', 0)\n",
      "('Tamil_Nadu', 'Velladainatha_Swami_Temple__Thirukarugavur__Nagapattinam', 1)\n",
      "('Tamil_Nadu', 'Kapaleeshwarar_Temple__Chennai__Tamil_Nadu', 1)\n",
      "('Tamil_Nadu', 'Aadhi_Kesava_Perumal_Temple__Vada_Madurai__Thiruvallur', 1)\n",
      "('Tamil_Nadu', 'Ramanathaswamy_Temple__Ramanathapuram__Tamil_Nadu', 4)\n",
      "('Andhra_Pradesh', 'Kalahasteeswara_Swamy_Temple__Sri_Kalahasthi__Andhra_Pradesh', 0)\n",
      "('Tamil_Nadu', 'Veerabhadra_Swamy_Temple__Mylapore__Chennai', 1)\n",
      "('Andhra_Pradesh', 'Pallikondeswarar_Temple__Surutapalli__Chittoor', 0)\n",
      "('Tamil_Nadu', 'Navaneetha_Krishnan_Temple__Arasalur__Trichy', 1)\n"
     ]
    },
    {
     "name": "stderr",
     "output_type": "stream",
     "text": [
      "C:\\Users\\003GHU744\\AppData\\Local\\Temp\\ipykernel_14152\\1057417536.py:14: PerformanceWarning: indexing past lexsort depth may impact performance.\n",
      "  document_section = df.loc[section_index].iloc[0]\n"
     ]
    },
    {
     "data": {
      "text/plain": [
       "'The Venkateswara Temple in Tirumala, Andhra Pradesh is one of the most prominent Vaishnavite temples in South India.'"
      ]
     },
     "execution_count": 224,
     "metadata": {},
     "output_type": "execute_result"
    }
   ],
   "source": [
    "answer_query_with_context(\"what are the major venkateshwara temples in south india?\", df, document_embeddings)"
   ]
  },
  {
   "cell_type": "code",
   "execution_count": 225,
   "id": "d2cf06ad",
   "metadata": {},
   "outputs": [
    {
     "name": "stdout",
     "output_type": "stream",
     "text": [
      "('Tamil_Nadu', 'Chakravageswarar_Temple__Chakkarapalli__Thanjavur', 0)\n",
      "('Gujarat', 'Girnar__Junagadh__Gujarat', 3)\n",
      "('Tamil_Nadu', 'Sangameswarar_Temple__Erode__Tamil_Nadu', 1)\n",
      "('Tamil_Nadu', 'Vaitheeswaran_Koil__Nagapattinam__Tamil_Nadu', 4)\n",
      "('Tamil_Nadu', 'Aadhi_Kesava_Perumal_Temple__Vada_Madurai__Thiruvallur', 1)\n",
      "('Tamil_Nadu', 'Sri_Pandurangan_Temple__Thennangur', 2)\n",
      "('Tamil_Nadu', 'Ramanathaswamy_Temple__Ramanathapuram__Tamil_Nadu', 4)\n",
      "('Tamil_Nadu', 'Mahadevar_Temple__Edayarpakkam__Kanchipuram', 1)\n",
      "('Kerala', 'Ananthapura_Lake_Temple__Kasaragod__Kerala', 2)\n",
      "('Tamil_Nadu', 'Varadharaja_Perumal_Temple__Siruvapuri__Thiruvallur', 1)\n",
      "('Uttarakhand', 'Guptakashi__Rudraprayag__Uttrakhand', 1)\n",
      "('Uttarakhand', 'Madhyamaheshwar__Garhwal__Uttarakhand', 1)\n"
     ]
    },
    {
     "name": "stderr",
     "output_type": "stream",
     "text": [
      "C:\\Users\\003GHU744\\AppData\\Local\\Temp\\ipykernel_14152\\1057417536.py:14: PerformanceWarning: indexing past lexsort depth may impact performance.\n",
      "  document_section = df.loc[section_index].iloc[0]\n"
     ]
    },
    {
     "data": {
      "text/plain": [
       "'There is no information related to Venkateshwara temples in North India in the given context.'"
      ]
     },
     "execution_count": 225,
     "metadata": {},
     "output_type": "execute_result"
    }
   ],
   "source": [
    "answer_query_with_context(\"what are the major venkateshwara temples in north india?\", df, document_embeddings)"
   ]
  },
  {
   "cell_type": "code",
   "execution_count": 227,
   "id": "ed6ccf8a",
   "metadata": {},
   "outputs": [
    {
     "name": "stdout",
     "output_type": "stream",
     "text": [
      "('Gujarat', 'Girnar__Junagadh__Gujarat', 3)\n",
      "('Delhi', 'Lakshmi_Narayan_Temple__Delhi', 0)\n",
      "('Uttar_Pradesh', 'Krishna_Janmasthan_Temple_Complex__Mathura__Uttar_Pradesh', 0)\n",
      "('Tamil_Nadu', 'Sri_Pandurangan_Temple__Thennangur', 2)\n",
      "('Karnataka', 'Udupi_Sri_Krishna_Matha__Udupi__karnataka', 1)\n",
      "('Odisha', 'Chateshwar_Temple__Cuttack__Odisha', 1)\n",
      "('Haryana', 'Bhadrakali_Temple__Kurukshetra__Haryana', 1)\n",
      "('Gujarat', 'Dwarkadhish_Temple__Dwarka__Gujarat', 1)\n",
      "('Delhi', 'ISKCON_Temple_Delhi__New_Delhi', 0)\n",
      "('Uttarakhand', 'Jyotirmath__Chamoli__Uttarakhand', 2)\n",
      "('Haryana', 'Shri_Sthaneshwara_Temple__Kurukshetra__Haryana', 1)\n",
      "('Rajasthan', 'Sanwariaji_Temple__Chittorgarh__Rajasthan', 0)\n",
      "('West_Bengal', 'Dakshineswar_Kali_Temple__North_24_Parganas__West_Bengal', 1)\n",
      "('Tamil_Nadu', 'Thiruneermalai_Dhivya_Desam__Kanchipuram', 3)\n"
     ]
    },
    {
     "name": "stderr",
     "output_type": "stream",
     "text": [
      "C:\\Users\\003GHU744\\AppData\\Local\\Temp\\ipykernel_14152\\1057417536.py:14: PerformanceWarning: indexing past lexsort depth may impact performance.\n",
      "  document_section = df.loc[section_index].iloc[0]\n"
     ]
    },
    {
     "data": {
      "text/plain": [
       "\"1. Krishna Janmasthan Temple Complex, Mathura, Uttar Pradesh\\n2. Udupi Sri Krishna Matha, Udupi, Karnataka\\n3. Sanwariaji Temple, Chittorgarh, Rajasthan\\n4. Dakshineswar Kali Temple, North 24 Parganas, West Bengal \\n5. Dwarkadhish Temple, Dwarka, Gujarat (Krishna's residential place)\""
      ]
     },
     "execution_count": 227,
     "metadata": {},
     "output_type": "execute_result"
    }
   ],
   "source": [
    "answer_query_with_context(\"what are the major krishna temples in north india?\", df, document_embeddings)"
   ]
  },
  {
   "cell_type": "code",
   "execution_count": 228,
   "id": "55a60f57",
   "metadata": {},
   "outputs": [
    {
     "name": "stdout",
     "output_type": "stream",
     "text": [
      "('Jammu_and_Kashmir', 'Shri_Amarnath_Shrine', 0)\n",
      "('Jammu_and_Kashmir', 'Buddha_Amarnath_Temple__Poonch', 0)\n",
      "('Maharashtra', 'Shiv_Mandir_Thane', 0)\n",
      "('Madhya_Pradesh', 'Shyam_Kaka_Temple__Rajgarh__Madhya_Pradesh', 2)\n",
      "('Tamil_Nadu', 'Kodi_Kuzhagar_Temple__Kodiakkarai__Nagapattinam', 1)\n",
      "('Tamil_Nadu', 'Nandeeswarar_Temple__Nandivaram__Guduvanchery__Kanchipuram', 0)\n",
      "('Karnataka', 'Amrutesvara_Temple__Amruthapura__Chikkamagaluru__Karnataka', 3)\n",
      "('Uttar_Pradesh', 'Amareshwar_Temple__Varanasi', 0)\n",
      "('Tamil_Nadu', 'Thirunandheeswarar_Temple__Manavur__Thiruvallur', 1)\n",
      "('Tamil_Nadu', 'Kodi_Kuzhagar_Temple__Kodiakkarai__Nagapattinam', 2)\n",
      "('Kerala', 'Thiruvanchikulam_Temple__Thrissur__kerala', 3)\n",
      "('Tamil_Nadu', 'Aavundeeswarar_Temple__Nemam__Thiruvallur', 1)\n"
     ]
    },
    {
     "name": "stderr",
     "output_type": "stream",
     "text": [
      "C:\\Users\\003GHU744\\AppData\\Local\\Temp\\ipykernel_14152\\1057417536.py:14: PerformanceWarning: indexing past lexsort depth may impact performance.\n",
      "  document_section = df.loc[section_index].iloc[0]\n"
     ]
    },
    {
     "data": {
      "text/plain": [
       "'The holy cave or Amarnath Shrine is the abode of Lord Shiva. Shri Amarnath Shrine is located at the end of valley Lidder at a distance of 46 kms from Pahalgam and 14 kms from Baltal (Sonmarg), at an elevation of 3,888 meters. Amarnathji is considered to be one of the major Hindu Dhams. The holy ice-lingam is formed naturally in this cave. Darshan of holy lingam can be done in Month of Savan (August)through the Amarnath yatra which is organised by Amarnath shrine board. Commonly, pilgrimage journey can be opted by Chandanbari route via Pahalgam which is 96 kms from srinagar and 280 kms from Jammu. The world famous shrine of Amarnathji is situated about 48 Kms. from Pahalgam and attracts devotees from all over India.'"
      ]
     },
     "execution_count": 228,
     "metadata": {},
     "output_type": "execute_result"
    }
   ],
   "source": [
    "answer_query_with_context(\"what is the history of amarnath?\", df, document_embeddings)"
   ]
  },
  {
   "cell_type": "code",
   "execution_count": 229,
   "id": "bf754adf",
   "metadata": {},
   "outputs": [
    {
     "name": "stdout",
     "output_type": "stream",
     "text": [
      "('Jammu_and_Kashmir', 'Shri_Amarnath_Shrine', 0)\n",
      "('Jammu_and_Kashmir', 'Buddha_Amarnath_Temple__Poonch', 0)\n",
      "('Maharashtra', 'Shiv_Mandir_Thane', 0)\n",
      "('Karnataka', 'Shree_Vishnumurthy_Temple__Mangalore__karnataka', 1)\n",
      "('Jammu_and_Kashmir', 'Sudh_Mahadev___Patnitop', 0)\n",
      "('Tamil_Nadu', 'Vamanapureeswarar_Temple__Thirumanikuzhi__Cuddalore', 0)\n",
      "('Uttar_Pradesh', 'Shivling_in_Devkali_Temple__Auraiya', 0)\n",
      "('Uttar_Pradesh', 'Devi_Kali_Temple__Auraiya', 0)\n",
      "('Jammu_and_Kashmir', 'Kameshwar_temple__Akhnoor', 0)\n",
      "('Punjab', 'Mata_Chakreshwari_Temple__Fatehgarh_Sahib', 0)\n",
      "('Jammu_and_Kashmir', 'Panchbakhtar_Temple__Jammu.', 0)\n",
      "('Tamil_Nadu', 'Vamanapureeswarar_Temple__Thirumanikuzhi__Cuddalore', 4)\n",
      "('Tamil_Nadu', 'Aavundeeswarar_Temple__Nemam__Thiruvallur', 0)\n",
      "('Tamil_Nadu', 'Ramanatheeswarar_Temple__Porur__Chennai', 0)\n",
      "('Tamil_Nadu', 'Edaganathar_Temple__Thiruvedagam__Madurai', 1)\n",
      "('Madhya_Pradesh', 'Kalmadhav__Amarkantak', 0)\n"
     ]
    },
    {
     "name": "stderr",
     "output_type": "stream",
     "text": [
      "C:\\Users\\003GHU744\\AppData\\Local\\Temp\\ipykernel_14152\\1057417536.py:14: PerformanceWarning: indexing past lexsort depth may impact performance.\n",
      "  document_section = df.loc[section_index].iloc[0]\n"
     ]
    },
    {
     "data": {
      "text/plain": [
       "'The holy cave or Amarnath Shrine is believed to be one of the major Hindu Dhams and has a naturally formed ice-lingam. The shrine can be visited in the month of Savan (August) through the Amarnath yatra which is organized by Amarnath shrine board. The shrine attracts devotees from all over India and is located in the upper reaches of District Anantnag at an altitude of about 13,000 ft. from the sea level. Because of this height, the cave is covered with snow for most of the year. However, the context does not provide a specific age for the Amarnath shrine.'"
      ]
     },
     "execution_count": 229,
     "metadata": {},
     "output_type": "execute_result"
    }
   ],
   "source": [
    "answer_query_with_context(\"how old is the amarnath shrine?\", df, document_embeddings)"
   ]
  },
  {
   "cell_type": "code",
   "execution_count": null,
   "id": "82e6db83",
   "metadata": {},
   "outputs": [],
   "source": []
  }
 ],
 "metadata": {
  "kernelspec": {
   "display_name": "hf",
   "language": "python",
   "name": "python3"
  },
  "language_info": {
   "codemirror_mode": {
    "name": "ipython",
    "version": 3
   },
   "file_extension": ".py",
   "mimetype": "text/x-python",
   "name": "python",
   "nbconvert_exporter": "python",
   "pygments_lexer": "ipython3",
   "version": "3.10.9"
  },
  "vscode": {
   "interpreter": {
    "hash": "db74b66ac03fc5d0d003a202a76291a9ddcb489c737689b73f0c54cb4c56a8e4"
   }
  }
 },
 "nbformat": 4,
 "nbformat_minor": 5
}
