{
 "cells": [
  {
   "cell_type": "code",
   "execution_count": 17,
   "id": "9e3839a6-9146-4f60-b74b-19abbc24278d",
   "metadata": {},
   "outputs": [],
   "source": [
    "import os\n",
    "from dotenv import load_dotenv\n",
    "import numpy as np\n",
    "import openai\n",
    "import pandas as pd\n",
    "import pickle\n",
    "import tiktoken\n",
    "from tenacity import (\n",
    "    retry,\n",
    "    stop_after_attempt,\n",
    "    wait_random_exponential,\n",
    ")  # for exponential backoff\n",
    "\n",
    "load_dotenv()\n",
    "openai.api_key = os.getenv('OPENAI_API_KEY')\n",
    "\n",
    "COMPLETIONS_MODEL = \"text-davinci-003\"\n",
    "EMBEDDING_MODEL = \"text-embedding-ada-002\""
   ]
  },
  {
   "cell_type": "code",
   "execution_count": 18,
   "id": "a167516c-7c19-4bda-afa5-031aa0ae13bb",
   "metadata": {},
   "outputs": [
    {
     "data": {
      "text/plain": [
       "'The most common treatment for burning eyes is artificial tears. Artificial tears are available over-the-counter in the form of eye drops or gels. They help to lubricate the eyes and reduce the burning sensation. Other treatments may include antihistamines, decongestants, and steroid eye drops.'"
      ]
     },
     "execution_count": 18,
     "metadata": {},
     "output_type": "execute_result"
    }
   ],
   "source": [
    "prompt = \"What is the medicine for burning eyes?\"\n",
    "\n",
    "openai.Completion.create(\n",
    "    prompt=prompt,\n",
    "    temperature=0,\n",
    "    max_tokens=300,\n",
    "    model=COMPLETIONS_MODEL\n",
    ")[\"choices\"][0][\"text\"].strip(\" \\n\")"
   ]
  },
  {
   "cell_type": "code",
   "execution_count": 19,
   "id": "a5451371-17fe-4ef3-aa02-affcf4edb0e0",
   "metadata": {},
   "outputs": [
    {
     "data": {
      "text/plain": [
       "\"Sorry, I don't know.\""
      ]
     },
     "execution_count": 19,
     "metadata": {},
     "output_type": "execute_result"
    }
   ],
   "source": [
    "prompt = \"\"\"Answer the question as truthfully as possible, and if you're unsure of the answer, say \"Sorry, I don't know\".\n",
    "\n",
    "Q: What is the medicine for burning eyes?\n",
    "A:\"\"\"\n",
    "\n",
    "openai.Completion.create(\n",
    "    prompt=prompt,\n",
    "    temperature=0,\n",
    "    max_tokens=300,\n",
    "    model=COMPLETIONS_MODEL\n",
    ")[\"choices\"][0][\"text\"].strip(\" \\n\")"
   ]
  },
  {
   "cell_type": "code",
   "execution_count": 20,
   "id": "cc9c8d69-e234-48b4-87e3-935970e1523a",
   "metadata": {},
   "outputs": [
    {
     "name": "stdout",
     "output_type": "stream",
     "text": [
      "14958 rows in the data.\n"
     ]
    },
    {
     "data": {
      "text/html": [
       "<div>\n",
       "<style scoped>\n",
       "    .dataframe tbody tr th:only-of-type {\n",
       "        vertical-align: middle;\n",
       "    }\n",
       "\n",
       "    .dataframe tbody tr th {\n",
       "        vertical-align: top;\n",
       "    }\n",
       "\n",
       "    .dataframe thead th {\n",
       "        text-align: right;\n",
       "    }\n",
       "</style>\n",
       "<table border=\"1\" class=\"dataframe\">\n",
       "  <thead>\n",
       "    <tr style=\"text-align: right;\">\n",
       "      <th></th>\n",
       "      <th></th>\n",
       "      <th>content</th>\n",
       "      <th>tokens</th>\n",
       "    </tr>\n",
       "    <tr>\n",
       "      <th>title</th>\n",
       "      <th>heading</th>\n",
       "      <th></th>\n",
       "      <th></th>\n",
       "    </tr>\n",
       "  </thead>\n",
       "  <tbody>\n",
       "    <tr>\n",
       "      <th>Sinapis Nigra</th>\n",
       "      <th>symptoms of Lower Limbs</th>\n",
       "      <td>Weakness in calf-muscles. Dull, heavy ache in ...</td>\n",
       "      <td>23</td>\n",
       "    </tr>\n",
       "    <tr>\n",
       "      <th>Robinia</th>\n",
       "      <th>symptoms of Urinary Organs</th>\n",
       "      <td>Urine scanty and painful; or profuse and turbid.</td>\n",
       "      <td>14</td>\n",
       "    </tr>\n",
       "    <tr>\n",
       "      <th>Nicotinum</th>\n",
       "      <th>symptoms of Mouth</th>\n",
       "      <td>Sharp burning sensation in tongue. Increased s...</td>\n",
       "      <td>31</td>\n",
       "    </tr>\n",
       "    <tr>\n",
       "      <th>Strychninum</th>\n",
       "      <th>symptoms of Heart</th>\n",
       "      <td>Tightness about prÃ¦cordia. During day, dull p...</td>\n",
       "      <td>91</td>\n",
       "    </tr>\n",
       "    <tr>\n",
       "      <th>Euphrasia</th>\n",
       "      <th>symptoms of Mind</th>\n",
       "      <td>Taciturnity, and repugnance to conversation; a...</td>\n",
       "      <td>32</td>\n",
       "    </tr>\n",
       "  </tbody>\n",
       "</table>\n",
       "</div>"
      ],
      "text/plain": [
       "                                                                                    content  \\\n",
       "title         heading                                                                         \n",
       "Sinapis Nigra symptoms of Lower Limbs     Weakness in calf-muscles. Dull, heavy ache in ...   \n",
       "Robinia       symptoms of Urinary Organs   Urine scanty and painful; or profuse and turbid.   \n",
       "Nicotinum     symptoms of Mouth           Sharp burning sensation in tongue. Increased s...   \n",
       "Strychninum   symptoms of Heart           Tightness about prÃ¦cordia. During day, dull p...   \n",
       "Euphrasia     symptoms of Mind            Taciturnity, and repugnance to conversation; a...   \n",
       "\n",
       "                                          tokens  \n",
       "title         heading                             \n",
       "Sinapis Nigra symptoms of Lower Limbs         23  \n",
       "Robinia       symptoms of Urinary Organs      14  \n",
       "Nicotinum     symptoms of Mouth               31  \n",
       "Strychninum   symptoms of Heart               91  \n",
       "Euphrasia     symptoms of Mind                32  "
      ]
     },
     "execution_count": 20,
     "metadata": {},
     "output_type": "execute_result"
    }
   ],
   "source": [
    "# We have hosted the processed dataset, so you can download it directly without having to recreate it.\n",
    "# This dataset has already been split into sections, one row for each section of the Wikipedia page.\n",
    "\n",
    "df = pd.read_csv('clarke_symptoms_cleaned.csv')\n",
    "# df = pd.read_csv('clarke_remedy_info_cleaned_v2.csv')\n",
    "\n",
    "df = df.set_index([\"title\", \"heading\"])\n",
    "print(f\"{len(df)} rows in the data.\")\n",
    "df.sample(5)"
   ]
  },
  {
   "cell_type": "code",
   "execution_count": 21,
   "id": "ba475f30-ef7f-431c-b60d-d5970b62ad09",
   "metadata": {},
   "outputs": [],
   "source": [
    "@retry(wait=wait_random_exponential(min=1, max=60), stop=stop_after_attempt(10))\n",
    "def get_embedding(text: str, model: str=EMBEDDING_MODEL) -> list[float]:\n",
    "    result = openai.Embedding.create(\n",
    "      model=model,\n",
    "      input=text\n",
    "    )\n",
    "    return result[\"data\"][0][\"embedding\"]\n",
    "\n",
    "def compute_doc_embeddings(df: pd.DataFrame) -> dict[tuple[str, str], list[float]]:\n",
    "    \"\"\"\n",
    "    Create an embedding for each row in the dataframe using the OpenAI Embeddings API.\n",
    "    \n",
    "    Return a dictionary that maps between each embedding vector and the index of the row that it corresponds to.\n",
    "    \"\"\"\n",
    "    return {\n",
    "        idx: get_embedding(r.content) for idx, r in df.iterrows()\n",
    "    }"
   ]
  },
  {
   "cell_type": "code",
   "execution_count": 22,
   "id": "737266aa-cbe7-4691-87c1-fce8a31632f1",
   "metadata": {},
   "outputs": [],
   "source": [
    "def load_embeddings(fname: str) -> dict[tuple[str, str], list[float]]:\n",
    "    \"\"\"\n",
    "    Read the document embeddings and their keys from a CSV.\n",
    "    \n",
    "    fname is the path to a CSV with exactly these named columns: \n",
    "        \"title\", \"heading\", \"0\", \"1\", ... up to the length of the embedding vectors.\n",
    "    \"\"\"\n",
    "    \n",
    "    df = pd.read_csv(fname, header=0)\n",
    "    max_dim = max([int(c) for c in df.columns if c != \"title\" and c != \"heading\"])\n",
    "    return {\n",
    "           (r.title, r.heading): [r[str(i)] for i in range(max_dim + 1)] for _, r in df.iterrows()\n",
    "    }"
   ]
  },
  {
   "cell_type": "markdown",
   "id": "cfe9c723-f838-4c75-8ed8-286b2e491a60",
   "metadata": {},
   "source": [
    "Again, we have hosted the embeddings for you so you don't have to re-calculate them from scratch."
   ]
  },
  {
   "cell_type": "code",
   "execution_count": 23,
   "id": "ab50bfca-cb02-41c6-b338-4400abe1d86e",
   "metadata": {},
   "outputs": [],
   "source": [
    "# document_embeddings = load_embeddings(\"https://cdn.openai.com/API/examples/data/olympics_sections_document_embeddings.csv\")\n",
    "document_embeddings = load_embeddings(\"clarke_symptoms_cleaned_embeddings_v2.csv\")\n",
    "# document_embeddings = load_embeddings(\"clarke_remedy_info_cleaned_v2_embeddings_v2.csv\")\n",
    "\n",
    "# ===== OR, uncomment the below line to recaculate the embeddings from scratch. ========\n",
    "\n",
    "# document_embeddings = compute_doc_embeddings(df)"
   ]
  },
  {
   "cell_type": "code",
   "execution_count": 24,
   "id": "28dfa9ab",
   "metadata": {},
   "outputs": [],
   "source": [
    "# pd.DataFrame(document_embeddings.items()).to_csv('clarke_remedy_info_cleaned_v2_embeddings.csv', index=False)\n",
    "# pd.DataFrame(document_embeddings.items()).to_csv('clarke_symptoms_cleaned_embeddings.csv', index=False)"
   ]
  },
  {
   "cell_type": "code",
   "execution_count": 25,
   "id": "b9a8c713-c8a9-47dc-85a4-871ee1395566",
   "metadata": {},
   "outputs": [
    {
     "name": "stdout",
     "output_type": "stream",
     "text": [
      "('Abies Canadensis', 'symptoms of Mind') : [-0.000476399, 0.004719749, 0.01499975, -0.018661214, -0.015802821]... (1536 entries)\n"
     ]
    }
   ],
   "source": [
    "# An example embedding:\n",
    "example_entry = list(document_embeddings.items())[0]\n",
    "print(f\"{example_entry[0]} : {example_entry[1][:5]}... ({len(example_entry[1])} entries)\")"
   ]
  },
  {
   "cell_type": "code",
   "execution_count": 26,
   "id": "dcd680e9-f194-4180-b14f-fc357498eb92",
   "metadata": {},
   "outputs": [],
   "source": [
    "def vector_similarity(x: list[float], y: list[float]) -> float:\n",
    "    \"\"\"\n",
    "    Returns the similarity between two vectors.\n",
    "    \n",
    "    Because OpenAI Embeddings are normalized to length 1, the cosine similarity is the same as the dot product.\n",
    "    \"\"\"\n",
    "    return np.dot(np.array(x), np.array(y))\n",
    "\n",
    "def order_document_sections_by_query_similarity(query: str, contexts: dict[(str, str), np.array]) -> list[(float, (str, str))]:\n",
    "    \"\"\"\n",
    "    Find the query embedding for the supplied query, and compare it against all of the pre-calculated document embeddings\n",
    "    to find the most relevant sections. \n",
    "    \n",
    "    Return the list of document sections, sorted by relevance in descending order.\n",
    "    \"\"\"\n",
    "    query_embedding = get_embedding(query)\n",
    "    \n",
    "    document_similarities = sorted([\n",
    "        (vector_similarity(query_embedding, doc_embedding), doc_index) for doc_index, doc_embedding in contexts.items()\n",
    "    ], reverse=True)\n",
    "    \n",
    "    return document_similarities"
   ]
  },
  {
   "cell_type": "code",
   "execution_count": 27,
   "id": "e3a27d73-f47f-480d-b336-079414f749cb",
   "metadata": {},
   "outputs": [
    {
     "data": {
      "text/plain": [
       "[(0.8654027319389825, ('Azadirachta Indica', 'symptoms of Eyes')),\n",
       " (0.8561014641770723, ('Mercurius', 'symptoms of Eyes')),\n",
       " (0.8539604720308569, ('Ferula Glauca', 'symptoms of Eyes')),\n",
       " (0.8499646888753374, ('Gallicum Acidum', 'symptoms of Eyes')),\n",
       " (0.8472378476962299, ('Aphis Chenopodii Glauci', 'symptoms of Eyes'))]"
      ]
     },
     "execution_count": 27,
     "metadata": {},
     "output_type": "execute_result"
    }
   ],
   "source": [
    "order_document_sections_by_query_similarity(\"What is the medicine for burning eyes?\", document_embeddings)[:5]"
   ]
  },
  {
   "cell_type": "code",
   "execution_count": 28,
   "id": "b763ace2-1946-48e0-8ff1-91ba335d47a0",
   "metadata": {},
   "outputs": [
    {
     "data": {
      "text/plain": [
       "'Context separator contains 3 tokens'"
      ]
     },
     "execution_count": 28,
     "metadata": {},
     "output_type": "execute_result"
    }
   ],
   "source": [
    "MAX_SECTION_LEN = 500\n",
    "SEPARATOR = \"\\n* \"\n",
    "ENCODING = \"gpt2\"  # encoding for text-davinci-003\n",
    "\n",
    "encoding = tiktoken.get_encoding(ENCODING)\n",
    "separator_len = len(encoding.encode(SEPARATOR))\n",
    "\n",
    "f\"Context separator contains {separator_len} tokens\""
   ]
  },
  {
   "cell_type": "code",
   "execution_count": 29,
   "id": "0c5c0509-eeb9-4552-a5d4-6ace04ef73dd",
   "metadata": {},
   "outputs": [],
   "source": [
    "def construct_prompt(question: str, context_embeddings: dict, df: pd.DataFrame) -> str:\n",
    "    \"\"\"\n",
    "    Fetch relevant \n",
    "    \"\"\"\n",
    "    most_relevant_document_sections = order_document_sections_by_query_similarity(question, context_embeddings)\n",
    "    \n",
    "    chosen_sections = []\n",
    "    chosen_sections_len = 0\n",
    "    chosen_sections_indexes = []\n",
    "     \n",
    "    for _, section_index in most_relevant_document_sections:\n",
    "        # Add contexts until we run out of space.        \n",
    "        document_section = df.loc[section_index]\n",
    "        \n",
    "        chosen_sections_len += document_section.tokens + separator_len\n",
    "        if chosen_sections_len > MAX_SECTION_LEN:\n",
    "            break\n",
    "            \n",
    "        chosen_sections.append(SEPARATOR + document_section.content.replace(\"\\n\", \" \"))\n",
    "        chosen_sections_indexes.append(str(section_index))\n",
    "            \n",
    "    # Useful diagnostic information\n",
    "    print(f\"Selected {len(chosen_sections)} document sections:\")\n",
    "    print(\"\\n\".join(chosen_sections_indexes))\n",
    "    \n",
    "    header = \"\"\"Answer the question as truthfully as possible using the provided context, and if the answer is not specified within the text below, say \"I don't know.\"\\n\\nContext:\\n\"\"\"\n",
    "    # header = \"\"\"Answer the question as truthfully as possible using the provided context without making up medicines names.\\n\\nContext:\\n\"\"\"\n",
    "    # header = \"\"\"\\n\\nContext:\\n\"\"\"\n",
    "    \n",
    "    return header + \"\".join(chosen_sections) + \"\\n\\n Q: \" + question + \"\\n A:\""
   ]
  },
  {
   "cell_type": "code",
   "execution_count": 30,
   "id": "f614045a-3917-4b28-9643-7e0c299ec1a7",
   "metadata": {},
   "outputs": [
    {
     "name": "stdout",
     "output_type": "stream",
     "text": [
      "Selected 20 document sections:\n",
      "('Asterias Rubens', 'symptoms of Nose')\n",
      "('Scorpio', 'symptoms of Nose')\n",
      "('NymphÃ¦a Odorata', 'symptoms of Respiratory Organs')\n",
      "('Lilium Tigrinum', 'symptoms of Nose')\n",
      "('Stachys Betonica', 'symptoms of Nose')\n",
      "('Sulphurosum Acidum', 'symptoms of Nose')\n",
      "('Mimosa', 'symptoms of Nose')\n",
      "('Plectranthus', 'symptoms of Nose')\n",
      "('Viburnum Opulus', 'symptoms of Nose')\n",
      "('Cornus Alternifolia', 'symptoms of Nose')\n",
      "('Baryta Muriatica', 'symptoms of Nose')\n",
      "('Hall', 'symptoms of Nose')\n",
      "('Itu', 'symptoms of Nose')\n",
      "('Cimex', 'symptoms of Nose')\n",
      "('Digitalinum', 'symptoms of Nose')\n",
      "('Saponinum', 'symptoms of Nose')\n",
      "('Saccharum Officinale', 'symptoms of Nose')\n",
      "('Triosteum', 'symptoms of Nose')\n",
      "('Ammoniacum', 'symptoms of Nose')\n",
      "('Iris Versicolor', 'symptoms of Nose')\n",
      "===\n",
      " Answer the question as truthfully as possible using the provided context without making up medicines names.\n",
      "\n",
      "Context:\n",
      "\n",
      "* Epistaxis; sneezing and coryza in the morning on waking.\n",
      "* Frequent sneezing.\n",
      "* Some cough in morning.\n",
      "* Sneezing and fluent coryza all day. Running from nose renewed after a glass of cold water; feeling of heat in face and over whole body as in fever; after a while prickling as in perspiration with only moist skin. Snuff has a greater effect than usual in evening.\n",
      "* Frequent sneezing; on going indoors from open air; increased nasal mucus.\n",
      "* Sneezing and coryza.\n",
      "* Sneezing and coryza.\n",
      "* Excessive catarrh, frequent inclination to sneeze; great stoppage with at times discharge of tenacious yellow mucus. Dryness, mornings.\n",
      "* Sneezing. Watery coryza.\n",
      "* Sneezing; head partially stopped up towards night.\n",
      "* Sneezing in sleep. Coryza.\n",
      "* Frequent (violent) sneezing and feeling of commencing coryza.\n",
      "* Repeated sneezing. Coryza (9th day).\n",
      "* Annoying dryness of nostrils. Fluent coryza with pressure in frontal sinuses. Constant sneezing in forenoon. Sweat on nose, morning, during rest.\n",
      "* Frequent sneezing and coryza; with pressing, throbbing pains in arms; nasal mucus streaked with blood in morning; smell lost.\n",
      "* Dry coryza and frequent sneezing. R. nostril plugged in morning, with headache. Dull pain at root of nose and in temples. Nose cold and pale.\n",
      "* Sneezing; dry coryza.\n",
      "* Sneezing.\n",
      "* Painful dryness in the nose on rising in the morning. Increase of nasal mucus. Sneezing, followed by an abundant flow of mucus from the nose. Constant motion of alÃ¦ nasi.\n",
      "* Constant sneezing.\n",
      "\n",
      " Q: What are the best medicines for frequent colds with sneezing that increases in the morning?\n",
      " A:\n"
     ]
    }
   ],
   "source": [
    "prompt = construct_prompt(\n",
    "    \"What are the best medicines for frequent colds with sneezing that increases in the morning?\",\n",
    "    document_embeddings,\n",
    "    df\n",
    ")\n",
    "\n",
    "print(\"===\\n\", prompt)"
   ]
  },
  {
   "cell_type": "code",
   "execution_count": 31,
   "id": "b0edfec7-9243-4573-92e0-253d31c771ad",
   "metadata": {},
   "outputs": [],
   "source": [
    "COMPLETIONS_API_PARAMS = {\n",
    "    # We use temperature of 0.0 because it gives the most predictable, factual answer.\n",
    "    \"temperature\": 0.0,\n",
    "    \"max_tokens\": 300,\n",
    "    \"model\": COMPLETIONS_MODEL,\n",
    "}"
   ]
  },
  {
   "cell_type": "code",
   "execution_count": 32,
   "id": "9c1c9a69-848e-4099-a90d-c8da36c153d5",
   "metadata": {},
   "outputs": [],
   "source": [
    "def answer_query_with_context(\n",
    "    query: str,\n",
    "    df: pd.DataFrame,\n",
    "    document_embeddings: dict[(str, str), np.array],\n",
    "    show_prompt: bool = False\n",
    ") -> str:\n",
    "    prompt = construct_prompt(\n",
    "        query,\n",
    "        document_embeddings,\n",
    "        df\n",
    "    )\n",
    "    \n",
    "    if show_prompt:\n",
    "        print(prompt)\n",
    "\n",
    "    response = openai.Completion.create(\n",
    "                prompt=prompt,\n",
    "                **COMPLETIONS_API_PARAMS\n",
    "            )\n",
    "\n",
    "    return response[\"choices\"][0][\"text\"].strip(\" \\n\")"
   ]
  },
  {
   "cell_type": "code",
   "execution_count": 34,
   "id": "c233e449-bf33-4c9e-b095-6a4dd278c8fd",
   "metadata": {},
   "outputs": [
    {
     "name": "stdout",
     "output_type": "stream",
     "text": [
      "Selected 12 document sections:\n",
      "('Artemisia Abrotanum', 'symptoms of Eyes')\n",
      "('Abrotanum', 'symptoms of Eyes')\n",
      "('Zincum Sulphuricum', 'symptoms of Eyes')\n",
      "('Filix Mas', 'symptoms of Face')\n",
      "('Ferrum', 'symptoms of Eyes')\n",
      "('Mitchella', 'symptoms of Eyes')\n",
      "('Sulphur Hydrogenisatum', 'symptoms of Eyes')\n",
      "('Ancistroden Contortrix', 'symptoms of Face')\n",
      "('Cenchris Contortrix', 'symptoms of Face')\n",
      "('Santoninum', 'symptoms of Eyes')\n",
      "('Aletris Farinosa', 'symptoms of Eyes')\n",
      "('Ammonium Bromatum', 'symptoms of Eyes')\n"
     ]
    },
    {
     "data": {
      "text/plain": [
       "'The homoeopathic medicines that may be helpful for blue rings around dull-looking eyes include Apis mellifica, Euphrasia officinalis, Pulsatilla nigricans, and Rhus toxicodendron.'"
      ]
     },
     "execution_count": 34,
     "metadata": {},
     "output_type": "execute_result"
    }
   ],
   "source": [
    "answer_query_with_context(\"homoeo medicine for Blue rings around dull-looking eyes?\", df, document_embeddings)"
   ]
  },
  {
   "cell_type": "code",
   "execution_count": null,
   "id": "2862a897",
   "metadata": {},
   "outputs": [],
   "source": []
  }
 ],
 "metadata": {
  "kernelspec": {
   "display_name": "hf",
   "language": "python",
   "name": "python3"
  },
  "language_info": {
   "codemirror_mode": {
    "name": "ipython",
    "version": 3
   },
   "file_extension": ".py",
   "mimetype": "text/x-python",
   "name": "python",
   "nbconvert_exporter": "python",
   "pygments_lexer": "ipython3",
   "version": "3.10.9"
  },
  "vscode": {
   "interpreter": {
    "hash": "db74b66ac03fc5d0d003a202a76291a9ddcb489c737689b73f0c54cb4c56a8e4"
   }
  }
 },
 "nbformat": 4,
 "nbformat_minor": 5
}
