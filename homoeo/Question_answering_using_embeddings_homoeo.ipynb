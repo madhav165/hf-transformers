{
 "cells": [
  {
   "cell_type": "code",
   "execution_count": 5,
   "id": "9e3839a6-9146-4f60-b74b-19abbc24278d",
   "metadata": {},
   "outputs": [],
   "source": [
    "import os\n",
    "from dotenv import load_dotenv\n",
    "import numpy as np\n",
    "import openai\n",
    "import pandas as pd\n",
    "import pickle\n",
    "import tiktoken\n",
    "from tenacity import (\n",
    "    retry,\n",
    "    stop_after_attempt,\n",
    "    wait_random_exponential,\n",
    "    wait_random\n",
    ")  # for exponential backoff\n",
    "\n",
    "load_dotenv()\n",
    "openai.api_key = os.getenv('OPENAI_API_KEY')\n",
    "\n",
    "COMPLETIONS_MODEL = \"gpt-3.5-turbo\"\n",
    "EMBEDDING_MODEL = \"text-embedding-ada-002\""
   ]
  },
  {
   "cell_type": "code",
   "execution_count": 6,
   "id": "a167516c-7c19-4bda-afa5-031aa0ae13bb",
   "metadata": {},
   "outputs": [
    {
     "data": {
      "text/plain": [
       "\"There are different types of medication for burning eyes depending on the cause of the problem. Some possible treatments include:\\n\\n1. Lubricating eye drops or artificial tears to relieve dryness or irritation caused by environmental factors like smoke, dust, or wind.\\n\\n2. Anti-inflammatory eye drops or ointments for redness, swelling, or infection caused by allergies, conjunctivitis (pink eye), or other eye infections.\\n\\n3. Prescription drugs like steroids or immune modulators for severe or chronic eye conditions like uveitis, scleritis, or keratitis.\\n\\nIt's important to consult an eye doctor for a proper diagnosis and treatment plan, as some eye conditions can be serious and require specialized care or surgery.\""
      ]
     },
     "execution_count": 6,
     "metadata": {},
     "output_type": "execute_result"
    }
   ],
   "source": [
    "prompt = \"What is the medicine for burning eyes?\"\n",
    "\n",
    "openai.ChatCompletion.create(\n",
    "    model=COMPLETIONS_MODEL,\n",
    "    messages=[{'role': 'user', 'content': prompt}]\n",
    ")[\"choices\"][0][\"message\"][\"content\"].strip(\" \\n\")"
   ]
  },
  {
   "cell_type": "code",
   "execution_count": 8,
   "id": "a5451371-17fe-4ef3-aa02-affcf4edb0e0",
   "metadata": {},
   "outputs": [
    {
     "data": {
      "text/plain": [
       "\"Sorry, I don't know. Burning eyes can have various causes, and the appropriate medicine would depend on the underlying condition. It's best to consult with an eye doctor or healthcare provider for a proper diagnosis and treatment.\""
      ]
     },
     "execution_count": 8,
     "metadata": {},
     "output_type": "execute_result"
    }
   ],
   "source": [
    "prompt = \"\"\"Answer the question as truthfully as possible, and if you're unsure of the answer, say \"Sorry, I don't know\".\n",
    "\n",
    "Q: What is the medicine for burning eyes?\n",
    "A:\"\"\"\n",
    "\n",
    "openai.ChatCompletion.create(\n",
    "    model=COMPLETIONS_MODEL,\n",
    "    messages=[{'role': 'user', 'content': prompt}]\n",
    ")[\"choices\"][0][\"message\"][\"content\"].strip(\" \\n\")"
   ]
  },
  {
   "cell_type": "code",
   "execution_count": 9,
   "id": "cc9c8d69-e234-48b4-87e3-935970e1523a",
   "metadata": {},
   "outputs": [
    {
     "name": "stdout",
     "output_type": "stream",
     "text": [
      "14958 rows in the data.\n"
     ]
    },
    {
     "data": {
      "text/html": [
       "<div>\n",
       "<style scoped>\n",
       "    .dataframe tbody tr th:only-of-type {\n",
       "        vertical-align: middle;\n",
       "    }\n",
       "\n",
       "    .dataframe tbody tr th {\n",
       "        vertical-align: top;\n",
       "    }\n",
       "\n",
       "    .dataframe thead th {\n",
       "        text-align: right;\n",
       "    }\n",
       "</style>\n",
       "<table border=\"1\" class=\"dataframe\">\n",
       "  <thead>\n",
       "    <tr style=\"text-align: right;\">\n",
       "      <th></th>\n",
       "      <th></th>\n",
       "      <th>content</th>\n",
       "      <th>tokens</th>\n",
       "    </tr>\n",
       "    <tr>\n",
       "      <th>title</th>\n",
       "      <th>heading</th>\n",
       "      <th></th>\n",
       "      <th></th>\n",
       "    </tr>\n",
       "  </thead>\n",
       "  <tbody>\n",
       "    <tr>\n",
       "      <th>Physostigma</th>\n",
       "      <th>Head</th>\n",
       "      <td>Vertigo: on moving, with fainting and muscÃ¦ v...</td>\n",
       "      <td>455</td>\n",
       "    </tr>\n",
       "    <tr>\n",
       "      <th>Quassia</th>\n",
       "      <th>Mind</th>\n",
       "      <td>Awoke with great anxiety 1 a.m., unable to sle...</td>\n",
       "      <td>29</td>\n",
       "    </tr>\n",
       "    <tr>\n",
       "      <th>Cancer Fluviatilis</th>\n",
       "      <th>Stomach</th>\n",
       "      <td>Fulness and pressure in stomach; burning in ep...</td>\n",
       "      <td>34</td>\n",
       "    </tr>\n",
       "    <tr>\n",
       "      <th>Cuprum Sulphuricum</th>\n",
       "      <th>Head</th>\n",
       "      <td>Bald spot over r. parietal bone, not depending...</td>\n",
       "      <td>18</td>\n",
       "    </tr>\n",
       "    <tr>\n",
       "      <th>Spongia Tosta</th>\n",
       "      <th>Respiratory Organs</th>\n",
       "      <td>[Affections in general of larynx and trachea, ...</td>\n",
       "      <td>465</td>\n",
       "    </tr>\n",
       "  </tbody>\n",
       "</table>\n",
       "</div>"
      ],
      "text/plain": [
       "                                                                                 content  \\\n",
       "title              heading                                                                 \n",
       "Physostigma        Head                Vertigo: on moving, with fainting and muscÃ¦ v...   \n",
       "Quassia            Mind                Awoke with great anxiety 1 a.m., unable to sle...   \n",
       "Cancer Fluviatilis Stomach             Fulness and pressure in stomach; burning in ep...   \n",
       "Cuprum Sulphuricum Head                Bald spot over r. parietal bone, not depending...   \n",
       "Spongia Tosta      Respiratory Organs  [Affections in general of larynx and trachea, ...   \n",
       "\n",
       "                                       tokens  \n",
       "title              heading                     \n",
       "Physostigma        Head                   455  \n",
       "Quassia            Mind                    29  \n",
       "Cancer Fluviatilis Stomach                 34  \n",
       "Cuprum Sulphuricum Head                    18  \n",
       "Spongia Tosta      Respiratory Organs     465  "
      ]
     },
     "execution_count": 9,
     "metadata": {},
     "output_type": "execute_result"
    }
   ],
   "source": [
    "# We have hosted the processed dataset, so you can download it directly without having to recreate it.\n",
    "# This dataset has already been split into sections, one row for each section of the Wikipedia page.\n",
    "\n",
    "df = pd.read_csv('clarke_symptoms_cleaned.csv')\n",
    "# df = pd.read_csv('clarke_remedy_info_cleaned_v2.csv')\n",
    "\n",
    "df = df.set_index([\"title\", \"heading\"])\n",
    "print(f\"{len(df)} rows in the data.\")\n",
    "df.sample(5)"
   ]
  },
  {
   "cell_type": "code",
   "execution_count": 10,
   "id": "ba475f30-ef7f-431c-b60d-d5970b62ad09",
   "metadata": {},
   "outputs": [],
   "source": [
    "@retry(wait=wait_random_exponential(min=1, max=10), stop=stop_after_attempt(10))\n",
    "# @retry(wait=wait_random(min=60, max=120), stop=stop_after_attempt(10))\n",
    "def get_embedding(text: str, model: str=EMBEDDING_MODEL) -> list[float]:\n",
    "    result = openai.Embedding.create(\n",
    "      model=model,\n",
    "      input=text\n",
    "    )\n",
    "    return result[\"data\"][0][\"embedding\"]\n",
    "\n",
    "def compute_doc_embeddings(df: pd.DataFrame) -> dict[tuple[str, str], list[float]]:\n",
    "    \"\"\"\n",
    "    Create an embedding for each row in the dataframe using the OpenAI Embeddings API.\n",
    "    \n",
    "    Return a dictionary that maps between each embedding vector and the index of the row that it corresponds to.\n",
    "    \"\"\"\n",
    "    return {\n",
    "        idx: get_embedding(r.content) for idx, r in df.iterrows()\n",
    "    }"
   ]
  },
  {
   "cell_type": "code",
   "execution_count": 11,
   "id": "737266aa-cbe7-4691-87c1-fce8a31632f1",
   "metadata": {},
   "outputs": [],
   "source": [
    "def load_embeddings(fname: str) -> dict[tuple[str, str], list[float]]:\n",
    "    \"\"\"\n",
    "    Read the document embeddings and their keys from a CSV.\n",
    "    \n",
    "    fname is the path to a CSV with exactly these named columns: \n",
    "        \"title\", \"heading\", \"0\", \"1\", ... up to the length of the embedding vectors.\n",
    "    \"\"\"\n",
    "    \n",
    "    df = pd.read_csv(fname, header=0)\n",
    "    max_dim = max([int(c) for c in df.columns if c != \"title\" and c != \"heading\"])\n",
    "    return {\n",
    "           (r.title, r.heading): [r[str(i)] for i in range(max_dim + 1)] for _, r in df.iterrows()\n",
    "    }"
   ]
  },
  {
   "cell_type": "markdown",
   "id": "cfe9c723-f838-4c75-8ed8-286b2e491a60",
   "metadata": {},
   "source": [
    "Again, we have hosted the embeddings for you so you don't have to re-calculate them from scratch."
   ]
  },
  {
   "cell_type": "code",
   "execution_count": 12,
   "id": "ab50bfca-cb02-41c6-b338-4400abe1d86e",
   "metadata": {},
   "outputs": [],
   "source": [
    "# document_embeddings = load_embeddings(\"https://cdn.openai.com/API/examples/data/olympics_sections_document_embeddings.csv\")\n",
    "document_embeddings = load_embeddings(\"clarke_symptoms_cleaned_embeddings_v2.csv\")\n",
    "# document_embeddings = load_embeddings(\"clarke_remedy_info_cleaned_v2_embeddings_v2.csv\")\n",
    "# document_embeddings = load_embeddings(\"clarke_symptoms_cleaned_v2_nose_embeddings_v2.csv\")\n",
    "\n",
    "# ===== OR, uncomment the below line to recaculate the embeddings from scratch. ========\n",
    "\n",
    "# document_embeddings = compute_doc_embeddings(df)"
   ]
  },
  {
   "cell_type": "code",
   "execution_count": 66,
   "id": "28dfa9ab",
   "metadata": {},
   "outputs": [],
   "source": [
    "# pd.DataFrame(document_embeddings.items()).to_csv('clarke_remedy_info_cleaned_v2_embeddings.csv', index=False)\n",
    "# pd.DataFrame(document_embeddings.items()).to_csv('clarke_symptoms_cleaned_v2_nose_embeddings.csv', index=False)"
   ]
  },
  {
   "cell_type": "code",
   "execution_count": 82,
   "id": "b9a8c713-c8a9-47dc-85a4-871ee1395566",
   "metadata": {},
   "outputs": [
    {
     "name": "stdout",
     "output_type": "stream",
     "text": [
      "('Abies Canadensis', 'Mind') : [-0.000476399, 0.004719749, 0.01499975, -0.018661214, -0.015802821]... (1536 entries)\n"
     ]
    }
   ],
   "source": [
    "# An example embedding:\n",
    "example_entry = list(document_embeddings.items())[0]\n",
    "print(f\"{example_entry[0]} : {example_entry[1][:5]}... ({len(example_entry[1])} entries)\")"
   ]
  },
  {
   "cell_type": "code",
   "execution_count": 14,
   "id": "dcd680e9-f194-4180-b14f-fc357498eb92",
   "metadata": {},
   "outputs": [],
   "source": [
    "def vector_similarity(x: list[float], y: list[float]) -> float:\n",
    "    \"\"\"\n",
    "    Returns the similarity between two vectors.\n",
    "    \n",
    "    Because OpenAI Embeddings are normalized to length 1, the cosine similarity is the same as the dot product.\n",
    "    \"\"\"\n",
    "    return np.dot(np.array(x), np.array(y))\n",
    "\n",
    "def order_document_sections_by_query_similarity(query: str, contexts: dict[(str, str), np.array]) -> list[(float, (str, str))]:\n",
    "    \"\"\"\n",
    "    Find the query embedding for the supplied query, and compare it against all of the pre-calculated document embeddings\n",
    "    to find the most relevant sections. \n",
    "    \n",
    "    Return the list of document sections, sorted by relevance in descending order.\n",
    "    \"\"\"\n",
    "    query_embedding = get_embedding(query)\n",
    "    \n",
    "    document_similarities = sorted([\n",
    "        (vector_similarity(query_embedding, doc_embedding), doc_index) for doc_index, doc_embedding in contexts.items()\n",
    "    ], reverse=True)\n",
    "    \n",
    "    return document_similarities"
   ]
  },
  {
   "cell_type": "code",
   "execution_count": 15,
   "id": "e3a27d73-f47f-480d-b336-079414f749cb",
   "metadata": {},
   "outputs": [
    {
     "data": {
      "text/plain": [
       "[(0.8593520638413243, ('Asterias Rubens', 'Nose')),\n",
       " (0.8567244035263583, ('Scorpio', 'Nose')),\n",
       " (0.852248616978491, ('NymphÃ¦a Odorata', 'Respiratory Organs')),\n",
       " (0.8514100358805177, ('Lilium Tigrinum', 'Nose')),\n",
       " (0.8481693571963053, ('Stachys Betonica', 'Nose'))]"
      ]
     },
     "execution_count": 15,
     "metadata": {},
     "output_type": "execute_result"
    }
   ],
   "source": [
    "order_document_sections_by_query_similarity(\"What are the best medicines for frequent colds with sneezing that increases in the morning?\", document_embeddings)[:5]"
   ]
  },
  {
   "cell_type": "code",
   "execution_count": 16,
   "id": "b763ace2-1946-48e0-8ff1-91ba335d47a0",
   "metadata": {},
   "outputs": [
    {
     "data": {
      "text/plain": [
       "'Context separator contains 3 tokens'"
      ]
     },
     "execution_count": 16,
     "metadata": {},
     "output_type": "execute_result"
    }
   ],
   "source": [
    "MAX_SECTION_LEN = 2000\n",
    "SEPARATOR = \"\\n* \"\n",
    "ENCODING = \"cl100k_base\"  # encoding for text-davinci-003\n",
    "\n",
    "encoding = tiktoken.get_encoding(ENCODING)\n",
    "separator_len = len(encoding.encode(SEPARATOR))\n",
    "\n",
    "f\"Context separator contains {separator_len} tokens\""
   ]
  },
  {
   "cell_type": "code",
   "execution_count": 17,
   "id": "0c5c0509-eeb9-4552-a5d4-6ace04ef73dd",
   "metadata": {},
   "outputs": [],
   "source": [
    "def construct_prompt(question: str, context_embeddings: dict, df: pd.DataFrame) -> str:\n",
    "    \"\"\"\n",
    "    Fetch relevant \n",
    "    \"\"\"\n",
    "    most_relevant_document_sections = order_document_sections_by_query_similarity(question, context_embeddings)\n",
    "    \n",
    "    chosen_sections = []\n",
    "    chosen_sections_len = 0\n",
    "    chosen_sections_indexes = []\n",
    "     \n",
    "    for _, section_index in most_relevant_document_sections:\n",
    "        # Add contexts until we run out of space.        \n",
    "        document_section = df.loc[section_index]\n",
    "        \n",
    "        chosen_sections_len += document_section.tokens + separator_len\n",
    "        if chosen_sections_len > MAX_SECTION_LEN:\n",
    "            break\n",
    "            \n",
    "        chosen_sections.append(SEPARATOR + 'Medicine: ' + section_index[0] + ', Area: ' + section_index[1] + ', Symptoms: ' +\n",
    "        document_section.content.replace(\"\\n\", \" \"))\n",
    "        chosen_sections_indexes.append(str(section_index))\n",
    "            \n",
    "    # Useful diagnostic information\n",
    "    # print(f\"Selected {len(chosen_sections)} document sections:\")\n",
    "    # print(\"\\n\".join(chosen_sections_indexes))\n",
    "    \n",
    "    # header = \"\"\"Answer the question as truthfully as possible using the provided context, and if the answer is not specified within the text below, say \"I don't know.\"\\n\\nContext:\\n\"\"\"\n",
    "    header = \"\"\"Provide medicines based on similarity of symptoms in question with those provided in context for the medicines. Give the best 5 medicines along with their symptoms.\\n\\nContext:\\n\"\"\"\n",
    "    # header = \"\"\"\\n\\nContext:\\n\"\"\"\n",
    "    \n",
    "    return header + \"\".join(chosen_sections) + \"\\n\\n Q: \" + question + \"\\n A:\""
   ]
  },
  {
   "cell_type": "code",
   "execution_count": 18,
   "id": "f614045a-3917-4b28-9643-7e0c299ec1a7",
   "metadata": {},
   "outputs": [
    {
     "name": "stdout",
     "output_type": "stream",
     "text": [
      "===\n",
      " Provide medicines based on similarity of symptoms in question with those provided in context for the medicines. Give the best 5 medicines along with their symptoms.\n",
      "\n",
      "Context:\n",
      "\n",
      "* Medicine: Scorpio, Area: Nose, Symptoms: Frequent sneezing.\n",
      "* Medicine: Asterias Rubens, Area: Nose, Symptoms: Epistaxis; sneezing and coryza in the morning on waking.\n",
      "* Medicine: Baryta Muriatica, Area: Nose, Symptoms: Sneezing in sleep. Coryza.\n",
      "* Medicine: Plectranthus, Area: Nose, Symptoms: Excessive catarrh, frequent inclination to sneeze; great stoppage with at times discharge of tenacious yellow mucus. Dryness, mornings.\n",
      "* Medicine: Lilium Tigrinum, Area: Nose, Symptoms: Sneezing and fluent coryza all day. Running from nose renewed after a glass of cold water; feeling of heat in face and over whole body as in fever; after a while prickling as in perspiration with only moist skin. Snuff has a greater effect than usual in evening.\n",
      "* Medicine: Cornus Alternifolia, Area: Nose, Symptoms: Sneezing; head partially stopped up towards night.\n",
      "* Medicine: Hall, Area: Nose, Symptoms: Frequent (violent) sneezing and feeling of commencing coryza.\n",
      "* Medicine: Saponinum, Area: Nose, Symptoms: Dry coryza and frequent sneezing. R. nostril plugged in morning, with headache. Dull pain at root of nose and in temples. Nose cold and pale.\n",
      "* Medicine: Viburnum Opulus, Area: Nose, Symptoms: Sneezing. Watery coryza.\n",
      "* Medicine: Sulphurosum Acidum, Area: Nose, Symptoms: Sneezing and coryza.\n",
      "* Medicine: Mimosa, Area: Nose, Symptoms: Sneezing and coryza.\n",
      "* Medicine: Itu, Area: Nose, Symptoms: Repeated sneezing. Coryza (9th day).\n",
      "* Medicine: Stachys Betonica, Area: Nose, Symptoms: Frequent sneezing; on going indoors from open air; increased nasal mucus.\n",
      "* Medicine: Iris Versicolor, Area: Nose, Symptoms: Constant sneezing.\n",
      "* Medicine: NymphÃ¦a Odorata, Area: Respiratory Organs, Symptoms: Some cough in morning.\n",
      "* Medicine: Saccharum Officinale, Area: Nose, Symptoms: Sneezing; dry coryza.\n",
      "* Medicine: Skookum Chuck, Area: Nose, Symptoms: Profuse coryza with constant sneezing as in hay-fever; symptoms so severe had to discontinue the remedy; (symptoms continued until antidoted by tobacco).\n",
      "* Medicine: Cimex, Area: Nose, Symptoms: Annoying dryness of nostrils. Fluent coryza with pressure in frontal sinuses. Constant sneezing in forenoon. Sweat on nose, morning, during rest.\n",
      "* Medicine: China Boliviana, Area: Nose, Symptoms: Much sneezing on awaking with smell of fresh pus. Sensation of incipient cold with tight feeling and pain in throat. Violent cold in head. Mucus from posterior nares.\n",
      "* Medicine: Tongo, Area: Nose, Symptoms: Coryza, with obstruction of nose. Violent sneezing in the night. Slight tearing in root of nose with irritation to sneeze and cough.\n",
      "* Medicine: Lycopodium, Area: Nose, Symptoms: Sneezing and slight nasal catarrh.\n",
      "* Medicine: Digitalinum, Area: Nose, Symptoms: Frequent sneezing and coryza; with pressing, throbbing pains in arms; nasal mucus streaked with blood in morning; smell lost.\n",
      "* Medicine: Sol, Area: Nose, Symptoms: Sneezing, with a little sore throat, as if she had taken cold.\n",
      "* Medicine: Franzensbad, Area: Nose, Symptoms: Fluent coryza in moving after rising, with constant tickling in l. nostril, lachrymation of l. eye and frequent sneezing.\n",
      "* Medicine: Triosteum, Area: Nose, Symptoms: Sneezing.\n",
      "* Medicine: Tetradymite, Area: Nose, Symptoms: Repeated sneezing on going out; with discharge of thin mucus.\n",
      "* Medicine: Salicylicum Acidum, Area: Nose, Symptoms: Wants to sneeze. Sneezing. Incipient catarrh; patients, esp. children, sneeze all day.\n",
      "* Medicine: Eupatorium Perfoliatum, Area: Nose, Symptoms: Coryza, with sneezing; aching in every bone.\n",
      "* Medicine: Kali Ferrocyanatum, Area: Nose, Symptoms: Much sneezing during pressure and mucous discharge.\n",
      "* Medicine: Myrtus Communis, Area: Nose, Symptoms: Coryza with cough.\n",
      "* Medicine: Kali Phosphoricum, Area: Nose, Symptoms: (An inveterate catarrh was greatly relieved after proving the 30th. Thick yellow discharge, < morning.). Nostrils stopped, discharge of clear, stringy mucus. Obstruction; sneezes on slightest exposure to air 2 a.m.; fluent watery coryza. Violent sneezing with symptoms of fresh cold. Sores inside nares with yellow crusts, and dark blood. Symptoms of cold with headache. Soft green or white discharge (< r. nostril). Small growth, very sensitive, at opening of l. nostril (lasted two weeks). Very sensitive smell and lack of smell.\n",
      "* Medicine: Murex, Area: Nose, Symptoms: Distressing coldness of nose all day.\n",
      "* Medicine: Scilla Maritima, Area: Nose, Symptoms: Violent, constant sneezing and fluent coryza. Sneezes during cough; eyes water, rubs eyes and nose. Acrid, corrosive, fluent coryza in morning; a regular general snizzle; mucous cough with spurting of urine and even of watery stools. Coryza with ulcerated nostrils. Nostrils painful as if sore, with violent coryza (in morning). Humid eruptions under nose, with stinging itching.\n",
      "* Medicine: Prunus Spinosa, Area: Nose, Symptoms: Frequent sneezing. Pressing-asunder pains about nasal bones.\n",
      "* Medicine: Apocynum Cannabinum, Area: Nose, Symptoms: Violent coryza. Nose and throat filled with thick yellow mucus on waking in morning. (\"Snuffles\" in infants.). Peculiar dryness of mucous membranes of nose with sensation of stiffness, followed by secretion of thick yellow mucus, preceded in some cases by a thin, irritating discharge.\n",
      "* Medicine: Zingiber, Area: Nose, Symptoms: Coryza, watery, sneezing, more in open air. Insupportable itching, tingling in nostrils. Dryness and obstruction in posterior nares, with discharge of thick mucus. OzÃ¦na.\n",
      "* Medicine: Ovi GallinÃ¦ Pellicula, Area: Nose, Symptoms: From a slight change of underclothing, severe cold and coryza, with much mucous discharge from nose, came suddenly, lasted three days, ceased as suddenly, much mucus discharged from nose (quite different from usual colds). Sensation of severe cold, sneezing catarrh, cracked lips.\n",
      "* Medicine: Jacaranda Caroba, Area: Nose, Symptoms: Sneezing and fluent coryza. Coryza, with heaviness and weariness at the vertex, forehead, and eyes.\n",
      "* Medicine: Arsenicum Metallicum, Area: Nose, Symptoms: Coryza and hoarseness < in morning. Eyes red, excoriating tears, nose swollen, head feels enlarged, full as if tied up; sneezing and dyspnÅa increase every second day; return every two weeks.\n",
      "* Medicine: Eriodictyon Glutinosum, Area: Nose, Symptoms: Sneezing. Catarrh, yellowish-green. Coryza permanent; with more or less dizziness.\n",
      "* Medicine: Ammonium Bromatum, Area: Nose, Symptoms: Sneezing on moving about in cold room, or on raising arms; thin discharge from r. nostril (next day thicker). Sneezing on going into warm room; stoppage of nose in warm room.\n",
      "* Medicine: Linaria, Area: Nose, Symptoms: Sneezing; at night. Mucus from nose, occasionally rose colour. Fluent coryza. Nose stopped, and running a clear, profuse mucus from first one nostril for several days, then the other.\n",
      "* Medicine: Ferrum Magneticum, Area: Nose, Symptoms: Sneezing, with stoppage of one nostril, and catarrh.\n",
      "* Medicine: Oleum Jecoris Aselli, Area: Nose, Symptoms: Dry coryza, cough and sneezing. Fluent coryza, hoarseness and rawness of chest. Chronic catarrh and ozÃ¦na. Nose-bleed when sleeping, with amenorrhÅa.\n",
      "* Medicine: Asclepias Tuberosa, Area: Nose, Symptoms: Fluent coryza, with much sneezing. Blowing of blood from l. nostril. Itching of the nose. Snuffles of children.\n",
      "* Medicine: Calcarea Phosphorica, Area: Nose, Symptoms: Coryza: fluent in cold room; stopped in warm air and out of doors. Swollen nose with sore nostrils in scrofulous children. Large pedunculated polypi. Streaks of blood, nose-bleed in afternoon. Frequent sneezing, with flow of mucus from the nose, and salivation. Blood follows when the nose is blown.\n",
      "* Medicine: Succinum, Area: Nose, Symptoms: Sneezing; dropping of watery mucus from nostrils.\n",
      "* Medicine: NymphÃ¦a Odorata, Area: Nose, Symptoms: Severe coryza.\n",
      "* Medicine: Narcissus, Area: Nose, Symptoms: Severe coryza.\n",
      "* Medicine: Chininum Sulphuricum, Area: Nose, Symptoms: Frequent bleeding at the nose. Frequent sneezing.\n",
      "* Medicine: Quininum, Area: Nose, Symptoms: Frequent bleeding at the nose. Frequent sneezing.\n",
      "* Medicine: Sepsinum, Area: Nose, Symptoms: Nose-bleed; awakened by dreaming it and found it was so. Sneezing: every time he puts hand from under covers; at night. Nostrils closing alternately (S). Cold nose. Fan-like motion of alÃ¦ nasi.\n",
      "* Medicine: Cornus Circinata, Area: Nose, Symptoms: Prickling in nose and nasal bones. Coryza early in morning.\n",
      "* Medicine: Pyrogenium, Area: Nose, Symptoms: Nose-bleed; awakened by dreaming it and found it was so. Sneezing: every time he puts hand from under covers; at night. Nostrils closing alternately (S). Cold nose. Fan-like motion of alÃ¦ nasi.\n",
      "* Medicine: Mancinella, Area: Nose, Symptoms: Coryza.\n",
      "* Medicine: Cistus Canadensis, Area: Nose, Symptoms: Cold feeling, or burning in nose. Chronic catarrh; frequent and violent sneezing evening and morning. Inflammation, swelling and burning l. side of nose. Tip of nose painful. Eczema.\n",
      "* Medicine: Zincum Valerianicum, Area: Nose, Symptoms: Hard sneezing.\n",
      "* Medicine: Gelsemium, Area: Nose, Symptoms: Sneezing followed by tingling and fulness in the nose. Early morning sneezing; streaming of water from nose. Sneezing with fluent coryza; profuse watery discharge excoriates the nostrils. Sensation of fulness at root of nose extending to neck and clavicles.\n",
      "* Medicine: Cyclamen, Area: Nose, Symptoms: Diminution of smell. Fluent coryza, with sneezing (morning).\n",
      "* Medicine: Zizia, Area: Nose, Symptoms: Nasal catarrh, with sneezing and coughing from first inhalation. Nasal discharge of thick mucus. R. nostril congested, sore; with injection of pharynx and conjunctiva.\n",
      "\n",
      " Q: Medicine for frequent cold with sneezing upon waking up?\n",
      " A:\n"
     ]
    }
   ],
   "source": [
    "prompt = construct_prompt(\n",
    "    \"Medicine for frequent cold with sneezing upon waking up?\",\n",
    "    document_embeddings,\n",
    "    df\n",
    ")\n",
    "\n",
    "print(\"===\\n\", prompt)"
   ]
  },
  {
   "cell_type": "code",
   "execution_count": 19,
   "id": "9c1c9a69-848e-4099-a90d-c8da36c153d5",
   "metadata": {},
   "outputs": [],
   "source": [
    "def answer_query_with_context(\n",
    "    query: str,\n",
    "    df: pd.DataFrame,\n",
    "    document_embeddings: dict[(str, str), np.array],\n",
    "    show_prompt: bool = False\n",
    ") -> str:\n",
    "    prompt = construct_prompt(\n",
    "        query,\n",
    "        document_embeddings,\n",
    "        df\n",
    "    )\n",
    "    \n",
    "    if show_prompt:\n",
    "        print(prompt)\n",
    "\n",
    "    response = openai.ChatCompletion.create(\n",
    "    model=COMPLETIONS_MODEL,\n",
    "    messages=[{'role': 'user', 'content': prompt}]\n",
    "    )\n",
    "\n",
    "    return response[\"choices\"][0][\"message\"][\"content\"].strip(\" \\n\")"
   ]
  },
  {
   "cell_type": "code",
   "execution_count": 20,
   "id": "c233e449-bf33-4c9e-b095-6a4dd278c8fd",
   "metadata": {},
   "outputs": [
    {
     "data": {
      "text/plain": [
       "'1. Asterias Rubens - sneezing and coryza in the morning on waking.\\n2. Baryta Muriatica - sneezing in sleep. Coryza.\\n3. Lilium Tigrinum - sneezing and fluent coryza all day. Running from nose renewed after a glass of cold water; feeling of heat in face and over whole body as in fever; after a while prickling as in perspiration with only moist skin. Snuff has a greater effect than usual in evening.\\n4. Hall - frequent (violent) sneezing and feeling of commencing coryza.\\n5. Saponinum - dry coryza and frequent sneezing. R. nostril plugged in morning, with headache. Dull pain at root of nose and in temples. Nose cold and pale.'"
      ]
     },
     "execution_count": 20,
     "metadata": {},
     "output_type": "execute_result"
    }
   ],
   "source": [
    "answer_query_with_context(\"Medicine for frequent cold with sneezing upon waking up?\", df, document_embeddings)"
   ]
  },
  {
   "cell_type": "code",
   "execution_count": 21,
   "id": "2862a897",
   "metadata": {},
   "outputs": [
    {
     "data": {
      "text/plain": [
       "'Symphytum and Mercurius Sulphuratus Ruber are two medicines that match this symptom. Other medicines that may be helpful include Helonias, Cinnabaris, and Diadema.'"
      ]
     },
     "execution_count": 21,
     "metadata": {},
     "output_type": "execute_result"
    }
   ],
   "source": [
    "answer_query_with_context(\"Medicine for headache at the top of head that feels better after applying a lot of pressuree?\", df, document_embeddings)"
   ]
  },
  {
   "cell_type": "code",
   "execution_count": null,
   "id": "f49a8c16",
   "metadata": {},
   "outputs": [],
   "source": []
  }
 ],
 "metadata": {
  "kernelspec": {
   "display_name": "hf",
   "language": "python",
   "name": "python3"
  },
  "language_info": {
   "codemirror_mode": {
    "name": "ipython",
    "version": 3
   },
   "file_extension": ".py",
   "mimetype": "text/x-python",
   "name": "python",
   "nbconvert_exporter": "python",
   "pygments_lexer": "ipython3",
   "version": "3.10.9"
  },
  "vscode": {
   "interpreter": {
    "hash": "db74b66ac03fc5d0d003a202a76291a9ddcb489c737689b73f0c54cb4c56a8e4"
   }
  }
 },
 "nbformat": 4,
 "nbformat_minor": 5
}
