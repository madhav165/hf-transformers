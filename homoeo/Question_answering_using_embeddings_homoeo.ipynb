{
 "cells": [
  {
   "cell_type": "code",
   "execution_count": 47,
   "id": "9e3839a6-9146-4f60-b74b-19abbc24278d",
   "metadata": {},
   "outputs": [],
   "source": [
    "import os\n",
    "from dotenv import load_dotenv\n",
    "import numpy as np\n",
    "import openai\n",
    "import pandas as pd\n",
    "import pickle\n",
    "import tiktoken\n",
    "from tenacity import (\n",
    "    retry,\n",
    "    stop_after_attempt,\n",
    "    wait_random_exponential,\n",
    "    wait_random\n",
    ")  # for exponential backoff\n",
    "\n",
    "load_dotenv()\n",
    "openai.api_key = os.getenv('OPENAI_API_KEY')\n",
    "\n",
    "COMPLETIONS_MODEL = \"text-davinci-003\"\n",
    "EMBEDDING_MODEL = \"text-embedding-ada-002\""
   ]
  },
  {
   "cell_type": "code",
   "execution_count": 48,
   "id": "a167516c-7c19-4bda-afa5-031aa0ae13bb",
   "metadata": {},
   "outputs": [
    {
     "data": {
      "text/plain": [
       "'The most common treatment for burning eyes is artificial tears. Artificial tears are available over-the-counter in the form of eye drops or gels. They help to lubricate the eyes and reduce the burning sensation. Other treatments may include antihistamines, decongestants, and steroid eye drops.'"
      ]
     },
     "execution_count": 48,
     "metadata": {},
     "output_type": "execute_result"
    }
   ],
   "source": [
    "prompt = \"What is the medicine for burning eyes?\"\n",
    "\n",
    "openai.Completion.create(\n",
    "    prompt=prompt,\n",
    "    temperature=0,\n",
    "    max_tokens=300,\n",
    "    model=COMPLETIONS_MODEL\n",
    ")[\"choices\"][0][\"text\"].strip(\" \\n\")"
   ]
  },
  {
   "cell_type": "code",
   "execution_count": 49,
   "id": "a5451371-17fe-4ef3-aa02-affcf4edb0e0",
   "metadata": {},
   "outputs": [
    {
     "data": {
      "text/plain": [
       "\"Sorry, I don't know.\""
      ]
     },
     "execution_count": 49,
     "metadata": {},
     "output_type": "execute_result"
    }
   ],
   "source": [
    "prompt = \"\"\"Answer the question as truthfully as possible, and if you're unsure of the answer, say \"Sorry, I don't know\".\n",
    "\n",
    "Q: What is the medicine for burning eyes?\n",
    "A:\"\"\"\n",
    "\n",
    "openai.Completion.create(\n",
    "    prompt=prompt,\n",
    "    temperature=0,\n",
    "    max_tokens=300,\n",
    "    model=COMPLETIONS_MODEL\n",
    ")[\"choices\"][0][\"text\"].strip(\" \\n\")"
   ]
  },
  {
   "cell_type": "code",
   "execution_count": 79,
   "id": "cc9c8d69-e234-48b4-87e3-935970e1523a",
   "metadata": {},
   "outputs": [
    {
     "name": "stdout",
     "output_type": "stream",
     "text": [
      "14958 rows in the data.\n"
     ]
    },
    {
     "data": {
      "text/html": [
       "<div>\n",
       "<style scoped>\n",
       "    .dataframe tbody tr th:only-of-type {\n",
       "        vertical-align: middle;\n",
       "    }\n",
       "\n",
       "    .dataframe tbody tr th {\n",
       "        vertical-align: top;\n",
       "    }\n",
       "\n",
       "    .dataframe thead th {\n",
       "        text-align: right;\n",
       "    }\n",
       "</style>\n",
       "<table border=\"1\" class=\"dataframe\">\n",
       "  <thead>\n",
       "    <tr style=\"text-align: right;\">\n",
       "      <th></th>\n",
       "      <th></th>\n",
       "      <th>content</th>\n",
       "      <th>tokens</th>\n",
       "    </tr>\n",
       "    <tr>\n",
       "      <th>title</th>\n",
       "      <th>heading</th>\n",
       "      <th></th>\n",
       "      <th></th>\n",
       "    </tr>\n",
       "  </thead>\n",
       "  <tbody>\n",
       "    <tr>\n",
       "      <th>Zincum Valerianicum</th>\n",
       "      <th>Stool and Anus</th>\n",
       "      <td>At 2 p.m. evacuation of fÃ¦cal matter, followe...</td>\n",
       "      <td>76</td>\n",
       "    </tr>\n",
       "    <tr>\n",
       "      <th>Phytolacca</th>\n",
       "      <th>Female Sexual Organs</th>\n",
       "      <td>Menses: too frequent and copious; mammÃ¦ painf...</td>\n",
       "      <td>388</td>\n",
       "    </tr>\n",
       "    <tr>\n",
       "      <th>Equisetum</th>\n",
       "      <th>Male Sexual Organs</th>\n",
       "      <td>Violent erections; in the afternoon. Soreness ...</td>\n",
       "      <td>21</td>\n",
       "    </tr>\n",
       "    <tr>\n",
       "      <th>Wiesbaden</th>\n",
       "      <th>Stool and Anus</th>\n",
       "      <td>HÃ¦morrhage from rectum. HÃ¦morrhoidal flow (c...</td>\n",
       "      <td>138</td>\n",
       "    </tr>\n",
       "    <tr>\n",
       "      <th>Mercurius Sulphuricus</th>\n",
       "      <th>Generalities</th>\n",
       "      <td>Most pains feel as if a dull stick pressed on ...</td>\n",
       "      <td>41</td>\n",
       "    </tr>\n",
       "  </tbody>\n",
       "</table>\n",
       "</div>"
      ],
      "text/plain": [
       "                                                                                      content  \\\n",
       "title                 heading                                                                   \n",
       "Zincum Valerianicum   Stool and Anus        At 2 p.m. evacuation of fÃ¦cal matter, followe...   \n",
       "Phytolacca            Female Sexual Organs  Menses: too frequent and copious; mammÃ¦ painf...   \n",
       "Equisetum             Male Sexual Organs    Violent erections; in the afternoon. Soreness ...   \n",
       "Wiesbaden             Stool and Anus        HÃ¦morrhage from rectum. HÃ¦morrhoidal flow (c...   \n",
       "Mercurius Sulphuricus Generalities          Most pains feel as if a dull stick pressed on ...   \n",
       "\n",
       "                                            tokens  \n",
       "title                 heading                       \n",
       "Zincum Valerianicum   Stool and Anus            76  \n",
       "Phytolacca            Female Sexual Organs     388  \n",
       "Equisetum             Male Sexual Organs        21  \n",
       "Wiesbaden             Stool and Anus           138  \n",
       "Mercurius Sulphuricus Generalities              41  "
      ]
     },
     "execution_count": 79,
     "metadata": {},
     "output_type": "execute_result"
    }
   ],
   "source": [
    "# We have hosted the processed dataset, so you can download it directly without having to recreate it.\n",
    "# This dataset has already been split into sections, one row for each section of the Wikipedia page.\n",
    "\n",
    "df = pd.read_csv('clarke_symptoms_cleaned.csv')\n",
    "# df = pd.read_csv('clarke_remedy_info_cleaned_v2.csv')\n",
    "\n",
    "df = df.set_index([\"title\", \"heading\"])\n",
    "print(f\"{len(df)} rows in the data.\")\n",
    "df.sample(5)"
   ]
  },
  {
   "cell_type": "code",
   "execution_count": 80,
   "id": "ba475f30-ef7f-431c-b60d-d5970b62ad09",
   "metadata": {},
   "outputs": [],
   "source": [
    "@retry(wait=wait_random_exponential(min=1, max=10), stop=stop_after_attempt(10))\n",
    "# @retry(wait=wait_random(min=60, max=120), stop=stop_after_attempt(10))\n",
    "def get_embedding(text: str, model: str=EMBEDDING_MODEL) -> list[float]:\n",
    "    result = openai.Embedding.create(\n",
    "      model=model,\n",
    "      input=text\n",
    "    )\n",
    "    return result[\"data\"][0][\"embedding\"]\n",
    "\n",
    "def compute_doc_embeddings(df: pd.DataFrame) -> dict[tuple[str, str], list[float]]:\n",
    "    \"\"\"\n",
    "    Create an embedding for each row in the dataframe using the OpenAI Embeddings API.\n",
    "    \n",
    "    Return a dictionary that maps between each embedding vector and the index of the row that it corresponds to.\n",
    "    \"\"\"\n",
    "    return {\n",
    "        idx: get_embedding(r.content) for idx, r in df.iterrows()\n",
    "    }"
   ]
  },
  {
   "cell_type": "code",
   "execution_count": 81,
   "id": "737266aa-cbe7-4691-87c1-fce8a31632f1",
   "metadata": {},
   "outputs": [],
   "source": [
    "def load_embeddings(fname: str) -> dict[tuple[str, str], list[float]]:\n",
    "    \"\"\"\n",
    "    Read the document embeddings and their keys from a CSV.\n",
    "    \n",
    "    fname is the path to a CSV with exactly these named columns: \n",
    "        \"title\", \"heading\", \"0\", \"1\", ... up to the length of the embedding vectors.\n",
    "    \"\"\"\n",
    "    \n",
    "    df = pd.read_csv(fname, header=0)\n",
    "    max_dim = max([int(c) for c in df.columns if c != \"title\" and c != \"heading\"])\n",
    "    return {\n",
    "           (r.title, r.heading): [r[str(i)] for i in range(max_dim + 1)] for _, r in df.iterrows()\n",
    "    }"
   ]
  },
  {
   "cell_type": "markdown",
   "id": "cfe9c723-f838-4c75-8ed8-286b2e491a60",
   "metadata": {},
   "source": [
    "Again, we have hosted the embeddings for you so you don't have to re-calculate them from scratch."
   ]
  },
  {
   "cell_type": "code",
   "execution_count": 65,
   "id": "ab50bfca-cb02-41c6-b338-4400abe1d86e",
   "metadata": {},
   "outputs": [],
   "source": [
    "# document_embeddings = load_embeddings(\"https://cdn.openai.com/API/examples/data/olympics_sections_document_embeddings.csv\")\n",
    "document_embeddings = load_embeddings(\"clarke_symptoms_cleaned_embeddings_v2.csv\")\n",
    "# document_embeddings = load_embeddings(\"clarke_remedy_info_cleaned_v2_embeddings_v2.csv\")\n",
    "# document_embeddings = load_embeddings(\"clarke_symptoms_cleaned_v2_nose_embeddings_v2.csv\")\n",
    "\n",
    "# ===== OR, uncomment the below line to recaculate the embeddings from scratch. ========\n",
    "\n",
    "# document_embeddings = compute_doc_embeddings(df)"
   ]
  },
  {
   "cell_type": "code",
   "execution_count": 66,
   "id": "28dfa9ab",
   "metadata": {},
   "outputs": [],
   "source": [
    "# pd.DataFrame(document_embeddings.items()).to_csv('clarke_remedy_info_cleaned_v2_embeddings.csv', index=False)\n",
    "# pd.DataFrame(document_embeddings.items()).to_csv('clarke_symptoms_cleaned_v2_nose_embeddings.csv', index=False)"
   ]
  },
  {
   "cell_type": "code",
   "execution_count": 82,
   "id": "b9a8c713-c8a9-47dc-85a4-871ee1395566",
   "metadata": {},
   "outputs": [
    {
     "name": "stdout",
     "output_type": "stream",
     "text": [
      "('Abies Canadensis', 'Mind') : [-0.000476399, 0.004719749, 0.01499975, -0.018661214, -0.015802821]... (1536 entries)\n"
     ]
    }
   ],
   "source": [
    "# An example embedding:\n",
    "example_entry = list(document_embeddings.items())[0]\n",
    "print(f\"{example_entry[0]} : {example_entry[1][:5]}... ({len(example_entry[1])} entries)\")"
   ]
  },
  {
   "cell_type": "code",
   "execution_count": 83,
   "id": "dcd680e9-f194-4180-b14f-fc357498eb92",
   "metadata": {},
   "outputs": [],
   "source": [
    "def vector_similarity(x: list[float], y: list[float]) -> float:\n",
    "    \"\"\"\n",
    "    Returns the similarity between two vectors.\n",
    "    \n",
    "    Because OpenAI Embeddings are normalized to length 1, the cosine similarity is the same as the dot product.\n",
    "    \"\"\"\n",
    "    return np.dot(np.array(x), np.array(y))\n",
    "\n",
    "def order_document_sections_by_query_similarity(query: str, contexts: dict[(str, str), np.array]) -> list[(float, (str, str))]:\n",
    "    \"\"\"\n",
    "    Find the query embedding for the supplied query, and compare it against all of the pre-calculated document embeddings\n",
    "    to find the most relevant sections. \n",
    "    \n",
    "    Return the list of document sections, sorted by relevance in descending order.\n",
    "    \"\"\"\n",
    "    query_embedding = get_embedding(query)\n",
    "    \n",
    "    document_similarities = sorted([\n",
    "        (vector_similarity(query_embedding, doc_embedding), doc_index) for doc_index, doc_embedding in contexts.items()\n",
    "    ], reverse=True)\n",
    "    \n",
    "    return document_similarities"
   ]
  },
  {
   "cell_type": "code",
   "execution_count": 85,
   "id": "e3a27d73-f47f-480d-b336-079414f749cb",
   "metadata": {},
   "outputs": [
    {
     "data": {
      "text/plain": [
       "[(0.8591674604630242, ('Asterias Rubens', 'Nose')),\n",
       " (0.8566668020506362, ('Scorpio', 'Nose')),\n",
       " (0.8521343794579934, ('NymphÃ¦a Odorata', 'Respiratory Organs')),\n",
       " (0.8512689754025645, ('Lilium Tigrinum', 'Nose')),\n",
       " (0.8480207687236702, ('Stachys Betonica', 'Nose'))]"
      ]
     },
     "execution_count": 85,
     "metadata": {},
     "output_type": "execute_result"
    }
   ],
   "source": [
    "order_document_sections_by_query_similarity(\"What are the best medicines for frequent colds with sneezing that increases in the morning?\", document_embeddings)[:5]"
   ]
  },
  {
   "cell_type": "code",
   "execution_count": 95,
   "id": "b763ace2-1946-48e0-8ff1-91ba335d47a0",
   "metadata": {},
   "outputs": [
    {
     "data": {
      "text/plain": [
       "'Context separator contains 3 tokens'"
      ]
     },
     "execution_count": 95,
     "metadata": {},
     "output_type": "execute_result"
    }
   ],
   "source": [
    "MAX_SECTION_LEN = 2000\n",
    "SEPARATOR = \"\\n* \"\n",
    "ENCODING = \"gpt2\"  # encoding for text-davinci-003\n",
    "\n",
    "encoding = tiktoken.get_encoding(ENCODING)\n",
    "separator_len = len(encoding.encode(SEPARATOR))\n",
    "\n",
    "f\"Context separator contains {separator_len} tokens\""
   ]
  },
  {
   "cell_type": "code",
   "execution_count": 109,
   "id": "0c5c0509-eeb9-4552-a5d4-6ace04ef73dd",
   "metadata": {},
   "outputs": [],
   "source": [
    "def construct_prompt(question: str, context_embeddings: dict, df: pd.DataFrame) -> str:\n",
    "    \"\"\"\n",
    "    Fetch relevant \n",
    "    \"\"\"\n",
    "    most_relevant_document_sections = order_document_sections_by_query_similarity(question, context_embeddings)\n",
    "    \n",
    "    chosen_sections = []\n",
    "    chosen_sections_len = 0\n",
    "    chosen_sections_indexes = []\n",
    "     \n",
    "    for _, section_index in most_relevant_document_sections:\n",
    "        # Add contexts until we run out of space.        \n",
    "        document_section = df.loc[section_index]\n",
    "        \n",
    "        chosen_sections_len += document_section.tokens + separator_len\n",
    "        if chosen_sections_len > MAX_SECTION_LEN:\n",
    "            break\n",
    "            \n",
    "        chosen_sections.append(SEPARATOR + 'Medicine: ' + section_index[0] + ', Area: ' + section_index[1] + ', Symptoms: ' +\n",
    "        document_section.content.replace(\"\\n\", \" \"))\n",
    "        chosen_sections_indexes.append(str(section_index))\n",
    "            \n",
    "    # Useful diagnostic information\n",
    "    # print(f\"Selected {len(chosen_sections)} document sections:\")\n",
    "    # print(\"\\n\".join(chosen_sections_indexes))\n",
    "    \n",
    "    # header = \"\"\"Answer the question as truthfully as possible using the provided context, and if the answer is not specified within the text below, say \"I don't know.\"\\n\\nContext:\\n\"\"\"\n",
    "    header = \"\"\"Answer the question as truthfully as possible using only from the provided context. Give the best 5 medicines along with their symptoms.\\n\\nContext:\\n\"\"\"\n",
    "    # header = \"\"\"\\n\\nContext:\\n\"\"\"\n",
    "    \n",
    "    return header + \"\".join(chosen_sections) + \"\\n\\n Q: \" + question + \"\\n A:\""
   ]
  },
  {
   "cell_type": "code",
   "execution_count": 110,
   "id": "f614045a-3917-4b28-9643-7e0c299ec1a7",
   "metadata": {},
   "outputs": [
    {
     "name": "stdout",
     "output_type": "stream",
     "text": [
      "===\n",
      " Answer the question as truthfully as possible using only from the provided context. Give the best 5 medicines along with their symptoms.\n",
      "\n",
      "Context:\n",
      "\n",
      "* Medicine: Asterias Rubens, Area: Nose, Symptoms: Epistaxis; sneezing and coryza in the morning on waking.\n",
      "* Medicine: Scorpio, Area: Nose, Symptoms: Frequent sneezing.\n",
      "* Medicine: NymphÃ¦a Odorata, Area: Respiratory Organs, Symptoms: Some cough in morning.\n",
      "* Medicine: Lilium Tigrinum, Area: Nose, Symptoms: Sneezing and fluent coryza all day. Running from nose renewed after a glass of cold water; feeling of heat in face and over whole body as in fever; after a while prickling as in perspiration with only moist skin. Snuff has a greater effect than usual in evening.\n",
      "* Medicine: Stachys Betonica, Area: Nose, Symptoms: Frequent sneezing; on going indoors from open air; increased nasal mucus.\n",
      "* Medicine: Sulphurosum Acidum, Area: Nose, Symptoms: Sneezing and coryza.\n",
      "* Medicine: Mimosa, Area: Nose, Symptoms: Sneezing and coryza.\n",
      "* Medicine: Plectranthus, Area: Nose, Symptoms: Excessive catarrh, frequent inclination to sneeze; great stoppage with at times discharge of tenacious yellow mucus. Dryness, mornings.\n",
      "* Medicine: Viburnum Opulus, Area: Nose, Symptoms: Sneezing. Watery coryza.\n",
      "* Medicine: Cornus Alternifolia, Area: Nose, Symptoms: Sneezing; head partially stopped up towards night.\n",
      "* Medicine: Baryta Muriatica, Area: Nose, Symptoms: Sneezing in sleep. Coryza.\n",
      "* Medicine: Hall, Area: Nose, Symptoms: Frequent (violent) sneezing and feeling of commencing coryza.\n",
      "* Medicine: Itu, Area: Nose, Symptoms: Repeated sneezing. Coryza (9th day).\n",
      "* Medicine: Cimex, Area: Nose, Symptoms: Annoying dryness of nostrils. Fluent coryza with pressure in frontal sinuses. Constant sneezing in forenoon. Sweat on nose, morning, during rest.\n",
      "* Medicine: Digitalinum, Area: Nose, Symptoms: Frequent sneezing and coryza; with pressing, throbbing pains in arms; nasal mucus streaked with blood in morning; smell lost.\n",
      "* Medicine: Saponinum, Area: Nose, Symptoms: Dry coryza and frequent sneezing. R. nostril plugged in morning, with headache. Dull pain at root of nose and in temples. Nose cold and pale.\n",
      "* Medicine: Saccharum Officinale, Area: Nose, Symptoms: Sneezing; dry coryza.\n",
      "* Medicine: Triosteum, Area: Nose, Symptoms: Sneezing.\n",
      "* Medicine: Ammoniacum, Area: Nose, Symptoms: Painful dryness in the nose on rising in the morning. Increase of nasal mucus. Sneezing, followed by an abundant flow of mucus from the nose. Constant motion of alÃ¦ nasi.\n",
      "* Medicine: Iris Versicolor, Area: Nose, Symptoms: Constant sneezing.\n",
      "* Medicine: Arsenicum Metallicum, Area: Nose, Symptoms: Coryza and hoarseness < in morning. Eyes red, excoriating tears, nose swollen, head feels enlarged, full as if tied up; sneezing and dyspnÅa increase every second day; return every two weeks.\n",
      "* Medicine: Kali Ferrocyanatum, Area: Nose, Symptoms: Much sneezing during pressure and mucous discharge.\n",
      "* Medicine: Salicylicum Acidum, Area: Nose, Symptoms: Wants to sneeze. Sneezing. Incipient catarrh; patients, esp. children, sneeze all day.\n",
      "* Medicine: Lycopodium, Area: Nose, Symptoms: Sneezing and slight nasal catarrh.\n",
      "* Medicine: Kali Phosphoricum, Area: Nose, Symptoms: (An inveterate catarrh was greatly relieved after proving the 30th. Thick yellow discharge, < morning.). Nostrils stopped, discharge of clear, stringy mucus. Obstruction; sneezes on slightest exposure to air 2 a.m.; fluent watery coryza. Violent sneezing with symptoms of fresh cold. Sores inside nares with yellow crusts, and dark blood. Symptoms of cold with headache. Soft green or white discharge (< r. nostril). Small growth, very sensitive, at opening of l. nostril (lasted two weeks). Very sensitive smell and lack of smell.\n",
      "* Medicine: Sol, Area: Nose, Symptoms: Sneezing, with a little sore throat, as if she had taken cold.\n",
      "* Medicine: Jacaranda Caroba, Area: Nose, Symptoms: Sneezing and fluent coryza. Coryza, with heaviness and weariness at the vertex, forehead, and eyes.\n",
      "* Medicine: Tongo, Area: Nose, Symptoms: Coryza, with obstruction of nose. Violent sneezing in the night. Slight tearing in root of nose with irritation to sneeze and cough.\n",
      "* Medicine: Zingiber, Area: Nose, Symptoms: Coryza, watery, sneezing, more in open air. Insupportable itching, tingling in nostrils. Dryness and obstruction in posterior nares, with discharge of thick mucus. OzÃ¦na.\n",
      "* Medicine: Skookum Chuck, Area: Nose, Symptoms: Profuse coryza with constant sneezing as in hay-fever; symptoms so severe had to discontinue the remedy; (symptoms continued until antidoted by tobacco).\n",
      "* Medicine: Myrtus Communis, Area: Nose, Symptoms: Coryza with cough.\n",
      "* Medicine: Mercurius Sulphuricus, Area: Nose, Symptoms: Sneezing; in sunshine; with fluent coryza. Swelling and soreness of tip of nose. Itching of nose.\n",
      "* Medicine: Tetradymite, Area: Nose, Symptoms: Repeated sneezing on going out; with discharge of thin mucus.\n",
      "* Medicine: Cornus Circinata, Area: Nose, Symptoms: Prickling in nose and nasal bones. Coryza early in morning.\n",
      "* Medicine: Mimosa, Area: Respiratory Organs, Symptoms: Dry cough in morning. Difficult breathing.\n",
      "* Medicine: Scilla Maritima, Area: Nose, Symptoms: Violent, constant sneezing and fluent coryza. Sneezes during cough; eyes water, rubs eyes and nose. Acrid, corrosive, fluent coryza in morning; a regular general snizzle; mucous cough with spurting of urine and even of watery stools. Coryza with ulcerated nostrils. Nostrils painful as if sore, with violent coryza (in morning). Humid eruptions under nose, with stinging itching.\n",
      "* Medicine: China Boliviana, Area: Nose, Symptoms: Much sneezing on awaking with smell of fresh pus. Sensation of incipient cold with tight feeling and pain in throat. Violent cold in head. Mucus from posterior nares.\n",
      "* Medicine: Eupatorium Perfoliatum, Area: Nose, Symptoms: Coryza, with sneezing; aching in every bone.\n",
      "* Medicine: Colocynthinum, Area: Respiratory Organs, Symptoms: Short hacking cough excited by tickling in throat; whitish yellow mucus. Frequent cough in early morning.\n",
      "* Medicine: Mitchella, Area: Respiratory Organs, Symptoms: Much mucus in bronchi. Dry, hacking cough in morning. Breathing difficult 11 a.m.\n",
      "* Medicine: Apocynum Cannabinum, Area: Nose, Symptoms: Violent coryza. Nose and throat filled with thick yellow mucus on waking in morning. (\"Snuffles\" in infants.). Peculiar dryness of mucous membranes of nose with sensation of stiffness, followed by secretion of thick yellow mucus, preceded in some cases by a thin, irritating discharge.\n",
      "* Medicine: Cyclamen, Area: Nose, Symptoms: Diminution of smell. Fluent coryza, with sneezing (morning).\n",
      "* Medicine: Ammonium Bromatum, Area: Nose, Symptoms: Sneezing on moving about in cold room, or on raising arms; thin discharge from r. nostril (next day thicker). Sneezing on going into warm room; stoppage of nose in warm room.\n",
      "* Medicine: Franzensbad, Area: Nose, Symptoms: Fluent coryza in moving after rising, with constant tickling in l. nostril, lachrymation of l. eye and frequent sneezing.\n",
      "* Medicine: Calcarea Phosphorica, Area: Nose, Symptoms: Coryza: fluent in cold room; stopped in warm air and out of doors. Swollen nose with sore nostrils in scrofulous children. Large pedunculated polypi. Streaks of blood, nose-bleed in afternoon. Frequent sneezing, with flow of mucus from the nose, and salivation. Blood follows when the nose is blown.\n",
      "* Medicine: Lithium Muriaticum, Area: Nose, Symptoms: Dryness of nose, with fulness, followed by sneezing.\n",
      "* Medicine: Prunus Spinosa, Area: Nose, Symptoms: Frequent sneezing. Pressing-asunder pains about nasal bones.\n",
      "* Medicine: Linaria, Area: Nose, Symptoms: Sneezing; at night. Mucus from nose, occasionally rose colour. Fluent coryza. Nose stopped, and running a clear, profuse mucus from first one nostril for several days, then the other.\n",
      "* Medicine: Wildbad, Area: Nose, Symptoms: Blood from r. nostril in morning.\n",
      "* Medicine: Zincum Valerianicum, Area: Nose, Symptoms: Hard sneezing.\n",
      "* Medicine: Mancinella, Area: Nose, Symptoms: Coryza.\n",
      "* Medicine: Formica, Area: Throat, Symptoms: Sore throat in morning, with much mucus. Sore throat < l. side.\n",
      "* Medicine: Gelsemium, Area: Nose, Symptoms: Sneezing followed by tingling and fulness in the nose. Early morning sneezing; streaming of water from nose. Sneezing with fluent coryza; profuse watery discharge excoriates the nostrils. Sensation of fulness at root of nose extending to neck and clavicles.\n",
      "* Medicine: Chininum Sulphuricum, Area: Nose, Symptoms: Frequent bleeding at the nose. Frequent sneezing.\n",
      "* Medicine: Quininum, Area: Nose, Symptoms: Frequent bleeding at the nose. Frequent sneezing.\n",
      "* Medicine: Cistus Canadensis, Area: Nose, Symptoms: Cold feeling, or burning in nose. Chronic catarrh; frequent and violent sneezing evening and morning. Inflammation, swelling and burning l. side of nose. Tip of nose painful. Eczema.\n",
      "* Medicine: Asclepias Tuberosa, Area: Nose, Symptoms: Fluent coryza, with much sneezing. Blowing of blood from l. nostril. Itching of the nose. Snuffles of children.\n",
      "* Medicine: Eriodictyon Glutinosum, Area: Nose, Symptoms: Sneezing. Catarrh, yellowish-green. Coryza permanent; with more or less dizziness.\n",
      "* Medicine: Badiaga, Area: Nose, Symptoms: Profuse coryza, mostly from the l. nostril; comes with a gush; worse in afternoon and evening; with sneezing. Coryza and cough. Itching of l. ala nasi.\n",
      "* Medicine: NymphÃ¦a Odorata, Area: Nose, Symptoms: Severe coryza.\n",
      "* Medicine: Narcissus, Area: Nose, Symptoms: Severe coryza.\n",
      "* Medicine: Coqueluchinum, Area: Eyes, Symptoms: Coryza with hacking cough.\n",
      "* Medicine: Oleum Jecoris Aselli, Area: Nose, Symptoms: Dry coryza, cough and sneezing. Fluent coryza, hoarseness and rawness of chest. Chronic catarrh and ozÃ¦na. Nose-bleed when sleeping, with amenorrhÅa.\n",
      "* Medicine: Ozonum, Area: Nose, Symptoms: Much indurated mucus in nose, necessitating frequent picking; in morning blowing out of lumps, generally tough, opaque, whitish yellow. Sneezes with the cough (Oz.).\n",
      "\n",
      " Q: What are the best medicines for frequent colds with sneezing that increases in the morning?\n",
      " A:\n"
     ]
    }
   ],
   "source": [
    "prompt = construct_prompt(\n",
    "    \"What are the best medicines for frequent colds with sneezing that increases in the morning?\",\n",
    "    document_embeddings,\n",
    "    df\n",
    ")\n",
    "\n",
    "print(\"===\\n\", prompt)"
   ]
  },
  {
   "cell_type": "code",
   "execution_count": 111,
   "id": "b0edfec7-9243-4573-92e0-253d31c771ad",
   "metadata": {},
   "outputs": [],
   "source": [
    "COMPLETIONS_API_PARAMS = {\n",
    "    # We use temperature of 0.0 because it gives the most predictable, factual answer.\n",
    "    \"temperature\": 0.0,\n",
    "    \"max_tokens\": 300,\n",
    "    \"model\": COMPLETIONS_MODEL,\n",
    "}"
   ]
  },
  {
   "cell_type": "code",
   "execution_count": 113,
   "id": "9c1c9a69-848e-4099-a90d-c8da36c153d5",
   "metadata": {},
   "outputs": [],
   "source": [
    "def answer_query_with_context(\n",
    "    query: str,\n",
    "    df: pd.DataFrame,\n",
    "    document_embeddings: dict[(str, str), np.array],\n",
    "    show_prompt: bool = False\n",
    ") -> str:\n",
    "    prompt = construct_prompt(\n",
    "        query,\n",
    "        document_embeddings,\n",
    "        df\n",
    "    )\n",
    "    \n",
    "    if show_prompt:\n",
    "        print(prompt)\n",
    "\n",
    "    response = openai.Completion.create(\n",
    "                prompt=prompt,\n",
    "                **COMPLETIONS_API_PARAMS\n",
    "            )\n",
    "\n",
    "    return response[\"choices\"][0][\"text\"].strip(\" \\n\")"
   ]
  },
  {
   "cell_type": "code",
   "execution_count": 115,
   "id": "c233e449-bf33-4c9e-b095-6a4dd278c8fd",
   "metadata": {},
   "outputs": [
    {
     "data": {
      "text/plain": [
       "'The best 5 medicines for frequent cold with sneezing upon waking up are: \\n1. Asterias Rubens: Nose, Symptoms: Epistaxis; sneezing and coryza in the morning on waking.\\n2. Baryta Muriatica: Nose, Symptoms: Sneezing in sleep. Coryza.\\n3. Plectranthus: Nose, Symptoms: Excessive catarrh, frequent inclination to sneeze; great stoppage with at times discharge of tenacious yellow mucus. Dryness, mornings.\\n4. Lilium Tigrinum: Nose, Symptoms: Sneezing and fluent coryza all day. Running from nose renewed after a glass of cold water; feeling of heat in face and over whole body as in fever; after a while prickling as in perspiration with only moist skin. Snuff has a greater effect than usual in evening.\\n5. Cornus Alternifolia: Nose, Symptoms: Sneezing; head partially stopped up towards night.'"
      ]
     },
     "execution_count": 115,
     "metadata": {},
     "output_type": "execute_result"
    }
   ],
   "source": [
    "answer_query_with_context(\"Medicine for frequent cold with sneezing upon waking up?\", df, document_embeddings)b"
   ]
  },
  {
   "cell_type": "code",
   "execution_count": 117,
   "id": "b0c66d80",
   "metadata": {},
   "outputs": [],
   "source": [
    "answer_query_with_context(\"Medicine for headache at top of head. Headache feels better after pressing hard.\", df, document_embeddings)"
   ]
  },
  {
   "cell_type": "code",
   "execution_count": null,
   "id": "2862a897",
   "metadata": {},
   "outputs": [],
   "source": []
  }
 ],
 "metadata": {
  "kernelspec": {
   "display_name": "hf",
   "language": "python",
   "name": "python3"
  },
  "language_info": {
   "codemirror_mode": {
    "name": "ipython",
    "version": 3
   },
   "file_extension": ".py",
   "mimetype": "text/x-python",
   "name": "python",
   "nbconvert_exporter": "python",
   "pygments_lexer": "ipython3",
   "version": "3.10.9"
  },
  "vscode": {
   "interpreter": {
    "hash": "db74b66ac03fc5d0d003a202a76291a9ddcb489c737689b73f0c54cb4c56a8e4"
   }
  }
 },
 "nbformat": 4,
 "nbformat_minor": 5
}
